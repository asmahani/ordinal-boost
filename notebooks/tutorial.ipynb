{
 "cells": [
  {
   "cell_type": "markdown",
   "id": "eb3a40a0-127d-4219-ad58-040bb732c8e9",
   "metadata": {},
   "source": [
    "# Gradient Boosting Ordinal Regression: The `gbor` Python package\n",
    "\n",
    "`gbor` is the Python implementation of a novel mathematical framework for adapting machine learning (ML) models to handle ordinal response variables. Our approach is inspired by functional gradient descent used in gradient boosting and can be viewed as an extension of coordinate descent, where an ML regression model is embedded within a standard ordinal regression framework (e.g., logit or probit). The training process involves alternating between refining the ML model to predict a latent variable and adjusting the threshold vector applied to this latent variable to produce the ordinal response.\r\n",
    "\r\n",
    "The workhorse is the `BoostedOrdinal` class, which conforms to `scikit-learn` conventions, including implementation of `fit`, `predict` and `predict_proba` methods. This allows for easy wrapping of the learner in hyperparameter tuning facilities provided in scikit-learn such as `GridSearch`.\n",
    "\n",
    "## Data\n",
    "\n",
    "In this tutorial, we illustrate the use of `gbor` package using the *wine quality* dataset, which can be downloaded from the [UCI ML repository](https://archive.ics.uci.edu/dataset/186/wine+quality):.\r\n"
   ]
  },
  {
   "cell_type": "code",
   "execution_count": 1,
   "id": "23a9933c-2682-441f-9793-8ee01e5f324c",
   "metadata": {},
   "outputs": [
    {
     "data": {
      "text/html": [
       "<div>\n",
       "<style scoped>\n",
       "    .dataframe tbody tr th:only-of-type {\n",
       "        vertical-align: middle;\n",
       "    }\n",
       "\n",
       "    .dataframe tbody tr th {\n",
       "        vertical-align: top;\n",
       "    }\n",
       "\n",
       "    .dataframe thead th {\n",
       "        text-align: right;\n",
       "    }\n",
       "</style>\n",
       "<table border=\"1\" class=\"dataframe\">\n",
       "  <thead>\n",
       "    <tr style=\"text-align: right;\">\n",
       "      <th></th>\n",
       "      <th>fixed acidity</th>\n",
       "      <th>volatile acidity</th>\n",
       "      <th>citric acid</th>\n",
       "      <th>residual sugar</th>\n",
       "      <th>chlorides</th>\n",
       "      <th>free sulfur dioxide</th>\n",
       "      <th>total sulfur dioxide</th>\n",
       "      <th>density</th>\n",
       "      <th>pH</th>\n",
       "      <th>sulphates</th>\n",
       "      <th>alcohol</th>\n",
       "      <th>quality</th>\n",
       "    </tr>\n",
       "  </thead>\n",
       "  <tbody>\n",
       "    <tr>\n",
       "      <th>0</th>\n",
       "      <td>7.4</td>\n",
       "      <td>0.70</td>\n",
       "      <td>0.00</td>\n",
       "      <td>1.9</td>\n",
       "      <td>0.076</td>\n",
       "      <td>11.0</td>\n",
       "      <td>34.0</td>\n",
       "      <td>0.9978</td>\n",
       "      <td>3.51</td>\n",
       "      <td>0.56</td>\n",
       "      <td>9.4</td>\n",
       "      <td>5</td>\n",
       "    </tr>\n",
       "    <tr>\n",
       "      <th>1</th>\n",
       "      <td>7.8</td>\n",
       "      <td>0.88</td>\n",
       "      <td>0.00</td>\n",
       "      <td>2.6</td>\n",
       "      <td>0.098</td>\n",
       "      <td>25.0</td>\n",
       "      <td>67.0</td>\n",
       "      <td>0.9968</td>\n",
       "      <td>3.20</td>\n",
       "      <td>0.68</td>\n",
       "      <td>9.8</td>\n",
       "      <td>5</td>\n",
       "    </tr>\n",
       "    <tr>\n",
       "      <th>2</th>\n",
       "      <td>7.8</td>\n",
       "      <td>0.76</td>\n",
       "      <td>0.04</td>\n",
       "      <td>2.3</td>\n",
       "      <td>0.092</td>\n",
       "      <td>15.0</td>\n",
       "      <td>54.0</td>\n",
       "      <td>0.9970</td>\n",
       "      <td>3.26</td>\n",
       "      <td>0.65</td>\n",
       "      <td>9.8</td>\n",
       "      <td>5</td>\n",
       "    </tr>\n",
       "    <tr>\n",
       "      <th>3</th>\n",
       "      <td>11.2</td>\n",
       "      <td>0.28</td>\n",
       "      <td>0.56</td>\n",
       "      <td>1.9</td>\n",
       "      <td>0.075</td>\n",
       "      <td>17.0</td>\n",
       "      <td>60.0</td>\n",
       "      <td>0.9980</td>\n",
       "      <td>3.16</td>\n",
       "      <td>0.58</td>\n",
       "      <td>9.8</td>\n",
       "      <td>6</td>\n",
       "    </tr>\n",
       "    <tr>\n",
       "      <th>4</th>\n",
       "      <td>7.4</td>\n",
       "      <td>0.70</td>\n",
       "      <td>0.00</td>\n",
       "      <td>1.9</td>\n",
       "      <td>0.076</td>\n",
       "      <td>11.0</td>\n",
       "      <td>34.0</td>\n",
       "      <td>0.9978</td>\n",
       "      <td>3.51</td>\n",
       "      <td>0.56</td>\n",
       "      <td>9.4</td>\n",
       "      <td>5</td>\n",
       "    </tr>\n",
       "  </tbody>\n",
       "</table>\n",
       "</div>"
      ],
      "text/plain": [
       "   fixed acidity  volatile acidity  citric acid  residual sugar  chlorides  \\\n",
       "0            7.4              0.70         0.00             1.9      0.076   \n",
       "1            7.8              0.88         0.00             2.6      0.098   \n",
       "2            7.8              0.76         0.04             2.3      0.092   \n",
       "3           11.2              0.28         0.56             1.9      0.075   \n",
       "4            7.4              0.70         0.00             1.9      0.076   \n",
       "\n",
       "   free sulfur dioxide  total sulfur dioxide  density    pH  sulphates  \\\n",
       "0                 11.0                  34.0   0.9978  3.51       0.56   \n",
       "1                 25.0                  67.0   0.9968  3.20       0.68   \n",
       "2                 15.0                  54.0   0.9970  3.26       0.65   \n",
       "3                 17.0                  60.0   0.9980  3.16       0.58   \n",
       "4                 11.0                  34.0   0.9978  3.51       0.56   \n",
       "\n",
       "   alcohol  quality  \n",
       "0      9.4        5  \n",
       "1      9.8        5  \n",
       "2      9.8        5  \n",
       "3      9.8        6  \n",
       "4      9.4        5  "
      ]
     },
     "execution_count": 1,
     "metadata": {},
     "output_type": "execute_result"
    }
   ],
   "source": [
    "import pandas as pd\n",
    "wine_red = pd.read_csv('../data/winequality-red.csv', sep = ';')\n",
    "wine_red.head()"
   ]
  },
  {
   "cell_type": "markdown",
   "id": "7d35f787-a27d-4ae0-ac67-4ba867274e62",
   "metadata": {},
   "source": [
    "We will use the `quality` column as ordinal response variable, which contains levels 3 through 8. We will use the remaining columns of the data as features."
   ]
  },
  {
   "cell_type": "code",
   "execution_count": 2,
   "id": "92c5b317-cd80-4a8b-9675-5701d7b7de5f",
   "metadata": {},
   "outputs": [
    {
     "data": {
      "text/html": [
       "<div>\n",
       "<style scoped>\n",
       "    .dataframe tbody tr th:only-of-type {\n",
       "        vertical-align: middle;\n",
       "    }\n",
       "\n",
       "    .dataframe tbody tr th {\n",
       "        vertical-align: top;\n",
       "    }\n",
       "\n",
       "    .dataframe thead th {\n",
       "        text-align: right;\n",
       "    }\n",
       "</style>\n",
       "<table border=\"1\" class=\"dataframe\">\n",
       "  <thead>\n",
       "    <tr style=\"text-align: right;\">\n",
       "      <th></th>\n",
       "      <th>fixed acidity</th>\n",
       "      <th>volatile acidity</th>\n",
       "      <th>citric acid</th>\n",
       "      <th>residual sugar</th>\n",
       "      <th>chlorides</th>\n",
       "      <th>free sulfur dioxide</th>\n",
       "      <th>total sulfur dioxide</th>\n",
       "      <th>density</th>\n",
       "      <th>pH</th>\n",
       "      <th>sulphates</th>\n",
       "      <th>alcohol</th>\n",
       "      <th>quality</th>\n",
       "    </tr>\n",
       "  </thead>\n",
       "  <tbody>\n",
       "    <tr>\n",
       "      <th>count</th>\n",
       "      <td>1599.000000</td>\n",
       "      <td>1599.000000</td>\n",
       "      <td>1599.000000</td>\n",
       "      <td>1599.000000</td>\n",
       "      <td>1599.000000</td>\n",
       "      <td>1599.000000</td>\n",
       "      <td>1599.000000</td>\n",
       "      <td>1599.000000</td>\n",
       "      <td>1599.000000</td>\n",
       "      <td>1599.000000</td>\n",
       "      <td>1599.000000</td>\n",
       "      <td>1599.000000</td>\n",
       "    </tr>\n",
       "    <tr>\n",
       "      <th>mean</th>\n",
       "      <td>8.319637</td>\n",
       "      <td>0.527821</td>\n",
       "      <td>0.270976</td>\n",
       "      <td>2.538806</td>\n",
       "      <td>0.087467</td>\n",
       "      <td>15.874922</td>\n",
       "      <td>46.467792</td>\n",
       "      <td>0.996747</td>\n",
       "      <td>3.311113</td>\n",
       "      <td>0.658149</td>\n",
       "      <td>10.422983</td>\n",
       "      <td>5.636023</td>\n",
       "    </tr>\n",
       "    <tr>\n",
       "      <th>std</th>\n",
       "      <td>1.741096</td>\n",
       "      <td>0.179060</td>\n",
       "      <td>0.194801</td>\n",
       "      <td>1.409928</td>\n",
       "      <td>0.047065</td>\n",
       "      <td>10.460157</td>\n",
       "      <td>32.895324</td>\n",
       "      <td>0.001887</td>\n",
       "      <td>0.154386</td>\n",
       "      <td>0.169507</td>\n",
       "      <td>1.065668</td>\n",
       "      <td>0.807569</td>\n",
       "    </tr>\n",
       "    <tr>\n",
       "      <th>min</th>\n",
       "      <td>4.600000</td>\n",
       "      <td>0.120000</td>\n",
       "      <td>0.000000</td>\n",
       "      <td>0.900000</td>\n",
       "      <td>0.012000</td>\n",
       "      <td>1.000000</td>\n",
       "      <td>6.000000</td>\n",
       "      <td>0.990070</td>\n",
       "      <td>2.740000</td>\n",
       "      <td>0.330000</td>\n",
       "      <td>8.400000</td>\n",
       "      <td>3.000000</td>\n",
       "    </tr>\n",
       "    <tr>\n",
       "      <th>25%</th>\n",
       "      <td>7.100000</td>\n",
       "      <td>0.390000</td>\n",
       "      <td>0.090000</td>\n",
       "      <td>1.900000</td>\n",
       "      <td>0.070000</td>\n",
       "      <td>7.000000</td>\n",
       "      <td>22.000000</td>\n",
       "      <td>0.995600</td>\n",
       "      <td>3.210000</td>\n",
       "      <td>0.550000</td>\n",
       "      <td>9.500000</td>\n",
       "      <td>5.000000</td>\n",
       "    </tr>\n",
       "    <tr>\n",
       "      <th>50%</th>\n",
       "      <td>7.900000</td>\n",
       "      <td>0.520000</td>\n",
       "      <td>0.260000</td>\n",
       "      <td>2.200000</td>\n",
       "      <td>0.079000</td>\n",
       "      <td>14.000000</td>\n",
       "      <td>38.000000</td>\n",
       "      <td>0.996750</td>\n",
       "      <td>3.310000</td>\n",
       "      <td>0.620000</td>\n",
       "      <td>10.200000</td>\n",
       "      <td>6.000000</td>\n",
       "    </tr>\n",
       "    <tr>\n",
       "      <th>75%</th>\n",
       "      <td>9.200000</td>\n",
       "      <td>0.640000</td>\n",
       "      <td>0.420000</td>\n",
       "      <td>2.600000</td>\n",
       "      <td>0.090000</td>\n",
       "      <td>21.000000</td>\n",
       "      <td>62.000000</td>\n",
       "      <td>0.997835</td>\n",
       "      <td>3.400000</td>\n",
       "      <td>0.730000</td>\n",
       "      <td>11.100000</td>\n",
       "      <td>6.000000</td>\n",
       "    </tr>\n",
       "    <tr>\n",
       "      <th>max</th>\n",
       "      <td>15.900000</td>\n",
       "      <td>1.580000</td>\n",
       "      <td>1.000000</td>\n",
       "      <td>15.500000</td>\n",
       "      <td>0.611000</td>\n",
       "      <td>72.000000</td>\n",
       "      <td>289.000000</td>\n",
       "      <td>1.003690</td>\n",
       "      <td>4.010000</td>\n",
       "      <td>2.000000</td>\n",
       "      <td>14.900000</td>\n",
       "      <td>8.000000</td>\n",
       "    </tr>\n",
       "  </tbody>\n",
       "</table>\n",
       "</div>"
      ],
      "text/plain": [
       "       fixed acidity  volatile acidity  citric acid  residual sugar  \\\n",
       "count    1599.000000       1599.000000  1599.000000     1599.000000   \n",
       "mean        8.319637          0.527821     0.270976        2.538806   \n",
       "std         1.741096          0.179060     0.194801        1.409928   \n",
       "min         4.600000          0.120000     0.000000        0.900000   \n",
       "25%         7.100000          0.390000     0.090000        1.900000   \n",
       "50%         7.900000          0.520000     0.260000        2.200000   \n",
       "75%         9.200000          0.640000     0.420000        2.600000   \n",
       "max        15.900000          1.580000     1.000000       15.500000   \n",
       "\n",
       "         chlorides  free sulfur dioxide  total sulfur dioxide      density  \\\n",
       "count  1599.000000          1599.000000           1599.000000  1599.000000   \n",
       "mean      0.087467            15.874922             46.467792     0.996747   \n",
       "std       0.047065            10.460157             32.895324     0.001887   \n",
       "min       0.012000             1.000000              6.000000     0.990070   \n",
       "25%       0.070000             7.000000             22.000000     0.995600   \n",
       "50%       0.079000            14.000000             38.000000     0.996750   \n",
       "75%       0.090000            21.000000             62.000000     0.997835   \n",
       "max       0.611000            72.000000            289.000000     1.003690   \n",
       "\n",
       "                pH    sulphates      alcohol      quality  \n",
       "count  1599.000000  1599.000000  1599.000000  1599.000000  \n",
       "mean      3.311113     0.658149    10.422983     5.636023  \n",
       "std       0.154386     0.169507     1.065668     0.807569  \n",
       "min       2.740000     0.330000     8.400000     3.000000  \n",
       "25%       3.210000     0.550000     9.500000     5.000000  \n",
       "50%       3.310000     0.620000    10.200000     6.000000  \n",
       "75%       3.400000     0.730000    11.100000     6.000000  \n",
       "max       4.010000     2.000000    14.900000     8.000000  "
      ]
     },
     "execution_count": 2,
     "metadata": {},
     "output_type": "execute_result"
    }
   ],
   "source": [
    "wine_red.describe()"
   ]
  },
  {
   "cell_type": "markdown",
   "id": "8de78807-4eca-4981-9c1c-a3c1969e58fb",
   "metadata": {},
   "source": [
    "Before applying performing ordinal regression, we must convert the ordinal column to standard format expected by the `BoostedOrdinal` learner, i.e., class labels must take integer values between $0$ and $M-1$, with $M$ being the number of classes:"
   ]
  },
  {
   "cell_type": "code",
   "execution_count": 3,
   "id": "e1a4abb4-de3b-4350-bde1-67ed412be03a",
   "metadata": {},
   "outputs": [
    {
     "data": {
      "text/plain": [
       "count    1599.000000\n",
       "mean        2.636023\n",
       "std         0.807569\n",
       "min         0.000000\n",
       "25%         2.000000\n",
       "50%         3.000000\n",
       "75%         3.000000\n",
       "max         5.000000\n",
       "Name: quality, dtype: float64"
      ]
     },
     "execution_count": 3,
     "metadata": {},
     "output_type": "execute_result"
    }
   ],
   "source": [
    "wine_red['quality'] = wine_red['quality'] - 3\n",
    "wine_red['quality'].describe()"
   ]
  },
  {
   "cell_type": "markdown",
   "id": "09d0f6f0-e5e6-4f62-a24c-e1a4d8505c2b",
   "metadata": {},
   "source": [
    "Let's create a histogram of the response variable to inspect class imbalance:"
   ]
  },
  {
   "cell_type": "code",
   "execution_count": 20,
   "id": "2a2bf50f-ae86-48e7-a091-f743a0af51fc",
   "metadata": {},
   "outputs": [
    {
     "data": {
      "image/png": "[encoded data removed]",
      "text/plain": [
       "<Figure size 640x480 with 1 Axes>"
      ]
     },
     "metadata": {},
     "output_type": "display_data"
    },
    {
     "name": "stdout",
     "output_type": "stream",
     "text": [
      "Distribution of ordinal response:\n"
     ]
    },
    {
     "data": {
      "text/plain": [
       "(array([0, 1, 2, 3, 4, 5], dtype=int64),\n",
       " array([ 10,  53, 681, 638, 199,  18], dtype=int64))"
      ]
     },
     "execution_count": 20,
     "metadata": {},
     "output_type": "execute_result"
    }
   ],
   "source": [
    "import matplotlib.pyplot as plt\n",
    "\n",
    "wine_red['quality'].hist(edgecolor = 'black', align = 'mid', bins = [i - 0.5 for i in range(7)])\n",
    "plt.xlabel('Wine Quality')\n",
    "plt.ylabel('Frequency')\n",
    "plt.title('Histogram of Ordinal Response')\n",
    "\n",
    "plt.show()\n",
    "\n",
    "import numpy as np\n",
    "\n",
    "print('Distribution of ordinal response:')\n",
    "np.unique(wine_red['quality'], return_counts = True)"
   ]
  },
  {
   "cell_type": "markdown",
   "id": "1cda2650-077f-498a-88a4-9269d0035e65",
   "metadata": {},
   "source": [
    "Before proceeding with ordinal regression models, we extract the feature matrix and response vector, and also split the data into train/test sets:"
   ]
  },
  {
   "cell_type": "code",
   "execution_count": 50,
   "id": "6a07ddef-a2c8-461d-ab51-284a3382714e",
   "metadata": {},
   "outputs": [],
   "source": [
    "from sklearn.model_selection import train_test_split\n",
    "\n",
    "X, y = wine_red.drop(columns = ['quality']).to_numpy(), wine_red['quality'].to_numpy(dtype = 'int')\n",
    "X_train, X_test, y_train, y_test = train_test_split(X, y, test_size = 0.4)"
   ]
  },
  {
   "cell_type": "markdown",
   "id": "75e2b3e9-8cb6-4200-9e25-ba7a6ef53e31",
   "metadata": {},
   "source": [
    "## Ordered Logit\n",
    "\n",
    "We use the `mord` package for training an ordered logit model (add a brief description of the model linearity in this context), and calculate the classification error as well Manhattan distance. While classification error is insensitive to the distance between predicted and actual classes, Manhattan distance reflects this distance, which is rather sensible given that we are dealing with an ordinal response.\n",
    "\n",
    "We also set `alpha` to zero to bypass any regularization since we have a decent ratio of observations:"
   ]
  },
  {
   "cell_type": "code",
   "execution_count": 51,
   "id": "039f6f22-82cb-4251-8749-7b1688e4f2bd",
   "metadata": {},
   "outputs": [
    {
     "name": "stdout",
     "output_type": "stream",
     "text": [
      "Observation/feature ratio: 87\n",
      "Ordered logit - classification error: 0.4296875\n",
      "Ordered logit - Manhattan error: 0.4671875\n"
     ]
    }
   ],
   "source": [
    "from mord import LogisticIT\n",
    "mord_model = LogisticIT(alpha = 0.0)\n",
    "mord_model.fit(X_train, y_train)\n",
    "y_pred_mord = mord_model.predict(X_test)\n",
    "\n",
    "mord_classification_error, mord_manhattan_error = np.mean(y_test - y_pred_mord != 0), np.mean(abs(y_test - y_pred_mord))\n",
    "print('Observation/feature ratio:', int(X_train.shape[0] / X_train.shape[1]))\n",
    "print('Ordered logit - classification error:', mord_classification_error)\n",
    "print('Ordered logit - Manhattan error:', mord_manhattan_error)"
   ]
  },
  {
   "cell_type": "markdown",
   "id": "c45cd4d7-a527-4cd6-a823-3f61f348e0b6",
   "metadata": {},
   "source": [
    "## Gradient Boosting Ordinal Regression (GBOR)\n",
    "\n",
    "We now use the `gbor` package to train an ML ordinal regression model. We use a decision tree regressor as base learner, and also turn on early stopping via the `n_iter_no_change` parameter:"
   ]
  },
  {
   "cell_type": "code",
   "execution_count": 52,
   "id": "8ddba0d2-f5d5-4dde-bd70-6f1f94d9f535",
   "metadata": {},
   "outputs": [
    {
     "name": "stdout",
     "output_type": "stream",
     "text": [
      "GBOR - classification error: 0.403125\n",
      "GBOR - Manhattan error: 0.440625\n"
     ]
    }
   ],
   "source": [
    "from gbor.main import BoostedOrdinal\n",
    "from sklearn.tree import DecisionTreeRegressor\n",
    "\n",
    "gbor_model = BoostedOrdinal(n_iter_no_change = 10, max_iter = 1000, base_learner = DecisionTreeRegressor(max_depth = 6)).fit(X_train, y_train)\n",
    "y_pred_gbor = gbor_model.predict(X_test)\n",
    "\n",
    "gbor_classification_error, gbor_manhattan_error = np.mean(y_test - y_pred_gbor != 0), np.mean(abs(y_test - y_pred_gbor))\n",
    "print('GBOR - classification error:', gbor_classification_error)\n",
    "print('GBOR - Manhattan error:', gbor_manhattan_error)"
   ]
  },
  {
   "cell_type": "markdown",
   "id": "51e81595-fe5d-4027-b36d-6f15a58404b9",
   "metadata": {},
   "source": [
    "We see that `gbor` outeprforms `mord` by 2-3 percentage points on both metrics.\n",
    "\n",
    "## Hyperparameter Tuning for GBOR\n",
    "\n",
    "Any ML model has hyperparameters which can be tuned to improve predictive performance. GBOR is no exception. These hyperparameters include those of the base learner, as well as a few parameters that govern the GBOR meta-algorithm, including:\n",
    "1. `lr_g`: Learning rate for the gradient boosting step\n",
    "2. `lr_theta`: Learning rate for the threshold adjustment step\n",
    "3. `max_iter`: Maximum allowed number of boosting iterations\n",
    "\n",
    "The default base learner in `BoostedOrdinal` is the `DecisionTreeRegressor` from `sklearn` package. For a full list of its hyperparameters, see the official site [here](https://scikit-learn.org/stable/modules/generated/sklearn.tree.DecisionTreeRegressor.html).\n",
    "\n",
    "While an exhaustive discussion of hyperparameter tuning is beyond the scope of this tutorial, we illustrate how `sklearn`'s HPT facilities can be used with `BoostedOrdinal` to automate the HPT process and create a composite learner that is plug-and-play. We begin with the grid search HPT strategy.\n",
    "\n",
    "### Grid Search\n",
    "\n",
    "The `GridSearchCV` from `sklearn` allows us to wrap a learner in a cross-validation based grid search strategy. This approach requires the user to supply a hyperparameter grid for search. In creating the grid, we can refer to the base-learner HP's via the prefix `base_learner__`. We can also override the default HP's of the learner while instantiating a `BoostedOrdinal` instance, which will be cloned in the grid search wrapper. As long as these overridden values don't clash with the HP's being tuned, we are ok:"
   ]
  },
  {
   "cell_type": "code",
   "execution_count": 61,
   "id": "8047f49a-51a2-4c41-ad3b-73e9fd97b21b",
   "metadata": {},
   "outputs": [],
   "source": [
    "from sklearn.model_selection import GridSearchCV\n",
    "\n",
    "bor = BoostedOrdinal(n_iter_no_change = 10, max_iter = 1000, validation_fraction = 0.2)\n",
    "parameter_grid = {'base_learner__max_depth': [3, 6, 9], 'lr_g': [1e-1, 1e-2, 1e-3]}"
   ]
  },
  {
   "cell_type": "markdown",
   "id": "0d08c1eb-c138-4ff5-8cf0-03bd7bf402c9",
   "metadata": {},
   "source": [
    "As seen above, we are setting up a 3x3 grid using the `max_depth` HP for the decision tree, and the learning rate for the gradient boosting step. Each are arugably the most critical HP's in their respective categories. We now define the `GridSearchCV` composite learner, overriding the `scoring` metric (default is accuracy for classifiers) with negative log loss, which requires having implemented a `predict_proba` function for the `BoostedOrdinal` class."
   ]
  },
  {
   "cell_type": "code",
   "execution_count": 62,
   "id": "8f150992-93b6-42a9-8c65-b7c294bcc13a",
   "metadata": {},
   "outputs": [],
   "source": [
    "gscv_model = GridSearchCV(\n",
    "    bor, parameter_grid\n",
    "    , scoring = 'neg_log_loss'\n",
    ")"
   ]
  },
  {
   "cell_type": "markdown",
   "id": "fd2c9cb0-4924-42ae-b6f9-d20c7ec69deb",
   "metadata": {},
   "source": [
    "We can now `fit` this composite learner like any other learner. The HPT grid search is now internal to the learner, and we automatically get the best (i.e., tuned) learner back for prediction:"
   ]
  },
  {
   "cell_type": "code",
   "execution_count": 63,
   "id": "c0bd3b5d-0147-467c-b337-cd8bab22cb30",
   "metadata": {},
   "outputs": [
    {
     "data": {
      "text/html": [
       "<style>#sk-container-id-2 {color: black;background-color: white;}#sk-container-id-2 pre{padding: 0;}#sk-container-id-2 div.sk-toggleable {background-color: white;}#sk-container-id-2 label.sk-toggleable__label {cursor: pointer;display: block;width: 100%;margin-bottom: 0;padding: 0.3em;box-sizing: border-box;text-align: center;}#sk-container-id-2 label.sk-toggleable__label-arrow:before {content: \"▸\";float: left;margin-right: 0.25em;color: #696969;}#sk-container-id-2 label.sk-toggleable__label-arrow:hover:before {color: black;}#sk-container-id-2 div.sk-estimator:hover label.sk-toggleable__label-arrow:before {color: black;}#sk-container-id-2 div.sk-toggleable__content {max-height: 0;max-width: 0;overflow: hidden;text-align: left;background-color: #f0f8ff;}#sk-container-id-2 div.sk-toggleable__content pre {margin: 0.2em;color: black;border-radius: 0.25em;background-color: #f0f8ff;}#sk-container-id-2 input.sk-toggleable__control:checked~div.sk-toggleable__content {max-height: 200px;max-width: 100%;overflow: auto;}#sk-container-id-2 input.sk-toggleable__control:checked~label.sk-toggleable__label-arrow:before {content: \"▾\";}#sk-container-id-2 div.sk-estimator input.sk-toggleable__control:checked~label.sk-toggleable__label {background-color: #d4ebff;}#sk-container-id-2 div.sk-label input.sk-toggleable__control:checked~label.sk-toggleable__label {background-color: #d4ebff;}#sk-container-id-2 input.sk-hidden--visually {border: 0;clip: rect(1px 1px 1px 1px);clip: rect(1px, 1px, 1px, 1px);height: 1px;margin: -1px;overflow: hidden;padding: 0;position: absolute;width: 1px;}#sk-container-id-2 div.sk-estimator {font-family: monospace;background-color: #f0f8ff;border: 1px dotted black;border-radius: 0.25em;box-sizing: border-box;margin-bottom: 0.5em;}#sk-container-id-2 div.sk-estimator:hover {background-color: #d4ebff;}#sk-container-id-2 div.sk-parallel-item::after {content: \"\";width: 100%;border-bottom: 1px solid gray;flex-grow: 1;}#sk-container-id-2 div.sk-label:hover label.sk-toggleable__label {background-color: #d4ebff;}#sk-container-id-2 div.sk-serial::before {content: \"\";position: absolute;border-left: 1px solid gray;box-sizing: border-box;top: 0;bottom: 0;left: 50%;z-index: 0;}#sk-container-id-2 div.sk-serial {display: flex;flex-direction: column;align-items: center;background-color: white;padding-right: 0.2em;padding-left: 0.2em;position: relative;}#sk-container-id-2 div.sk-item {position: relative;z-index: 1;}#sk-container-id-2 div.sk-parallel {display: flex;align-items: stretch;justify-content: center;background-color: white;position: relative;}#sk-container-id-2 div.sk-item::before, #sk-container-id-2 div.sk-parallel-item::before {content: \"\";position: absolute;border-left: 1px solid gray;box-sizing: border-box;top: 0;bottom: 0;left: 50%;z-index: -1;}#sk-container-id-2 div.sk-parallel-item {display: flex;flex-direction: column;z-index: 1;position: relative;background-color: white;}#sk-container-id-2 div.sk-parallel-item:first-child::after {align-self: flex-end;width: 50%;}#sk-container-id-2 div.sk-parallel-item:last-child::after {align-self: flex-start;width: 50%;}#sk-container-id-2 div.sk-parallel-item:only-child::after {width: 0;}#sk-container-id-2 div.sk-dashed-wrapped {border: 1px dashed gray;margin: 0 0.4em 0.5em 0.4em;box-sizing: border-box;padding-bottom: 0.4em;background-color: white;}#sk-container-id-2 div.sk-label label {font-family: monospace;font-weight: bold;display: inline-block;line-height: 1.2em;}#sk-container-id-2 div.sk-label-container {text-align: center;}#sk-container-id-2 div.sk-container {/* jupyter's `normalize.less` sets `[hidden] { display: none; }` but bootstrap.min.css set `[hidden] { display: none !important; }` so we also need the `!important` here to be able to override the default hidden behavior on the sphinx rendered scikit-learn.org. See: https://github.com/scikit-learn/scikit-learn/issues/21755 */display: inline-block !important;position: relative;}#sk-container-id-2 div.sk-text-repr-fallback {display: none;}</style><div id=\"sk-container-id-2\" class=\"sk-top-container\"><div class=\"sk-text-repr-fallback\"><pre>GridSearchCV(estimator=BoostedOrdinal(max_iter=1000, n_iter_no_change=10,\n",
       "                                      validation_fraction=0.2),\n",
       "             param_grid={&#x27;base_learner__max_depth&#x27;: [3, 6, 9],\n",
       "                         &#x27;lr_g&#x27;: [0.1, 0.01, 0.001]},\n",
       "             scoring=&#x27;neg_log_loss&#x27;)</pre><b>In a Jupyter environment, please rerun this cell to show the HTML representation or trust the notebook. <br />On GitHub, the HTML representation is unable to render, please try loading this page with nbviewer.org.</b></div><div class=\"sk-container\" hidden><div class=\"sk-item sk-dashed-wrapped\"><div class=\"sk-label-container\"><div class=\"sk-label sk-toggleable\"><input class=\"sk-toggleable__control sk-hidden--visually\" id=\"sk-estimator-id-5\" type=\"checkbox\" ><label for=\"sk-estimator-id-5\" class=\"sk-toggleable__label sk-toggleable__label-arrow\">GridSearchCV</label><div class=\"sk-toggleable__content\"><pre>GridSearchCV(estimator=BoostedOrdinal(max_iter=1000, n_iter_no_change=10,\n",
       "                                      validation_fraction=0.2),\n",
       "             param_grid={&#x27;base_learner__max_depth&#x27;: [3, 6, 9],\n",
       "                         &#x27;lr_g&#x27;: [0.1, 0.01, 0.001]},\n",
       "             scoring=&#x27;neg_log_loss&#x27;)</pre></div></div></div><div class=\"sk-parallel\"><div class=\"sk-parallel-item\"><div class=\"sk-item\"><div class=\"sk-label-container\"><div class=\"sk-label sk-toggleable\"><input class=\"sk-toggleable__control sk-hidden--visually\" id=\"sk-estimator-id-6\" type=\"checkbox\" ><label for=\"sk-estimator-id-6\" class=\"sk-toggleable__label sk-toggleable__label-arrow\">estimator: BoostedOrdinal</label><div class=\"sk-toggleable__content\"><pre>BoostedOrdinal(max_iter=1000, n_iter_no_change=10, validation_fraction=0.2)</pre></div></div></div><div class=\"sk-serial\"><div class=\"sk-item sk-dashed-wrapped\"><div class=\"sk-parallel\"><div class=\"sk-parallel-item\"><div class=\"sk-item\"><div class=\"sk-label-container\"><div class=\"sk-label sk-toggleable\"><input class=\"sk-toggleable__control sk-hidden--visually\" id=\"sk-estimator-id-7\" type=\"checkbox\" ><label for=\"sk-estimator-id-7\" class=\"sk-toggleable__label sk-toggleable__label-arrow\">base_learner: DecisionTreeRegressor</label><div class=\"sk-toggleable__content\"><pre>DecisionTreeRegressor()</pre></div></div></div><div class=\"sk-serial\"><div class=\"sk-item\"><div class=\"sk-estimator sk-toggleable\"><input class=\"sk-toggleable__control sk-hidden--visually\" id=\"sk-estimator-id-8\" type=\"checkbox\" ><label for=\"sk-estimator-id-8\" class=\"sk-toggleable__label sk-toggleable__label-arrow\">DecisionTreeRegressor</label><div class=\"sk-toggleable__content\"><pre>DecisionTreeRegressor()</pre></div></div></div></div></div></div></div></div></div></div></div></div></div></div></div>"
      ],
      "text/plain": [
       "GridSearchCV(estimator=BoostedOrdinal(max_iter=1000, n_iter_no_change=10,\n",
       "                                      validation_fraction=0.2),\n",
       "             param_grid={'base_learner__max_depth': [3, 6, 9],\n",
       "                         'lr_g': [0.1, 0.01, 0.001]},\n",
       "             scoring='neg_log_loss')"
      ]
     },
     "execution_count": 63,
     "metadata": {},
     "output_type": "execute_result"
    }
   ],
   "source": [
    "gscv_model.fit(X_train, y_train)"
   ]
  },
  {
   "cell_type": "markdown",
   "id": "6637f6b2-e2be-4e25-aece-539d5751d92c",
   "metadata": {},
   "source": [
    "We can examine the best model to see the HP's selected during grid search:"
   ]
  },
  {
   "cell_type": "code",
   "execution_count": 64,
   "id": "e3dfc2aa-947e-46a0-b34c-4ca860d7680f",
   "metadata": {},
   "outputs": [
    {
     "name": "stdout",
     "output_type": "stream",
     "text": [
      "decision tree - max depth: 6\n",
      "gradient boosting - learning rate: 0.1\n"
     ]
    }
   ],
   "source": [
    "print('decision tree - max depth:', gscv_model.best_estimator_.base_learner.max_depth)\n",
    "print('gradient boosting - learning rate:', gscv_model.best_estimator_.lr_g)"
   ]
  },
  {
   "cell_type": "markdown",
   "id": "d8f62eec-740a-412c-a411-665d0be53f54",
   "metadata": {},
   "source": [
    "Let's calculate the same error metrics for this model:"
   ]
  },
  {
   "cell_type": "code",
   "execution_count": 65,
   "id": "b21b631b-2e70-4fac-9e25-9842399b7fe3",
   "metadata": {},
   "outputs": [
    {
     "name": "stdout",
     "output_type": "stream",
     "text": [
      "GBOR + grid seach - classification error: 0.40625\n",
      "GBOR + grid search - Manhattan error: 0.4390625\n"
     ]
    }
   ],
   "source": [
    "y_pred_gscv = gscv_model.predict(X_test)\n",
    "\n",
    "gscv_classification_error, gscv_manhattan_error = np.mean(y_test - y_pred_gscv != 0), np.mean(abs(y_test - y_pred_gscv))\n",
    "print('GBOR + grid seach - classification error:', gscv_classification_error)\n",
    "print('GBOR + grid search - Manhattan error:', gscv_manhattan_error)"
   ]
  },
  {
   "cell_type": "markdown",
   "id": "cf67e4ed-10ff-4883-9039-ca719020bae4",
   "metadata": {},
   "source": [
    "Note that training the model now takes significantly longer, despite a relatively coarse grid that we introduced. Adding more resolution, and more dimensions, to the grid will increase the training time, but also will likely result in better performance of the final model.\n",
    "\n",
    "### Random Search\n",
    "\n",
    "As argued in Bergstra and Bengio (2012), random search is more efficient than grid search in HPT. We can access this strategy in `sklearn` using the `RandomizedSearchCV` class. Here, instead of a grid we must provide a set of distributions for the strategy to draw each of the HP's from."
   ]
  },
  {
   "cell_type": "code",
   "execution_count": 75,
   "id": "b844146e-613f-456b-8c0a-f8a23ed79913",
   "metadata": {},
   "outputs": [
    {
     "data": {
      "text/html": [
       "<style>#sk-container-id-4 {color: black;background-color: white;}#sk-container-id-4 pre{padding: 0;}#sk-container-id-4 div.sk-toggleable {background-color: white;}#sk-container-id-4 label.sk-toggleable__label {cursor: pointer;display: block;width: 100%;margin-bottom: 0;padding: 0.3em;box-sizing: border-box;text-align: center;}#sk-container-id-4 label.sk-toggleable__label-arrow:before {content: \"▸\";float: left;margin-right: 0.25em;color: #696969;}#sk-container-id-4 label.sk-toggleable__label-arrow:hover:before {color: black;}#sk-container-id-4 div.sk-estimator:hover label.sk-toggleable__label-arrow:before {color: black;}#sk-container-id-4 div.sk-toggleable__content {max-height: 0;max-width: 0;overflow: hidden;text-align: left;background-color: #f0f8ff;}#sk-container-id-4 div.sk-toggleable__content pre {margin: 0.2em;color: black;border-radius: 0.25em;background-color: #f0f8ff;}#sk-container-id-4 input.sk-toggleable__control:checked~div.sk-toggleable__content {max-height: 200px;max-width: 100%;overflow: auto;}#sk-container-id-4 input.sk-toggleable__control:checked~label.sk-toggleable__label-arrow:before {content: \"▾\";}#sk-container-id-4 div.sk-estimator input.sk-toggleable__control:checked~label.sk-toggleable__label {background-color: #d4ebff;}#sk-container-id-4 div.sk-label input.sk-toggleable__control:checked~label.sk-toggleable__label {background-color: #d4ebff;}#sk-container-id-4 input.sk-hidden--visually {border: 0;clip: rect(1px 1px 1px 1px);clip: rect(1px, 1px, 1px, 1px);height: 1px;margin: -1px;overflow: hidden;padding: 0;position: absolute;width: 1px;}#sk-container-id-4 div.sk-estimator {font-family: monospace;background-color: #f0f8ff;border: 1px dotted black;border-radius: 0.25em;box-sizing: border-box;margin-bottom: 0.5em;}#sk-container-id-4 div.sk-estimator:hover {background-color: #d4ebff;}#sk-container-id-4 div.sk-parallel-item::after {content: \"\";width: 100%;border-bottom: 1px solid gray;flex-grow: 1;}#sk-container-id-4 div.sk-label:hover label.sk-toggleable__label {background-color: #d4ebff;}#sk-container-id-4 div.sk-serial::before {content: \"\";position: absolute;border-left: 1px solid gray;box-sizing: border-box;top: 0;bottom: 0;left: 50%;z-index: 0;}#sk-container-id-4 div.sk-serial {display: flex;flex-direction: column;align-items: center;background-color: white;padding-right: 0.2em;padding-left: 0.2em;position: relative;}#sk-container-id-4 div.sk-item {position: relative;z-index: 1;}#sk-container-id-4 div.sk-parallel {display: flex;align-items: stretch;justify-content: center;background-color: white;position: relative;}#sk-container-id-4 div.sk-item::before, #sk-container-id-4 div.sk-parallel-item::before {content: \"\";position: absolute;border-left: 1px solid gray;box-sizing: border-box;top: 0;bottom: 0;left: 50%;z-index: -1;}#sk-container-id-4 div.sk-parallel-item {display: flex;flex-direction: column;z-index: 1;position: relative;background-color: white;}#sk-container-id-4 div.sk-parallel-item:first-child::after {align-self: flex-end;width: 50%;}#sk-container-id-4 div.sk-parallel-item:last-child::after {align-self: flex-start;width: 50%;}#sk-container-id-4 div.sk-parallel-item:only-child::after {width: 0;}#sk-container-id-4 div.sk-dashed-wrapped {border: 1px dashed gray;margin: 0 0.4em 0.5em 0.4em;box-sizing: border-box;padding-bottom: 0.4em;background-color: white;}#sk-container-id-4 div.sk-label label {font-family: monospace;font-weight: bold;display: inline-block;line-height: 1.2em;}#sk-container-id-4 div.sk-label-container {text-align: center;}#sk-container-id-4 div.sk-container {/* jupyter's `normalize.less` sets `[hidden] { display: none; }` but bootstrap.min.css set `[hidden] { display: none !important; }` so we also need the `!important` here to be able to override the default hidden behavior on the sphinx rendered scikit-learn.org. See: https://github.com/scikit-learn/scikit-learn/issues/21755 */display: inline-block !important;position: relative;}#sk-container-id-4 div.sk-text-repr-fallback {display: none;}</style><div id=\"sk-container-id-4\" class=\"sk-top-container\"><div class=\"sk-text-repr-fallback\"><pre>RandomizedSearchCV(estimator=BoostedOrdinal(max_iter=1000, n_iter_no_change=10,\n",
       "                                            validation_fraction=0.2),\n",
       "                   n_iter=50,\n",
       "                   param_distributions={&#x27;base_learner__max_depth&#x27;: [3, 4, 5, 6,\n",
       "                                                                    7, 8, 9],\n",
       "                                        &#x27;lr_g&#x27;: &lt;scipy.stats._distn_infrastructure.rv_continuous_frozen object at 0x00000205BE5D5490&gt;},\n",
       "                   scoring=&#x27;neg_log_loss&#x27;)</pre><b>In a Jupyter environment, please rerun this cell to show the HTML representation or trust the notebook. <br />On GitHub, the HTML representation is unable to render, please try loading this page with nbviewer.org.</b></div><div class=\"sk-container\" hidden><div class=\"sk-item sk-dashed-wrapped\"><div class=\"sk-label-container\"><div class=\"sk-label sk-toggleable\"><input class=\"sk-toggleable__control sk-hidden--visually\" id=\"sk-estimator-id-13\" type=\"checkbox\" ><label for=\"sk-estimator-id-13\" class=\"sk-toggleable__label sk-toggleable__label-arrow\">RandomizedSearchCV</label><div class=\"sk-toggleable__content\"><pre>RandomizedSearchCV(estimator=BoostedOrdinal(max_iter=1000, n_iter_no_change=10,\n",
       "                                            validation_fraction=0.2),\n",
       "                   n_iter=50,\n",
       "                   param_distributions={&#x27;base_learner__max_depth&#x27;: [3, 4, 5, 6,\n",
       "                                                                    7, 8, 9],\n",
       "                                        &#x27;lr_g&#x27;: &lt;scipy.stats._distn_infrastructure.rv_continuous_frozen object at 0x00000205BE5D5490&gt;},\n",
       "                   scoring=&#x27;neg_log_loss&#x27;)</pre></div></div></div><div class=\"sk-parallel\"><div class=\"sk-parallel-item\"><div class=\"sk-item\"><div class=\"sk-label-container\"><div class=\"sk-label sk-toggleable\"><input class=\"sk-toggleable__control sk-hidden--visually\" id=\"sk-estimator-id-14\" type=\"checkbox\" ><label for=\"sk-estimator-id-14\" class=\"sk-toggleable__label sk-toggleable__label-arrow\">estimator: BoostedOrdinal</label><div class=\"sk-toggleable__content\"><pre>BoostedOrdinal(max_iter=1000, n_iter_no_change=10, validation_fraction=0.2)</pre></div></div></div><div class=\"sk-serial\"><div class=\"sk-item sk-dashed-wrapped\"><div class=\"sk-parallel\"><div class=\"sk-parallel-item\"><div class=\"sk-item\"><div class=\"sk-label-container\"><div class=\"sk-label sk-toggleable\"><input class=\"sk-toggleable__control sk-hidden--visually\" id=\"sk-estimator-id-15\" type=\"checkbox\" ><label for=\"sk-estimator-id-15\" class=\"sk-toggleable__label sk-toggleable__label-arrow\">base_learner: DecisionTreeRegressor</label><div class=\"sk-toggleable__content\"><pre>DecisionTreeRegressor()</pre></div></div></div><div class=\"sk-serial\"><div class=\"sk-item\"><div class=\"sk-estimator sk-toggleable\"><input class=\"sk-toggleable__control sk-hidden--visually\" id=\"sk-estimator-id-16\" type=\"checkbox\" ><label for=\"sk-estimator-id-16\" class=\"sk-toggleable__label sk-toggleable__label-arrow\">DecisionTreeRegressor</label><div class=\"sk-toggleable__content\"><pre>DecisionTreeRegressor()</pre></div></div></div></div></div></div></div></div></div></div></div></div></div></div></div>"
      ],
      "text/plain": [
       "RandomizedSearchCV(estimator=BoostedOrdinal(max_iter=1000, n_iter_no_change=10,\n",
       "                                            validation_fraction=0.2),\n",
       "                   n_iter=50,\n",
       "                   param_distributions={'base_learner__max_depth': [3, 4, 5, 6,\n",
       "                                                                    7, 8, 9],\n",
       "                                        'lr_g': <scipy.stats._distn_infrastructure.rv_continuous_frozen object at 0x00000205BE5D5490>},\n",
       "                   scoring='neg_log_loss')"
      ]
     },
     "execution_count": 75,
     "metadata": {},
     "output_type": "execute_result"
    }
   ],
   "source": [
    "from scipy.stats import loguniform\n",
    "from sklearn.model_selection import RandomizedSearchCV\n",
    "\n",
    "parameter_distros = {\n",
    "    'base_learner__max_depth': [3, 4, 5, 6, 7, 8, 9]\n",
    "    , 'lr_g': loguniform(1e-3, 1e-1)\n",
    "}\n",
    "\n",
    "rscv_model = RandomizedSearchCV(\n",
    "    bor, parameter_distros\n",
    "    , scoring = 'neg_log_loss'\n",
    "    , n_iter = 50\n",
    ")\n",
    "\n",
    "rscv_model.fit(X_train, y_train)"
   ]
  },
  {
   "cell_type": "markdown",
   "id": "18ca9ae3-ea14-46e7-814b-ce59d9778501",
   "metadata": {},
   "source": [
    "Let's examine the best parameters:"
   ]
  },
  {
   "cell_type": "code",
   "execution_count": 76,
   "id": "0c89bede-dbf3-4a4d-9a35-4a2e7219b1f3",
   "metadata": {},
   "outputs": [
    {
     "data": {
      "text/plain": [
       "{'base_learner__max_depth': 4, 'lr_g': 0.03286157961173112}"
      ]
     },
     "execution_count": 76,
     "metadata": {},
     "output_type": "execute_result"
    }
   ],
   "source": [
    "rscv_model.best_params_"
   ]
  },
  {
   "cell_type": "markdown",
   "id": "c2a2aa23-9fdb-4df2-a718-1a6df7688e04",
   "metadata": {},
   "source": [
    "Let's also examine the performance:"
   ]
  },
  {
   "cell_type": "code",
   "execution_count": 77,
   "id": "f7b5e2db-241d-475b-8745-9f115a650720",
   "metadata": {},
   "outputs": [
    {
     "name": "stdout",
     "output_type": "stream",
     "text": [
      "GBOR + random seach - classification error: 0.43125\n",
      "GBOR + random search - Manhattan error: 0.46875\n"
     ]
    }
   ],
   "source": [
    "y_pred_rscv = rscv_model.predict(X_test)\n",
    "\n",
    "rscv_classification_error, rscv_manhattan_error = np.mean(y_test - y_pred_rscv != 0), np.mean(abs(y_test - y_pred_rscv))\n",
    "print('GBOR + random seach - classification error:', rscv_classification_error)\n",
    "print('GBOR + random search - Manhattan error:', rscv_manhattan_error)"
   ]
  },
  {
   "cell_type": "markdown",
   "id": "cf36bccc-09f3-46c5-b29c-ad8790f5645b",
   "metadata": {},
   "source": [
    "A more systematic approach for comparing performance of models and HPT strategies is to use cross-validation (or even repeated cross-validation) to cover the utilize the entire data, rather than a fixed train/test split, which is not as reliable. We leave this exercise to the reader.\n",
    "\n",
    "## References\n",
    "1. Bergstra, James, and Yoshua Bengio. \"Random search for hyper-parameter optimization.\" Journal of machine learning research 13.2 (2012)."
   ]
  },
  {
   "cell_type": "code",
   "execution_count": null,
   "id": "877573bd-3393-452a-8f41-29ace95e3e8b",
   "metadata": {},
   "outputs": [],
   "source": []
  }
 ],
 "metadata": {
  "kernelspec": {
   "display_name": "Python 3 (ipykernel)",
   "language": "python",
   "name": "python3"
  },
  "language_info": {
   "codemirror_mode": {
    "name": "ipython",
    "version": 3
   },
   "file_extension": ".py",
   "mimetype": "text/x-python",
   "name": "python",
   "nbconvert_exporter": "python",
   "pygments_lexer": "ipython3",
   "version": "3.11.7"
  }
 },
 "nbformat": 4,
 "nbformat_minor": 5
}
