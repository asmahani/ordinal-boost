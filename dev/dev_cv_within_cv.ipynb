{
 "cells": [
  {
   "cell_type": "code",
   "execution_count": 1,
   "id": "69774ef9-1c68-4207-8814-fc067f7e4b65",
   "metadata": {},
   "outputs": [
    {
     "data": {
      "text/plain": [
       "(array([0, 1, 2, 3, 4, 5]), array([ 10,  53, 681, 638, 199,  18], dtype=int64))"
      ]
     },
     "execution_count": 1,
     "metadata": {},
     "output_type": "execute_result"
    }
   ],
   "source": [
    "import pandas as pd\n",
    "import numpy as np\n",
    "from sklearn.model_selection import train_test_split\n",
    "from gbor.main import BoostedOrdinal\n",
    "from sklearn.tree import DecisionTreeRegressor\n",
    "from sklearn.model_selection import GridSearchCV\n",
    "import time\n",
    "from sklearn.model_selection import cross_val_score, RepeatedKFold\n",
    "\n",
    "wine_red = pd.read_csv('../data/winequality-red.csv', sep = ';')\n",
    "#wine_red = pd.read_csv('../data/winequality-white.csv', sep = ';')\n",
    "wine_red['quality'] = wine_red['quality'] - np.min(wine_red['quality'])\n",
    "\n",
    "#wine_red_filtered = wine_red[(wine_red['quality'] != 5) & (wine_red['quality'] != 0)]\n",
    "#wine_red_filtered = wine_red[(wine_red['quality'] != 0)]\n",
    "wine_red_filtered = wine_red\n",
    "\n",
    "X, y = wine_red_filtered.drop(columns = ['quality']).to_numpy(), wine_red_filtered['quality'].to_numpy(dtype = 'int')\n",
    "np.unique(y, return_counts=True)"
   ]
  },
  {
   "cell_type": "code",
   "execution_count": 8,
   "id": "800938c6-30f1-4b54-8f9d-f3939b0fbcc7",
   "metadata": {},
   "outputs": [],
   "source": [
    "gbor = BoostedOrdinal(\n",
    "    n_iter_no_change = 100\n",
    "    , max_iter = 10\n",
    "    , base_learner = DecisionTreeRegressor(max_depth = 6)\n",
    "    , lr_g = 1e-1\n",
    "    , lr_theta = 1#e-4\n",
    "    , validation_stratify = False\n",
    "    , validation_fraction = 0.2\n",
    "    , reltol = 0.0\n",
    "    , n_class = 6\n",
    "    , cv = 5\n",
    ")"
   ]
  },
  {
   "cell_type": "code",
   "execution_count": 9,
   "id": "ea30a447-bfa2-44f4-a9ad-1b45b9b8e3e8",
   "metadata": {},
   "outputs": [
    {
     "name": "stdout",
     "output_type": "stream",
     "text": [
      "time: 8.1 sec\n"
     ]
    }
   ],
   "source": [
    "my_random_state = 1\n",
    "cv = RepeatedKFold(n_repeats = 5, n_splits = 2, random_state = my_random_state)\n",
    "\n",
    "start_time = time.time()\n",
    "my_cv = cross_val_score(\n",
    "    gbor, X, y, cv = cv\n",
    "    , scoring = 'accuracy'\n",
    "    , n_jobs = 10\n",
    ")\n",
    "end_time = time.time()\n",
    "print('time: {} sec'.format(round(end_time - start_time, 1)))"
   ]
  },
  {
   "cell_type": "code",
   "execution_count": 10,
   "id": "59170afa-217c-4494-83a2-60a557dcf7f0",
   "metadata": {},
   "outputs": [
    {
     "data": {
      "text/plain": [
       "array([0.57875   , 0.58197747, 0.5775    , 0.6020025 , 0.615     ,\n",
       "       0.55694618, 0.58125   , 0.57196496, 0.6025    , 0.58948686])"
      ]
     },
     "execution_count": 10,
     "metadata": {},
     "output_type": "execute_result"
    }
   ],
   "source": [
    "my_cv"
   ]
  },
  {
   "cell_type": "code",
   "execution_count": 11,
   "id": "de401909-ca5b-4d7b-8e83-e2485b92f6c8",
   "metadata": {},
   "outputs": [
    {
     "name": "stderr",
     "output_type": "stream",
     "text": [
      "[Parallel(n_jobs=10)]: Using backend LokyBackend with 10 concurrent workers.\n",
      "[Parallel(n_jobs=10)]: Done   3 out of  10 | elapsed:  5.2min remaining: 12.1min\n"
     ]
    },
    {
     "name": "stdout",
     "output_type": "stream",
     "text": [
      "time: 313.6 sec\n"
     ]
    },
    {
     "name": "stderr",
     "output_type": "stream",
     "text": [
      "[Parallel(n_jobs=10)]: Done  10 out of  10 | elapsed:  5.2min finished\n"
     ]
    }
   ],
   "source": [
    "parameter_grid = {'base_learner__max_depth': [3, 6, 9], 'lr_g': [1e0, 1e-1, 1e-2]}\n",
    "new_gridsearch = GridSearchCV(\n",
    "    gbor\n",
    "    , parameter_grid\n",
    "    , scoring = 'accuracy'\n",
    "    , n_jobs = 1\n",
    ")\n",
    "start_time = time.time()\n",
    "my_cv2 = cross_val_score(\n",
    "    new_gridsearch, X, y, cv = cv\n",
    "    , scoring = 'accuracy'\n",
    "    , n_jobs = 10\n",
    "    , verbose = 2\n",
    ")\n",
    "end_time = time.time()\n",
    "print('time: {} sec'.format(round(end_time - start_time, 1)))\n"
   ]
  },
  {
   "cell_type": "code",
   "execution_count": 12,
   "id": "38ca4c58-0cff-4bd6-a67c-6877953484de",
   "metadata": {},
   "outputs": [
    {
     "data": {
      "text/plain": [
       "array([0.57125   , 0.57071339, 0.55875   , 0.57446809, 0.6125    ,\n",
       "       0.57697121, 0.59375   , 0.59949937, 0.56875   , 0.5844806 ])"
      ]
     },
     "execution_count": 12,
     "metadata": {},
     "output_type": "execute_result"
    }
   ],
   "source": [
    "my_cv2"
   ]
  },
  {
   "cell_type": "code",
   "execution_count": 13,
   "id": "2def5153-1bb7-4c6e-aa26-707ab8feaa93",
   "metadata": {},
   "outputs": [
    {
     "name": "stdout",
     "output_type": "stream",
     "text": [
      "Pearson correlation coefficient: 0.2871328582062903\n",
      "P-value: 0.4211696792806291\n"
     ]
    }
   ],
   "source": [
    "from scipy.stats import pearsonr\n",
    "\n",
    "# Perform Pearson correlation test\n",
    "corr_coef, p_value = pearsonr(my_cv, my_cv2)\n",
    "\n",
    "print(f\"Pearson correlation coefficient: {corr_coef}\")\n",
    "print(f\"P-value: {p_value}\")\n"
   ]
  },
  {
   "cell_type": "code",
   "execution_count": 14,
   "id": "6ef4dcf5-61d0-4551-81de-b8b2e5fde2ca",
   "metadata": {},
   "outputs": [
    {
     "data": {
      "image/png": "[encoded data removed]",
      "text/plain": [
       "<Figure size 1000x500 with 1 Axes>"
      ]
     },
     "metadata": {},
     "output_type": "display_data"
    }
   ],
   "source": [
    "import matplotlib.pyplot as plt\n",
    "\n",
    "# Create the plot\n",
    "plt.figure(figsize=(10, 5))\n",
    "\n",
    "# Plot the first array\n",
    "plt.plot(my_cv, my_cv2, linestyle = \"\", marker='o')\n",
    "\n",
    "# Plot the second array\n",
    "#plt.plot(np.arange(10), cross_entropy_validation, label='Validation set')#, marker='x')\n",
    "\n",
    "# Add labels and title\n",
    "plt.xlabel('Without HPT')\n",
    "plt.ylabel('With HPT')\n",
    "#plt.title('Training vs. Validation Cross-entropy Loss')\n",
    "\n",
    "#plt.legend()\n",
    "\n",
    "# Show the plot\n",
    "plt.show()\n"
   ]
  },
  {
   "cell_type": "code",
   "execution_count": null,
   "id": "f42057a1-0a74-4558-b745-656f3c270490",
   "metadata": {},
   "outputs": [],
   "source": []
  }
 ],
 "metadata": {
  "kernelspec": {
   "display_name": "Python 3 (ipykernel)",
   "language": "python",
   "name": "python3"
  },
  "language_info": {
   "codemirror_mode": {
    "name": "ipython",
    "version": 3
   },
   "file_extension": ".py",
   "mimetype": "text/x-python",
   "name": "python",
   "nbconvert_exporter": "python",
   "pygments_lexer": "ipython3",
   "version": "3.11.7"
  }
 },
 "nbformat": 4,
 "nbformat_minor": 5
}
