{
 "cells": [
  {
   "cell_type": "code",
   "execution_count": 4,
   "id": "41d2494d-8e33-4fca-94ef-5523e47e46b7",
   "metadata": {},
   "outputs": [],
   "source": [
    "import numpy as np\n",
    "from scipy.stats import norm\n",
    "from sklearn.base import BaseEstimator, RegressorMixin\n",
    "from sklearn.tree import DecisionTreeRegressor\n",
    "from sklearn.utils import check_X_y, check_array\n",
    "\n",
    "class OrdinalRegression(BaseEstimator, RegressorMixin):\n",
    "    def __init__(self, base_learner=DecisionTreeRegressor(), n_classes=3, max_iter=100, tol=1e-4):\n",
    "        self.base_learner = base_learner\n",
    "        self.n_classes = n_classes\n",
    "        self.max_iter = max_iter\n",
    "        self.tol = tol\n",
    "\n",
    "    def _initialize_thresholds(self, y):\n",
    "        # Calculate the initial threshold vector\n",
    "        n_samples = len(y)\n",
    "        P = np.array([np.sum(y == i) for i in range(self.n_classes)]) / n_samples\n",
    "        self.thresholds_ = norm.ppf(np.cumsum(P[:-1]))\n",
    "\n",
    "    def fit(self, X, y):\n",
    "        # Check that X and y have correct shape\n",
    "        X, y = check_X_y(X, y)\n",
    "\n",
    "        # Initialize the model\n",
    "        self._initialize_thresholds(y)\n",
    "        self.g_ = np.zeros(X.shape[0])\n",
    "        self.models_ = []\n",
    "\n",
    "        for iteration in range(self.max_iter):\n",
    "            print(self.thresholds_)\n",
    "            \n",
    "            prev_g = self.g_.copy()\n",
    "            \n",
    "            # Gradient boosting step: Fit the base learner to the pseudo-residuals\n",
    "            residuals = self._compute_pseudo_residuals(X, y)\n",
    "            model = self.base_learner.fit(X, residuals)\n",
    "            self.models_.append(model)\n",
    "            self.g_ += model.predict(X)\n",
    "\n",
    "            # Check for convergence\n",
    "            if np.mean((self.g_ - prev_g) ** 2) < self.tol:\n",
    "                break\n",
    "\n",
    "        return self\n",
    "\n",
    "    def _compute_pseudo_residuals(self, X, y):\n",
    "        residuals = np.zeros(X.shape[0])\n",
    "        for i in range(X.shape[0]):\n",
    "            mu = self.g_[i]\n",
    "            lower = self.thresholds_[y[i] - 1] if y[i] > 0 else -np.inf\n",
    "            upper = self.thresholds_[y[i]] if y[i] < self.n_classes - 1 else np.inf\n",
    "\n",
    "            f_lower = norm.pdf(lower - mu)\n",
    "            f_upper = norm.pdf(upper - mu)\n",
    "            F_lower = norm.cdf(lower - mu)\n",
    "            F_upper = norm.cdf(upper - mu)\n",
    "            \n",
    "            residuals[i] = (f_lower - f_upper) / (F_upper - F_lower)\n",
    "        \n",
    "        return residuals\n",
    "\n",
    "    def predict(self, X):\n",
    "        check_array(X)\n",
    "\n",
    "        # Compute the latent variable g(x)\n",
    "        g = np.zeros(X.shape[0])\n",
    "        for model in self.models_:\n",
    "            g += model.predict(X)\n",
    "        \n",
    "        # Assign the ordinal class based on the threshold\n",
    "        y_pred = np.digitize(g, self.thresholds_)\n",
    "        return y_pred\n",
    "\n",
    "    def score(self, X, y):\n",
    "        from sklearn.metrics import accuracy_score\n",
    "        y_pred = self.predict(X)\n",
    "        return accuracy_score(y, y_pred)\n"
   ]
  },
  {
   "cell_type": "code",
   "execution_count": 5,
   "id": "f8a541d1-066c-429e-aa10-5a725feab48e",
   "metadata": {},
   "outputs": [
    {
     "name": "stdout",
     "output_type": "stream",
     "text": [
      "[-0.42614801 -0.42614801]\n",
      "[-0.42614801 -0.42614801]\n",
      "[-0.42614801 -0.42614801]\n",
      "[-0.42614801 -0.42614801]\n",
      "[-0.42614801 -0.42614801]\n",
      "[-0.42614801 -0.42614801]\n",
      "[-0.42614801 -0.42614801]\n",
      "[-0.42614801 -0.42614801]\n",
      "[-0.42614801 -0.42614801]\n",
      "[-0.42614801 -0.42614801]\n",
      "Accuracy: 0.675\n"
     ]
    }
   ],
   "source": [
    "from sklearn.datasets import make_classification\n",
    "from sklearn.model_selection import train_test_split\n",
    "\n",
    "# Create a sample dataset\n",
    "X, y = make_classification(n_samples=1000, n_features=20, n_classes=3, n_informative=5, random_state=0)\n",
    "y = np.digitize(y, bins=[0.33, 0.66])  # Convert to ordinal classes\n",
    "\n",
    "# Split the dataset\n",
    "X_train, X_test, y_train, y_test = train_test_split(X, y, test_size=0.2, random_state=42)\n",
    "\n",
    "# Create and train the model\n",
    "model = OrdinalRegression(base_learner=DecisionTreeRegressor(max_depth=3), n_classes=3, max_iter=10)\n",
    "model.fit(X_train, y_train)\n",
    "\n",
    "# Evaluate the model\n",
    "print(\"Accuracy:\", model.score(X_test, y_test))\n"
   ]
  },
  {
   "cell_type": "code",
   "execution_count": 3,
   "id": "0ce34aa6-f427-498f-93ea-6aa654c1813f",
   "metadata": {},
   "outputs": [
    {
     "data": {
      "text/plain": [
       "array([-0.42614801, -0.42614801])"
      ]
     },
     "execution_count": 3,
     "metadata": {},
     "output_type": "execute_result"
    }
   ],
   "source": [
    "model.thresholds_"
   ]
  },
  {
   "cell_type": "code",
   "execution_count": null,
   "id": "a8f13abf-d3a2-4135-9f5a-83ae8c450662",
   "metadata": {},
   "outputs": [],
   "source": []
  }
 ],
 "metadata": {
  "kernelspec": {
   "display_name": "Python 3 (ipykernel)",
   "language": "python",
   "name": "python3"
  },
  "language_info": {
   "codemirror_mode": {
    "name": "ipython",
    "version": 3
   },
   "file_extension": ".py",
   "mimetype": "text/x-python",
   "name": "python",
   "nbconvert_exporter": "python",
   "pygments_lexer": "ipython3",
   "version": "3.11.7"
  }
 },
 "nbformat": 4,
 "nbformat_minor": 5
}
