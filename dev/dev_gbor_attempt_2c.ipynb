{
 "cells": [
  {
   "cell_type": "code",
   "execution_count": 116,
   "id": "a085b863-b0bb-4f4e-a65c-6be607be1421",
   "metadata": {},
   "outputs": [],
   "source": [
    "from sklearn.base import BaseEstimator, RegressorMixin, ClassifierMixin\n",
    "from sklearn.tree import DecisionTreeRegressor\n",
    "import numpy as np\n",
    "from scipy.stats import norm\n",
    "from sklearn.utils import check_X_y, check_array\n",
    "from sklearn.base import clone\n",
    "\n",
    "class BoostedOrdinal(BaseEstimator, ClassifierMixin):\n",
    "    def __init__(\n",
    "        self\n",
    "        , base_learner = DecisionTreeRegressor()\n",
    "        , max_iter=100\n",
    "        , lr_g = 1e-1\n",
    "        , lr_theta = 1e-3\n",
    "        , validation_fraction = 0.1\n",
    "        , n_iter_no_change = None\n",
    "        , reltol = 1e-2\n",
    "    ):\n",
    "        self.base_learner = base_learner\n",
    "        self.max_iter = max_iter\n",
    "        self.lr_g = lr_g\n",
    "        self.lr_theta = lr_theta\n",
    "        self.validation_fraction = validation_fraction\n",
    "        self.n_iter_no_change = n_iter_no_change\n",
    "        self.reltol = reltol\n",
    "\n",
    "    def fit(self, X, y):\n",
    "        X, y = check_X_y(X, y)\n",
    "\n",
    "        if self.n_iter_no_change:\n",
    "            X, X_holdout, y, y_holdout = train_test_split(X, y, test_size = self.validation_fraction)\n",
    "        \n",
    "        ylist = BoostedOrdinal._validate_ordinal(y)\n",
    "\n",
    "        g_init, theta_init = BoostedOrdinal._initialize(y)\n",
    "        loss_init = BoostedOrdinal._loss_function(X, y, g_init, theta_init)\n",
    "\n",
    "        g, theta, loss = g_init, theta_init, loss_init\n",
    "        loss_all = []\n",
    "        learner_all = []\n",
    "        intercept_all = []\n",
    "        g_all = []\n",
    "        theta_all = []\n",
    "\n",
    "        if self.n_iter_no_change:\n",
    "            loss_holdout = BoostedOrdinal._loss_function(X_holdout, y_holdout, g_init, theta_init)\n",
    "            loss_all_holdout = []\n",
    "            loss_all_holdout.append(loss_holdout)\n",
    "            g_holdout = g_init\n",
    "\n",
    "        loss_all.append(loss)\n",
    "        g_all.append(np.repeat(g, y.size))\n",
    "        theta_all.append(theta)\n",
    "\n",
    "        no_change = False\n",
    "\n",
    "        for p in range(self.max_iter):\n",
    "            \n",
    "            # update regression function\n",
    "            dg = BoostedOrdinal._derivative_g(X, y, theta, g)\n",
    "            weak_learner, h, intercept = BoostedOrdinal._fit_weak_learner(X, -dg, clone(self.base_learner))\n",
    "            g = BoostedOrdinal._update_g(g, h, lr = self.lr_g)\n",
    "            \n",
    "            # update loss\n",
    "            loss = BoostedOrdinal._loss_function(X, y, g, theta)\n",
    "            loss_all.append(loss)\n",
    "            \n",
    "            # update threshold vector\n",
    "            dtheta = BoostedOrdinal._derivative_threshold(X, ylist, theta, g)\n",
    "            theta = BoostedOrdinal._update_thresh(theta, dtheta, lr = self.lr_theta)\n",
    "\n",
    "            # update loss\n",
    "            loss = BoostedOrdinal._loss_function(X, y, g, theta)\n",
    "            loss_all.append(loss)\n",
    "            \n",
    "            learner_all.append(weak_learner)\n",
    "            intercept_all.append(intercept)\n",
    "            g_all.append(g)\n",
    "            theta_all.append(theta)\n",
    "\n",
    "            if self.n_iter_no_change:\n",
    "                h_holdout = weak_learner.predict(X_holdout) + intercept\n",
    "                g_holdout = BoostedOrdinal._update_g(g_holdout, h_holdout, lr = self.lr_g)\n",
    "                loss_holdout = BoostedOrdinal._loss_function(X_holdout, y_holdout, g_holdout, theta)\n",
    "                loss_all_holdout.append(loss_holdout)\n",
    "                if len(loss_all_holdout) > self.n_iter_no_change:\n",
    "                    if ((loss_all_holdout[-(1+self.n_iter_no_change)] - loss_all_holdout[-1]) / loss_all_holdout[-(1+self.n_iter_no_change)] < self.reltol):\n",
    "                        no_change = True\n",
    "                        break\n",
    "\n",
    "        self.n_iter = p + 1 - self.n_iter_no_change if no_change else self.max_iter\n",
    "        self.init = {'g': g_init, 'theta': theta_init, 'loss': loss_init}\n",
    "        self.final = {'g': g, 'theta': theta, 'loss': loss_all[-1]}\n",
    "        self.path = {\n",
    "            'g': np.array(g_all), 'theta': np.array(theta_all), 'loss': np.array(loss_all)\n",
    "            , 'learner': learner_all, 'intercept': np.array(intercept_all)\n",
    "        }\n",
    "        if self.n_iter_no_change:\n",
    "            self.path['loss_holdout'] = np.array(loss_all_holdout)\n",
    "        \n",
    "        return self\n",
    "    \n",
    "    def predict(self, X, y = None, path = False, class_labels = True):\n",
    "        check_array(X)\n",
    "        arr = np.array([learner.predict(X) + self.path['intercept'][p] for p, learner in enumerate(self.path['learner'])])\n",
    "        if path:\n",
    "            arr = np.cumsum(arr, 0) * self.lr_g + self.init['g']\n",
    "            if class_labels:\n",
    "                tmp = [BoostedOrdinal._probabilities(arr[p, :], self.path['theta'][p+1], y) for p in range(arr.shape[0])]\n",
    "                if class_labels:\n",
    "                    if y is None:\n",
    "                        return [BoostedOrdinal._class_labels(u) for u in tmp]\n",
    "                    else:\n",
    "                        return [(BoostedOrdinal._class_labels(u[0]), u[1]) for u in tmp]\n",
    "                else:\n",
    "                    return tmp\n",
    "            else:\n",
    "                return [BoostedOrdinal._probabilities(arr[p, :], self.path['theta'][p+1], y) for p in range(arr.shape[0])]\n",
    "        else:\n",
    "            arr = np.sum(arr[:self.n_iter, :], 0) * self.lr_g + self.init['g']\n",
    "            tmp = BoostedOrdinal._probabilities(arr, self.path['theta'][-1], y)\n",
    "            if class_labels:\n",
    "                if y is None:\n",
    "                    return BoostedOrdinal._class_labels(tmp)\n",
    "                else:\n",
    "                    return BoostedOrdinal._class_labels(tmp[0]), tmp[1]\n",
    "                    \n",
    "            else:\n",
    "                return tmp\n",
    "\n",
    "    def predict_proba(self, X):\n",
    "        return self.predict(X, class_labels = False)\n",
    "\n",
    "    def _class_labels(probs, axis = 1):\n",
    "        return np.argmax(probs, axis = axis)\n",
    "    \n",
    "    def _probabilities(g, theta, y = None):\n",
    "        probs = np.array([np.diff(norm.cdf(BoostedOrdinal._pad_thresholds(theta - x))) for x in g])\n",
    "\n",
    "        if y is None:\n",
    "            return probs\n",
    "        \n",
    "        loglike = sum([np.log(probs[n, yn]) for n, yn in enumerate(y)])\n",
    "        return probs, loglike\n",
    "    \n",
    "    def _check_loss_change(loss):\n",
    "        x = np.diff(loss)\n",
    "        return (x[::2], x[1::2]) # (g, theta)\n",
    "    \n",
    "    \n",
    "    def _validate_ordinal(arr):\n",
    "        \"\"\"\n",
    "        Check if the unique values in a numpy integer vector are 0, 1, ..., M with M >= 2.\n",
    "    \n",
    "        Parameters:\n",
    "        arr (numpy.ndarray): Input numpy integer vector.\n",
    "    \n",
    "        Returns:\n",
    "        bool: True if unique values are 0, 1, ..., M with M >= 2, False otherwise.\n",
    "        \"\"\"\n",
    "        if not isinstance(arr, np.ndarray):\n",
    "            raise ValueError(\"Input must be a numpy array\")\n",
    "        if arr.dtype.kind not in {'i', 'u'}:\n",
    "            raise ValueError(\"Input array must contain integers\")\n",
    "    \n",
    "        unique_values = np.unique(arr)\n",
    "        \n",
    "        if unique_values[0] != 0:\n",
    "            return []\n",
    "        \n",
    "        M = unique_values[-1]\n",
    "\n",
    "        if M < 2:\n",
    "            return []\n",
    "        \n",
    "        expected_values = np.arange(M + 1)\n",
    "\n",
    "        if np.array_equal(unique_values, expected_values):\n",
    "            #return M + 1\n",
    "            return [np.where(arr == m) for m in unique_values]\n",
    "        else:\n",
    "            return []\n",
    "    \n",
    "    def _initialize(y):\n",
    "        return (BoostedOrdinal._initialize_g(y), BoostedOrdinal._initialize_thresholds(y))\n",
    "    \n",
    "    def _initialize_g(y):\n",
    "        #return np.zeros(y.size)\n",
    "        return 0\n",
    "    \n",
    "    def _initialize_thresholds(y):\n",
    "        # Calculate the initial threshold vector\n",
    "        n_samples = len(y)\n",
    "        n_class = np.max(y) + 1\n",
    "        P = np.array([np.sum(y == i) for i in range(n_class)]) / n_samples\n",
    "        return norm.ppf(np.cumsum(P[:-1]))\n",
    "    \n",
    "    def _pad_thresholds(theta):\n",
    "        return np.insert(theta, [0, theta.size], [-np.inf, np.inf])\n",
    "    \n",
    "    def _derivative_threshold(X, ylist, thresh, g):\n",
    "        thresh_padded = BoostedOrdinal._pad_thresholds(thresh)\n",
    "        M = len(thresh)\n",
    "        ret = []\n",
    "        for m in range(M):\n",
    "            S_m = ylist[m]\n",
    "            S_mp1 = ylist[m+1]\n",
    "            v1 = np.sum(norm.pdf(thresh_padded[m+1] - g[S_m]) / (norm.cdf(thresh_padded[m+1] - g[S_m]) - norm.cdf(thresh_padded[m] - g[S_m])))\n",
    "            v2 = np.sum(norm.pdf(thresh_padded[m+1] - g[S_mp1]) / (norm.cdf(thresh_padded[m+2] - g[S_mp1]) - norm.cdf(thresh_padded[m+1] - g[S_mp1])))\n",
    "            ret.append(-v1 + v2)\n",
    "        return np.array(ret)\n",
    "\n",
    "    def _derivative_g(X, y, thresh, g):\n",
    "        thresh_padded = BoostedOrdinal._pad_thresholds(thresh)\n",
    "        ret = (norm.pdf(thresh_padded[y+1] - g) - norm.pdf(thresh_padded[y] - g)) / (norm.cdf(thresh_padded[y+1] - g) - norm.cdf(thresh_padded[y] - g))\n",
    "        return ret\n",
    "\n",
    "    def _fit_weak_learner(X, pseudo_resids, learner):\n",
    "        learner.fit(X, pseudo_resids)\n",
    "        pred = learner.predict(X)\n",
    "        intercept = -np.mean(pred) # we could also perform intercept adjustment in _update_g but mathematically the effect is the same\n",
    "        return (learner, pred + intercept, intercept)\n",
    "    \n",
    "    # replace with more sophisticated version that performs line search\n",
    "    def _update_g(g, h, lr = 1e-1):\n",
    "        return g + lr * h\n",
    "    \n",
    "    # we need to check if updated thresh is valid (must be sorted) and handle invalid ones\n",
    "    def _update_thresh(thresh, dthresh, lr = 1e-3):\n",
    "        new_thresh = thresh - lr * dthresh\n",
    "        if not np.all(np.diff(new_thresh)):\n",
    "            raise ValueError(\"updated threshold vector invalid (must have strict ascending order)\")\n",
    "        return new_thresh\n",
    "    \n",
    "    # this can be fused with _probabilities, though this is likely more efficient is the goal is only loss and not the prob matrix\n",
    "    def _loss_function(X, y, g, theta):\n",
    "        theta_padded = BoostedOrdinal._pad_thresholds(theta)\n",
    "        return -np.sum(np.log(norm.cdf(theta_padded[y + 1] - g) - norm.cdf(theta_padded[y] - g)))"
   ]
  },
  {
   "cell_type": "code",
   "execution_count": 6,
   "id": "37da0802-2b07-4502-ba80-c1b53376e470",
   "metadata": {},
   "outputs": [],
   "source": [
    "from sklearn.datasets import make_classification\n",
    "from sklearn.model_selection import train_test_split\n",
    "\n",
    "# Create a sample dataset\n",
    "X, y = make_classification(\n",
    "    n_samples=1000, n_features=20, n_classes=3, n_informative=5\n",
    "    #, random_state=1\n",
    ")\n",
    "indices = BoostedOrdinal._validate_ordinal(y)\n",
    "#print(len(indices))\n",
    "\n",
    "# Split the dataset\n",
    "X_train, X_test, y_train, y_test = train_test_split(\n",
    "    X, y, test_size=0.2\n",
    "    #, random_state=42\n",
    ")"
   ]
  },
  {
   "cell_type": "code",
   "execution_count": 90,
   "id": "545ca0b1-9ddb-4b2d-9763-3e804306e72a",
   "metadata": {},
   "outputs": [],
   "source": [
    "model = BoostedOrdinal(\n",
    "    max_iter = 1000, lr_g = 1e-2, lr_theta = 1e-3\n",
    "    , base_learner = DecisionTreeRegressor(max_depth = 6)\n",
    "    , n_iter_no_change = 10\n",
    "    #, reltol = -np.inf\n",
    ").fit(X_train, y_train)"
   ]
  },
  {
   "cell_type": "code",
   "execution_count": 91,
   "id": "d61219bf-289d-4759-a96d-e2b2ca77508e",
   "metadata": {},
   "outputs": [
    {
     "data": {
      "text/plain": [
       "127"
      ]
     },
     "execution_count": 91,
     "metadata": {},
     "output_type": "execute_result"
    }
   ],
   "source": [
    "#model.path['loss_holdout']\n",
    "model.n_iter"
   ]
  },
  {
   "cell_type": "code",
   "execution_count": 92,
   "id": "ea1cef11-5b91-4d11-9f80-5589fdfc8299",
   "metadata": {},
   "outputs": [
    {
     "data": {
      "image/png": "[encoded data removed]",
      "text/plain": [
       "<Figure size 1000x500 with 1 Axes>"
      ]
     },
     "metadata": {},
     "output_type": "display_data"
    }
   ],
   "source": [
    "my_pred_test = model.predict(X_test, y_test, path = True, class_labels = False)\n",
    "my_pred_train = model.predict(X_train, y_train, path = True, class_labels = False)\n",
    "\n",
    "loss_train = -np.array([tmp[1] for tmp in my_pred_train]) / X_train.shape[0]\n",
    "loss_test = -np.array([tmp[1] for tmp in my_pred_test]) / X_test.shape[0]\n",
    "\n",
    "import matplotlib.pyplot as plt\n",
    "\n",
    "indices = np.arange(len(loss_train))\n",
    "\n",
    "# Create the plot\n",
    "plt.figure(figsize=(10, 5))\n",
    "\n",
    "# Plot the first array\n",
    "plt.plot(indices, loss_train, label='Training set', marker='o')\n",
    "\n",
    "# Plot the second array\n",
    "plt.plot(indices, loss_test, label='Test set', marker='x')\n",
    "\n",
    "# Add labels and title\n",
    "plt.xlabel('Iteration No')\n",
    "plt.ylabel('Loss Function')\n",
    "plt.title('Training vs. Test Loss')\n",
    "plt.legend()\n",
    "\n",
    "# Show the plot\n",
    "plt.show()\n"
   ]
  },
  {
   "cell_type": "code",
   "execution_count": 82,
   "id": "18917dfa-1534-4ea9-be92-9230624fb835",
   "metadata": {},
   "outputs": [],
   "source": [
    "from sklearn.metrics import accuracy_score\n",
    "from mord import LogisticIT\n",
    "\n",
    "# Fit the ordered logistic regression model\n",
    "mord_model = LogisticIT()\n",
    "mord_model.fit(X_train, y_train)\n",
    "\n",
    "# Predict the classes\n",
    "y_pred_mord = mord_model.predict(X_test)\n",
    "\n",
    "# Evaluate the model\n",
    "#accuracy = accuracy_score(y_test, y_pred_mord)\n",
    "#print(f'Accuracy: {accuracy}')\n"
   ]
  },
  {
   "cell_type": "code",
   "execution_count": 83,
   "id": "777e2c4b-d41a-42f1-ab21-aa980b54f5d6",
   "metadata": {},
   "outputs": [
    {
     "data": {
      "text/plain": [
       "(0.5675, 0.585)"
      ]
     },
     "execution_count": 83,
     "metadata": {},
     "output_type": "execute_result"
    }
   ],
   "source": [
    "accuracy_score(y_train, mord_model.predict(X_train)), accuracy_score(y_test, mord_model.predict(X_test))"
   ]
  },
  {
   "cell_type": "code",
   "execution_count": 84,
   "id": "9f83d9fc-15f5-4a04-8678-b196a5617c44",
   "metadata": {},
   "outputs": [
    {
     "data": {
      "text/plain": [
       "(0.8825, 0.755)"
      ]
     },
     "execution_count": 84,
     "metadata": {},
     "output_type": "execute_result"
    }
   ],
   "source": [
    "accuracy_score(y_train, model.predict(X_train)), accuracy_score(y_test, model.predict(X_test))"
   ]
  },
  {
   "cell_type": "code",
   "execution_count": 85,
   "id": "4917c72e-fcf7-4fca-8ed7-95a44d306d54",
   "metadata": {},
   "outputs": [
    {
     "data": {
      "text/plain": [
       "(0.415, 0.45)"
      ]
     },
     "execution_count": 85,
     "metadata": {},
     "output_type": "execute_result"
    }
   ],
   "source": [
    "np.mean(y_test - y_pred_mord != 0), np.mean(abs(y_test - y_pred_mord))"
   ]
  },
  {
   "cell_type": "code",
   "execution_count": 86,
   "id": "3aeef88b-ef63-4844-90f2-ea858ee8d780",
   "metadata": {},
   "outputs": [
    {
     "data": {
      "text/plain": [
       "(0.245, 0.3)"
      ]
     },
     "execution_count": 86,
     "metadata": {},
     "output_type": "execute_result"
    }
   ],
   "source": [
    "np.mean(y_test - model.predict(X_test) != 0), np.mean(abs(y_test - model.predict(X_test)))"
   ]
  },
  {
   "cell_type": "code",
   "execution_count": 87,
   "id": "225e3af4-7517-4282-a41a-24862d3caa29",
   "metadata": {},
   "outputs": [
    {
     "data": {
      "text/plain": [
       "0.7803136903546745"
      ]
     },
     "execution_count": 87,
     "metadata": {},
     "output_type": "execute_result"
    }
   ],
   "source": [
    "_, loss_test_selected = model.predict(X_test, y_test)\n",
    "-loss_test_selected/y_test.size"
   ]
  },
  {
   "cell_type": "code",
   "execution_count": 93,
   "id": "14b15a7b-38e9-4d61-88f8-12f3b3da5d91",
   "metadata": {},
   "outputs": [],
   "source": [
    "from sklearn.model_selection import GridSearchCV"
   ]
  },
  {
   "cell_type": "code",
   "execution_count": 103,
   "id": "45368584-491c-42e8-90f2-ba717607aff5",
   "metadata": {},
   "outputs": [],
   "source": [
    "parameters = {'base_learner__max_depth': [3, 6], 'lr_g': [1e-1, 1e-2]}"
   ]
  },
  {
   "cell_type": "code",
   "execution_count": 117,
   "id": "ab0b713c-f7ba-40e9-9fe2-45a5270d11a5",
   "metadata": {},
   "outputs": [],
   "source": [
    "bor = BoostedOrdinal(n_iter_no_change = 10)\n",
    "gscv = GridSearchCV(\n",
    "    bor, parameters\n",
    "    #, scoring = 'accuracy'\n",
    "    , scoring = 'neg_log_loss'\n",
    ")"
   ]
  },
  {
   "cell_type": "code",
   "execution_count": 118,
   "id": "e56192b0-1cba-4ea0-8cfc-d077531b6384",
   "metadata": {},
   "outputs": [],
   "source": [
    "gscv = gscv.fit(X_train, y_train)"
   ]
  },
  {
   "cell_type": "code",
   "execution_count": 119,
   "id": "1277c1d0-b669-4136-b248-595e6e0e20e3",
   "metadata": {},
   "outputs": [
    {
     "data": {
      "text/plain": [
       "(0.78625, 0.75)"
      ]
     },
     "execution_count": 119,
     "metadata": {},
     "output_type": "execute_result"
    }
   ],
   "source": [
    "accuracy_score(y_train, gscv.predict(X_train)), accuracy_score(y_test, gscv.predict(X_test))"
   ]
  },
  {
   "cell_type": "code",
   "execution_count": 120,
   "id": "96a89132-d025-410a-87cb-2388d5002cbe",
   "metadata": {},
   "outputs": [
    {
     "data": {
      "text/plain": [
       "58"
      ]
     },
     "execution_count": 120,
     "metadata": {},
     "output_type": "execute_result"
    }
   ],
   "source": [
    "gscv.best_estimator_.n_iter"
   ]
  },
  {
   "cell_type": "code",
   "execution_count": null,
   "id": "30795c02-428d-4b5b-85b6-382aab1e9a17",
   "metadata": {},
   "outputs": [],
   "source": []
  }
 ],
 "metadata": {
  "kernelspec": {
   "display_name": "Python 3 (ipykernel)",
   "language": "python",
   "name": "python3"
  },
  "language_info": {
   "codemirror_mode": {
    "name": "ipython",
    "version": 3
   },
   "file_extension": ".py",
   "mimetype": "text/x-python",
   "name": "python",
   "nbconvert_exporter": "python",
   "pygments_lexer": "ipython3",
   "version": "3.11.7"
  }
 },
 "nbformat": 4,
 "nbformat_minor": 5
}
