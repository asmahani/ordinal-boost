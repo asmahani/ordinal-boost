{
 "cells": [
  {
   "cell_type": "code",
   "execution_count": 1,
   "metadata": {},
   "outputs": [
    {
     "name": "stdout",
     "output_type": "stream",
     "text": [
      "Shape of red wine: (1599, 12)\n",
      "Shape of white wine: (4898, 12)\n"
     ]
    },
    {
     "data": {
      "text/html": [
       "<div>\n",
       "<style scoped>\n",
       "    .dataframe tbody tr th:only-of-type {\n",
       "        vertical-align: middle;\n",
       "    }\n",
       "\n",
       "    .dataframe tbody tr th {\n",
       "        vertical-align: top;\n",
       "    }\n",
       "\n",
       "    .dataframe thead th {\n",
       "        text-align: right;\n",
       "    }\n",
       "</style>\n",
       "<table border=\"1\" class=\"dataframe\">\n",
       "  <thead>\n",
       "    <tr style=\"text-align: right;\">\n",
       "      <th></th>\n",
       "      <th>fixed acidity</th>\n",
       "      <th>volatile acidity</th>\n",
       "      <th>citric acid</th>\n",
       "      <th>residual sugar</th>\n",
       "      <th>chlorides</th>\n",
       "      <th>free sulfur dioxide</th>\n",
       "      <th>total sulfur dioxide</th>\n",
       "      <th>density</th>\n",
       "      <th>pH</th>\n",
       "      <th>sulphates</th>\n",
       "      <th>alcohol</th>\n",
       "      <th>quality</th>\n",
       "    </tr>\n",
       "  </thead>\n",
       "  <tbody>\n",
       "    <tr>\n",
       "      <th>0</th>\n",
       "      <td>7.4</td>\n",
       "      <td>0.70</td>\n",
       "      <td>0.00</td>\n",
       "      <td>1.9</td>\n",
       "      <td>0.076</td>\n",
       "      <td>11.0</td>\n",
       "      <td>34.0</td>\n",
       "      <td>0.9978</td>\n",
       "      <td>3.51</td>\n",
       "      <td>0.56</td>\n",
       "      <td>9.4</td>\n",
       "      <td>2</td>\n",
       "    </tr>\n",
       "    <tr>\n",
       "      <th>1</th>\n",
       "      <td>7.8</td>\n",
       "      <td>0.88</td>\n",
       "      <td>0.00</td>\n",
       "      <td>2.6</td>\n",
       "      <td>0.098</td>\n",
       "      <td>25.0</td>\n",
       "      <td>67.0</td>\n",
       "      <td>0.9968</td>\n",
       "      <td>3.20</td>\n",
       "      <td>0.68</td>\n",
       "      <td>9.8</td>\n",
       "      <td>2</td>\n",
       "    </tr>\n",
       "    <tr>\n",
       "      <th>2</th>\n",
       "      <td>7.8</td>\n",
       "      <td>0.76</td>\n",
       "      <td>0.04</td>\n",
       "      <td>2.3</td>\n",
       "      <td>0.092</td>\n",
       "      <td>15.0</td>\n",
       "      <td>54.0</td>\n",
       "      <td>0.9970</td>\n",
       "      <td>3.26</td>\n",
       "      <td>0.65</td>\n",
       "      <td>9.8</td>\n",
       "      <td>2</td>\n",
       "    </tr>\n",
       "    <tr>\n",
       "      <th>3</th>\n",
       "      <td>11.2</td>\n",
       "      <td>0.28</td>\n",
       "      <td>0.56</td>\n",
       "      <td>1.9</td>\n",
       "      <td>0.075</td>\n",
       "      <td>17.0</td>\n",
       "      <td>60.0</td>\n",
       "      <td>0.9980</td>\n",
       "      <td>3.16</td>\n",
       "      <td>0.58</td>\n",
       "      <td>9.8</td>\n",
       "      <td>3</td>\n",
       "    </tr>\n",
       "    <tr>\n",
       "      <th>4</th>\n",
       "      <td>7.4</td>\n",
       "      <td>0.70</td>\n",
       "      <td>0.00</td>\n",
       "      <td>1.9</td>\n",
       "      <td>0.076</td>\n",
       "      <td>11.0</td>\n",
       "      <td>34.0</td>\n",
       "      <td>0.9978</td>\n",
       "      <td>3.51</td>\n",
       "      <td>0.56</td>\n",
       "      <td>9.4</td>\n",
       "      <td>2</td>\n",
       "    </tr>\n",
       "  </tbody>\n",
       "</table>\n",
       "</div>"
      ],
      "text/plain": [
       "   fixed acidity  volatile acidity  citric acid  residual sugar  chlorides  \\\n",
       "0            7.4              0.70         0.00             1.9      0.076   \n",
       "1            7.8              0.88         0.00             2.6      0.098   \n",
       "2            7.8              0.76         0.04             2.3      0.092   \n",
       "3           11.2              0.28         0.56             1.9      0.075   \n",
       "4            7.4              0.70         0.00             1.9      0.076   \n",
       "\n",
       "   free sulfur dioxide  total sulfur dioxide  density    pH  sulphates  \\\n",
       "0                 11.0                  34.0   0.9978  3.51       0.56   \n",
       "1                 25.0                  67.0   0.9968  3.20       0.68   \n",
       "2                 15.0                  54.0   0.9970  3.26       0.65   \n",
       "3                 17.0                  60.0   0.9980  3.16       0.58   \n",
       "4                 11.0                  34.0   0.9978  3.51       0.56   \n",
       "\n",
       "   alcohol  quality  \n",
       "0      9.4        2  \n",
       "1      9.8        2  \n",
       "2      9.8        2  \n",
       "3      9.8        3  \n",
       "4      9.4        2  "
      ]
     },
     "execution_count": 1,
     "metadata": {},
     "output_type": "execute_result"
    }
   ],
   "source": [
    "folder = 'C:/Users/alire/OneDrive/data/asmahani_github/ordinal-boost/wine_quality'\n",
    "filename_red, filename_white = 'winequality-red.csv', 'winequality-white.csv'\n",
    "\n",
    "import os\n",
    "import pandas as pd\n",
    "\n",
    "def load_data(folder, filename):\n",
    "    csv_path = os.path.join(folder, filename)\n",
    "    return pd.read_csv(csv_path, sep = ';')\n",
    "\n",
    "red_wine = load_data(folder, filename_red)\n",
    "white_wine = load_data(folder, filename_white)\n",
    "\n",
    "red_wine['quality'] = red_wine['quality'] - 3\n",
    "white_wine['quality'] = white_wine['quality'] - 3\n",
    "\n",
    "print(f'Shape of red wine: {red_wine.shape}')\n",
    "print(f'Shape of white wine: {white_wine.shape}')\n",
    "\n",
    "red_wine.head()\n",
    "#print(white_wine.head())"
   ]
  },
  {
   "cell_type": "code",
   "execution_count": 2,
   "metadata": {},
   "outputs": [],
   "source": [
    "X_red, y_red = red_wine.drop(columns = ['quality']).to_numpy(), red_wine['quality'].to_numpy(dtype = 'int')\n",
    "X_white, y_white = white_wine.drop(columns = ['quality']).to_numpy(), white_wine['quality'].to_numpy(dtype = 'int')"
   ]
  },
  {
   "cell_type": "code",
   "execution_count": 3,
   "metadata": {},
   "outputs": [
    {
     "data": {
      "text/plain": [
       "{'base_learner__ccp_alpha': 0.0,\n",
       " 'base_learner__criterion': 'squared_error',\n",
       " 'base_learner__max_depth': 3,\n",
       " 'base_learner__max_features': None,\n",
       " 'base_learner__max_leaf_nodes': None,\n",
       " 'base_learner__min_impurity_decrease': 0.0,\n",
       " 'base_learner__min_samples_leaf': 1,\n",
       " 'base_learner__min_samples_split': 2,\n",
       " 'base_learner__min_weight_fraction_leaf': 0.0,\n",
       " 'base_learner__monotonic_cst': None,\n",
       " 'base_learner__random_state': None,\n",
       " 'base_learner__splitter': 'best',\n",
       " 'base_learner': DecisionTreeRegressor(max_depth=3),\n",
       " 'lr_g': 0.1,\n",
       " 'lr_theta': 0.001,\n",
       " 'max_iter': 100,\n",
       " 'n_class': None,\n",
       " 'n_iter_no_change': None,\n",
       " 'reltol': 0.01,\n",
       " 'validation_fraction': 0.1,\n",
       " 'validation_stratify': True}"
      ]
     },
     "execution_count": 3,
     "metadata": {},
     "output_type": "execute_result"
    }
   ],
   "source": [
    "from gbor.main import BoostedOrdinal\n",
    "gbor = BoostedOrdinal()\n",
    "gbor.get_params()"
   ]
  },
  {
   "cell_type": "code",
   "execution_count": 4,
   "metadata": {},
   "outputs": [],
   "source": [
    "from sklearn.model_selection import RandomizedSearchCV\n",
    "from scipy.stats import loguniform\n",
    "\n",
    "my_grid = dict(base_learner__max_depth = [3, 4, 5, 6, 7, 8, 9],\n",
    "            #lr_g = [0.01, 0.1, 0.5, 1],\n",
    "            lr_g = loguniform(1e-4, 1e-1),\n",
    ")\n",
    "#obj = RandomizedSearchCV(BoostedOrdinal(), my_grid)"
   ]
  },
  {
   "cell_type": "code",
   "execution_count": 5,
   "metadata": {},
   "outputs": [],
   "source": [
    "from sklearn.model_selection import cross_val_score\n",
    "\n",
    "from sklearn.model_selection import RepeatedStratifiedKFold, RepeatedKFold, KFold\n",
    "#my_cv = RepeatedStratifiedKFold(n_splits=5, n_repeats=2,\n",
    "#    random_state=123)\n",
    "my_cv = RepeatedKFold(n_splits=10, n_repeats=3,\n",
    "    random_state=123\n",
    ")\n",
    "#my_cv = KFold(n_splits=5, shuffle=True, \n",
    "#              random_state=123\n",
    "#              )\n",
    "#my_cv = 10\n",
    "\n",
    "#my_scoring = 'accuracy'\n",
    "my_scoring = 'neg_mean_absolute_error'"
   ]
  },
  {
   "cell_type": "code",
   "execution_count": 6,
   "metadata": {},
   "outputs": [
    {
     "data": {
      "text/plain": [
       "-0.411082285115304"
      ]
     },
     "execution_count": 6,
     "metadata": {},
     "output_type": "execute_result"
    }
   ],
   "source": [
    "scores_red_baseline = cross_val_score(\n",
    "    BoostedOrdinal(), \n",
    "    X_red, y_red, cv = my_cv, \n",
    "    scoring = my_scoring,\n",
    "    n_jobs = -1\n",
    ")\n",
    "scores_red_baseline.mean()"
   ]
  },
  {
   "cell_type": "code",
   "execution_count": 7,
   "metadata": {},
   "outputs": [
    {
     "data": {
      "text/plain": [
       "-0.38961084905660376"
      ]
     },
     "execution_count": 7,
     "metadata": {},
     "output_type": "execute_result"
    }
   ],
   "source": [
    "scores_red_hpt = cross_val_score(\n",
    "    RandomizedSearchCV(BoostedOrdinal(), my_grid, scoring=my_scoring), \n",
    "    X_red, y_red, cv = my_cv, \n",
    "    scoring = my_scoring,\n",
    "    n_jobs = -1\n",
    ")\n",
    "scores_red_hpt.mean()"
   ]
  },
  {
   "cell_type": "code",
   "execution_count": 8,
   "metadata": {},
   "outputs": [
    {
     "data": {
      "text/plain": [
       "TtestResult(statistic=-2.44206620197967, pvalue=0.020935189179706274, df=29)"
      ]
     },
     "execution_count": 8,
     "metadata": {},
     "output_type": "execute_result"
    }
   ],
   "source": [
    "# t-test of the two models\n",
    "from scipy.stats import ttest_rel\n",
    "ttest_rel(scores_red_baseline, scores_red_hpt)"
   ]
  },
  {
   "cell_type": "code",
   "execution_count": null,
   "metadata": {},
   "outputs": [],
   "source": []
  }
 ],
 "metadata": {
  "kernelspec": {
   "display_name": "base",
   "language": "python",
   "name": "python3"
  },
  "language_info": {
   "codemirror_mode": {
    "name": "ipython",
    "version": 3
   },
   "file_extension": ".py",
   "mimetype": "text/x-python",
   "name": "python",
   "nbconvert_exporter": "python",
   "pygments_lexer": "ipython3",
   "version": "3.11.7"
  }
 },
 "nbformat": 4,
 "nbformat_minor": 2
}
