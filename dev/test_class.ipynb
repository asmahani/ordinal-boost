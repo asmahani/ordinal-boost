{
 "cells": [
  {
   "cell_type": "code",
   "execution_count": 1,
   "id": "37da0802-2b07-4502-ba80-c1b53376e470",
   "metadata": {},
   "outputs": [],
   "source": [
    "from sklearn.datasets import make_classification\n",
    "from sklearn.model_selection import train_test_split\n",
    "\n",
    "# Create a sample dataset\n",
    "X, y = make_classification(\n",
    "    n_samples=1000, n_features=20, n_classes=3, n_informative=5\n",
    "    #, random_state=1\n",
    ")\n",
    "# Split the dataset\n",
    "X_train, X_test, y_train, y_test = train_test_split(\n",
    "    X, y, test_size=0.2\n",
    "    #, random_state=42\n",
    ")"
   ]
  },
  {
   "cell_type": "code",
   "execution_count": 2,
   "id": "545ca0b1-9ddb-4b2d-9763-3e804306e72a",
   "metadata": {},
   "outputs": [],
   "source": [
    "from gbor.main import BoostedOrdinal\n",
    "from sklearn.tree import DecisionTreeRegressor\n",
    "\n",
    "model = BoostedOrdinal(\n",
    "    max_iter = 1000, lr_g = 1e-2, lr_theta = 1e-3\n",
    "    , base_learner = DecisionTreeRegressor(max_depth = 6)\n",
    "    , n_iter_no_change = 10\n",
    "    #, reltol = -np.inf\n",
    ").fit(X_train, y_train)"
   ]
  },
  {
   "cell_type": "code",
   "execution_count": 3,
   "id": "d61219bf-289d-4759-a96d-e2b2ca77508e",
   "metadata": {},
   "outputs": [
    {
     "data": {
      "text/plain": [
       "87"
      ]
     },
     "execution_count": 3,
     "metadata": {},
     "output_type": "execute_result"
    }
   ],
   "source": [
    "#model.path['loss_holdout']\n",
    "model.n_iter"
   ]
  },
  {
   "cell_type": "code",
   "execution_count": null,
   "id": "ea1cef11-5b91-4d11-9f80-5589fdfc8299",
   "metadata": {},
   "outputs": [],
   "source": [
    "import numpy as np\n",
    "\n",
    "my_pred_test = model.predict(X_test, y_test, path = True, class_labels = False)\n",
    "my_pred_train = model.predict(X_train, y_train, path = True, class_labels = False)\n",
    "\n",
    "loss_train = -np.array([tmp[1] for tmp in my_pred_train]) / X_train.shape[0]\n",
    "loss_test = -np.array([tmp[1] for tmp in my_pred_test]) / X_test.shape[0]\n",
    "\n",
    "import matplotlib.pyplot as plt\n",
    "\n",
    "indices = np.arange(len(loss_train))\n",
    "\n",
    "# Create the plot\n",
    "plt.figure(figsize=(10, 5))\n",
    "\n",
    "# Plot the first array\n",
    "plt.plot(indices, loss_train, label='Training set', marker='o')\n",
    "\n",
    "# Plot the second array\n",
    "plt.plot(indices, loss_test, label='Test set', marker='x')\n",
    "\n",
    "# Add labels and title\n",
    "plt.xlabel('Iteration No')\n",
    "plt.ylabel('Loss Function')\n",
    "plt.title('Training vs. Test Loss')\n",
    "plt.legend()\n",
    "\n",
    "# Show the plot\n",
    "plt.show()\n"
   ]
  },
  {
   "cell_type": "code",
   "execution_count": null,
   "id": "d926ba48-9ee9-4ec3-b6e4-d948af4d581f",
   "metadata": {},
   "outputs": [],
   "source": []
  }
 ],
 "metadata": {
  "kernelspec": {
   "display_name": "Python 3 (ipykernel)",
   "language": "python",
   "name": "python3"
  },
  "language_info": {
   "codemirror_mode": {
    "name": "ipython",
    "version": 3
   },
   "file_extension": ".py",
   "mimetype": "text/x-python",
   "name": "python",
   "nbconvert_exporter": "python",
   "pygments_lexer": "ipython3",
   "version": "3.11.7"
  }
 },
 "nbformat": 4,
 "nbformat_minor": 5
}
