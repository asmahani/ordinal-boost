{
 "cells": [
  {
   "cell_type": "code",
   "execution_count": 1,
   "id": "69774ef9-1c68-4207-8814-fc067f7e4b65",
   "metadata": {},
   "outputs": [],
   "source": [
    "import pandas as pd\n",
    "import numpy as np\n",
    "from sklearn.model_selection import train_test_split\n",
    "from gbor.main import BoostedOrdinal\n",
    "from sklearn.tree import DecisionTreeRegressor\n",
    "from sklearn.model_selection import GridSearchCV\n",
    "import time\n",
    "from sklearn.model_selection import cross_val_score, RepeatedKFold\n",
    "\n",
    "wine_red = pd.read_csv('../data/winequality-red.csv', sep = ';')\n",
    "#wine_red = pd.read_csv('../data/winequality-white.csv', sep = ';')\n",
    "wine_red['quality'] = wine_red['quality'] - np.min(wine_red['quality'])\n",
    "\n",
    "X, y = wine_red.drop(columns = ['quality']).to_numpy(), wine_red['quality'].to_numpy(dtype = 'int')\n",
    "#X_train, X_test, y_train, y_test = train_test_split(X, y, test_size = 0.4, stratify = y)\n",
    "\n",
    "cv = RepeatedKFold(n_repeats = 5, n_splits = 10)"
   ]
  },
  {
   "cell_type": "code",
   "execution_count": 10,
   "id": "800938c6-30f1-4b54-8f9d-f3939b0fbcc7",
   "metadata": {},
   "outputs": [
    {
     "name": "stdout",
     "output_type": "stream",
     "text": [
      "time: 6.4 sec\n",
      "[0.58125    0.6        0.5875     0.60625    0.65625    0.66875\n",
      " 0.65625    0.6125     0.64375    0.62893082 0.64375    0.58125\n",
      " 0.6        0.54375    0.65625    0.61875    0.68125    0.725\n",
      " 0.56875    0.64779874 0.5875     0.66875    0.6625     0.675\n",
      " 0.5875     0.6        0.56875    0.5625     0.65625    0.6918239\n",
      " 0.59375    0.63125    0.65625    0.60625    0.6        0.6375\n",
      " 0.61875    0.63125    0.6375     0.58490566 0.70625    0.625\n",
      " 0.63125    0.6        0.61875    0.63125    0.625      0.61875\n",
      " 0.5875     0.58490566]\n",
      "0.6238922955974843\n"
     ]
    }
   ],
   "source": [
    "new_gbor = BoostedOrdinal(\n",
    "    n_iter_no_change = 10, max_iter = 10000\n",
    "    , base_learner = DecisionTreeRegressor(max_depth = 6)\n",
    "    , lr_g = 1e-1\n",
    "    , lr_theta = 1#e-4\n",
    "    , validation_stratify = False\n",
    "    , validation_fraction = 0.2\n",
    "    , reltol = 0.0\n",
    ")\n",
    "start_time = time.time()\n",
    "my_cv = cross_val_score(\n",
    "    new_gbor, X, y, cv = cv\n",
    "    , scoring = 'accuracy'\n",
    "    , n_jobs = 10\n",
    ")\n",
    "end_time = time.time()\n",
    "print('time: {} sec'.format(round(end_time - start_time, 1)))\n",
    "\n",
    "print(my_cv)\n",
    "print(my_cv.mean())"
   ]
  },
  {
   "cell_type": "code",
   "execution_count": 12,
   "id": "13a15727-6e35-4ac8-9c16-8acfec7d9ac7",
   "metadata": {},
   "outputs": [
    {
     "name": "stderr",
     "output_type": "stream",
     "text": [
      "[Parallel(n_jobs=10)]: Using backend LokyBackend with 10 concurrent workers.\n",
      "[Parallel(n_jobs=10)]: Done  21 tasks      | elapsed:  7.6min\n"
     ]
    },
    {
     "name": "stdout",
     "output_type": "stream",
     "text": [
      "time: 840.7 sec\n",
      "[0.60625    0.56875    0.61875    0.61875    0.55       0.66875\n",
      " 0.5875     0.65       0.59375    0.60377358 0.675      0.575\n",
      " 0.6625     0.5875     0.575      0.6625     0.56875    0.60625\n",
      " 0.60625    0.62893082 0.56875    0.65625    0.625      0.59375\n",
      " 0.6375     0.64375    0.575      0.575      0.61875    0.64150943\n",
      " 0.6125     0.6        0.59375    0.60625    0.575      0.58125\n",
      " 0.625      0.63125    0.64375    0.59119497 0.61875    0.5875\n",
      " 0.6        0.63125    0.59375    0.65       0.61875    0.61875\n",
      " 0.61875    0.69811321]\n",
      "0.6128954402515723\n"
     ]
    },
    {
     "name": "stderr",
     "output_type": "stream",
     "text": [
      "[Parallel(n_jobs=10)]: Done  50 out of  50 | elapsed: 14.0min finished\n"
     ]
    }
   ],
   "source": [
    "parameter_grid2 = {'base_learner__max_depth': [3, 6, 9], 'lr_g': [1e0, 1e-1, 1e-2]}\n",
    "new_gridsearch = GridSearchCV(\n",
    "    new_gbor\n",
    "    , parameter_grid2\n",
    "    , scoring = 'accuracy'\n",
    "    , n_jobs = 1\n",
    ")\n",
    "start_time = time.time()\n",
    "my_cv2 = cross_val_score(\n",
    "    new_gridsearch, X, y, cv = cv\n",
    "    , scoring = 'accuracy'\n",
    "    , n_jobs = 10\n",
    "    , verbose = 2\n",
    ")\n",
    "end_time = time.time()\n",
    "print('time: {} sec'.format(round(end_time - start_time, 1)))\n",
    "\n",
    "print(my_cv2)\n",
    "print(my_cv2.mean())"
   ]
  },
  {
   "cell_type": "code",
   "execution_count": 13,
   "id": "a4b48acd-86f0-483d-a12a-6328dee29115",
   "metadata": {},
   "outputs": [
    {
     "name": "stderr",
     "output_type": "stream",
     "text": [
      "[Parallel(n_jobs=10)]: Using backend LokyBackend with 10 concurrent workers.\n",
      "[Parallel(n_jobs=10)]: Done  21 tasks      | elapsed:  4.1min\n"
     ]
    },
    {
     "name": "stdout",
     "output_type": "stream",
     "text": [
      "time: 571.5 sec\n",
      "[0.6125     0.5625     0.66875    0.6125     0.6375     0.59375\n",
      " 0.61875    0.58125    0.5875     0.61006289 0.63125    0.60625\n",
      " 0.56875    0.6        0.6625     0.64375    0.60625    0.56875\n",
      " 0.63125    0.56603774 0.6125     0.55       0.56875    0.5875\n",
      " 0.6625     0.65625    0.66875    0.56875    0.56875    0.66037736\n",
      " 0.63125    0.63125    0.53125    0.5875     0.59375    0.6375\n",
      " 0.58125    0.675      0.55625    0.6163522  0.5875     0.575\n",
      " 0.53125    0.63125    0.56875    0.6375     0.575      0.59375\n",
      " 0.6625     0.67295597]\n"
     ]
    },
    {
     "name": "stderr",
     "output_type": "stream",
     "text": [
      "[Parallel(n_jobs=10)]: Done  50 out of  50 | elapsed:  9.5min finished\n"
     ]
    }
   ],
   "source": [
    "from sklearn.model_selection import RandomizedSearchCV\n",
    "from scipy.stats import loguniform\n",
    "\n",
    "parameter_distros = {\n",
    "    'base_learner__max_depth': [3, 4, 5, 6, 7, 8, 9]\n",
    "    , 'lr_g': loguniform(1e-2, 1e0)\n",
    "}\n",
    "new_randomsearch = RandomizedSearchCV(\n",
    "    new_gbor\n",
    "    , parameter_distros\n",
    "    , scoring = 'accuracy'\n",
    "    , n_iter = 10\n",
    "    , n_jobs = 1\n",
    ")\n",
    "start_time = time.time()\n",
    "my_cv3 = cross_val_score(\n",
    "    new_randomsearch, X, y, cv = cv\n",
    "    , scoring = 'accuracy'\n",
    "    , n_jobs = 10\n",
    "    , verbose = 2\n",
    ")\n",
    "end_time = time.time()\n",
    "print('time: {} sec'.format(round(end_time - start_time, 1)))\n",
    "\n",
    "print(my_cv3)"
   ]
  },
  {
   "cell_type": "code",
   "execution_count": 14,
   "id": "fe965b54-e3e5-41b5-8446-30a44d0b16da",
   "metadata": {},
   "outputs": [
    {
     "name": "stdout",
     "output_type": "stream",
     "text": [
      "0.6070157232704403\n"
     ]
    }
   ],
   "source": [
    "print(my_cv3.mean())"
   ]
  },
  {
   "cell_type": "code",
   "execution_count": null,
   "id": "6e79f8bb-3e02-4e8e-b2ba-b03f55ecc394",
   "metadata": {},
   "outputs": [],
   "source": [
    "#from scipy import stats\n",
    "\n",
    "# Perform paired t-test\n",
    "#t_stat, p_value = stats.ttest_rel(my_cv, my_cv2)\n",
    "#print(f\"Paired t-test: t-statistic = {t_stat}, p-value = {p_value}\")\n"
   ]
  },
  {
   "cell_type": "code",
   "execution_count": 15,
   "id": "38231935-625f-4486-8a44-22da5f0060c1",
   "metadata": {},
   "outputs": [
    {
     "name": "stderr",
     "output_type": "stream",
     "text": [
      "[Parallel(n_jobs=-1)]: Using backend LokyBackend with 12 concurrent workers.\n",
      "[Parallel(n_jobs=-1)]: Done  26 tasks      | elapsed:    4.7s\n"
     ]
    },
    {
     "name": "stdout",
     "output_type": "stream",
     "text": [
      "time: 7.5 sec\n",
      "[0.63125    0.59375    0.6125     0.56875    0.65       0.58125\n",
      " 0.56875    0.575      0.575      0.59119497 0.55625    0.625\n",
      " 0.625      0.6375     0.58125    0.63125    0.59375    0.5875\n",
      " 0.53125    0.53459119 0.65       0.6        0.55       0.58125\n",
      " 0.5125     0.625      0.65       0.59375    0.575      0.54716981\n",
      " 0.64375    0.6125     0.55625    0.63125    0.63125    0.5875\n",
      " 0.48125    0.56875    0.59375    0.57232704 0.61875    0.575\n",
      " 0.63125    0.54375    0.60625    0.58125    0.5625     0.63125\n",
      " 0.575      0.58490566]\n"
     ]
    },
    {
     "name": "stderr",
     "output_type": "stream",
     "text": [
      "[Parallel(n_jobs=-1)]: Done  50 out of  50 | elapsed:    7.3s finished\n"
     ]
    }
   ],
   "source": [
    "from mord import LogisticIT\n",
    "mord_model = LogisticIT(alpha = 0.0)\n",
    "\n",
    "start_time = time.time()\n",
    "my_cv4 = cross_val_score(\n",
    "    mord_model, X, y, cv = cv\n",
    "    , scoring = 'accuracy'\n",
    "    , n_jobs = -1\n",
    "    , verbose = 1\n",
    ")\n",
    "end_time = time.time()\n",
    "print('time: {} sec'.format(round(end_time - start_time, 1)))\n",
    "\n",
    "print(my_cv4)"
   ]
  },
  {
   "cell_type": "code",
   "execution_count": 16,
   "id": "4ba40643-a43f-4b26-ad92-e38d1fee30ca",
   "metadata": {},
   "outputs": [
    {
     "data": {
      "text/plain": [
       "(0.5904787735849056,\n",
       " 0.6238922955974843,\n",
       " 0.6128954402515723,\n",
       " 0.6070157232704403)"
      ]
     },
     "execution_count": 16,
     "metadata": {},
     "output_type": "execute_result"
    }
   ],
   "source": [
    "my_cv4.mean(), my_cv.mean(), my_cv2.mean(), my_cv3.mean()"
   ]
  },
  {
   "cell_type": "code",
   "execution_count": 19,
   "id": "4b195469-980b-4b73-b45c-0cdb436474f4",
   "metadata": {},
   "outputs": [
    {
     "name": "stdout",
     "output_type": "stream",
     "text": [
      "Paired t-test: t-statistic = 1.6182284563048241, p-value = 0.11203328470181405\n"
     ]
    }
   ],
   "source": [
    "from scipy import stats\n",
    "\n",
    "t_stat, p_value = stats.ttest_rel(my_cv, my_cv2)\n",
    "print(f\"Paired t-test: t-statistic = {t_stat}, p-value = {p_value}\")\n"
   ]
  }
 ],
 "metadata": {
  "kernelspec": {
   "display_name": "Python 3 (ipykernel)",
   "language": "python",
   "name": "python3"
  },
  "language_info": {
   "codemirror_mode": {
    "name": "ipython",
    "version": 3
   },
   "file_extension": ".py",
   "mimetype": "text/x-python",
   "name": "python",
   "nbconvert_exporter": "python",
   "pygments_lexer": "ipython3",
   "version": "3.11.7"
  }
 },
 "nbformat": 4,
 "nbformat_minor": 5
}
