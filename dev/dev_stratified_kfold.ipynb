{
 "cells": [
  {
   "cell_type": "code",
   "execution_count": 1,
   "id": "69774ef9-1c68-4207-8814-fc067f7e4b65",
   "metadata": {},
   "outputs": [],
   "source": [
    "import pandas as pd\n",
    "import numpy as np\n",
    "from sklearn.model_selection import train_test_split\n",
    "from gbor.main import BoostedOrdinal\n",
    "from sklearn.tree import DecisionTreeRegressor\n",
    "from sklearn.model_selection import GridSearchCV\n",
    "import time\n",
    "from sklearn.model_selection import cross_val_score, RepeatedKFold\n",
    "\n",
    "#wine_red = pd.read_csv('../data/winequality-red.csv', sep = ';')\n",
    "wine_red = pd.read_csv('../data/winequality-white.csv', sep = ';')\n",
    "wine_red['quality'] = wine_red['quality'] - np.min(wine_red['quality'])\n",
    "\n",
    "X, y = wine_red.drop(columns = ['quality']).to_numpy(), wine_red['quality'].to_numpy(dtype = 'int')\n",
    "#X_train, X_test, y_train, y_test = train_test_split(X, y, test_size = 0.4, stratify = y)\n",
    "\n",
    "cv = RepeatedKFold(n_repeats = 5, n_splits = 10)"
   ]
  },
  {
   "cell_type": "code",
   "execution_count": 2,
   "id": "800938c6-30f1-4b54-8f9d-f3939b0fbcc7",
   "metadata": {},
   "outputs": [
    {
     "name": "stdout",
     "output_type": "stream",
     "text": [
      "time: 7.9 sec\n",
      "[0.58979592 0.58367347 0.58979592 0.5877551  0.55510204 0.5877551\n",
      " 0.56122449 0.5755102  0.53578732 0.55010225 0.58163265 0.55510204\n",
      " 0.57142857 0.57959184 0.54285714 0.56938776 0.57142857 0.54081633\n",
      " 0.55623722 0.55623722 0.55918367 0.56938776 0.55306122 0.58367347\n",
      " 0.57346939 0.58367347 0.54693878 0.6122449  0.55623722 0.55623722\n",
      " 0.58571429 0.54897959 0.6244898  0.56530612 0.56122449 0.57959184\n",
      " 0.6        0.56530612 0.54601227 0.56850716 0.55510204 0.58979592\n",
      " 0.54897959 0.54897959 0.59387755 0.55102041 0.51632653 0.57142857\n",
      " 0.6196319  0.56441718]\n"
     ]
    }
   ],
   "source": [
    "new_gbor = BoostedOrdinal(\n",
    "    n_iter_no_change = 10, max_iter = 1000\n",
    "    , base_learner = DecisionTreeRegressor(max_depth = 6)\n",
    "    , lr_g = 1e-1\n",
    "    , lr_theta = 5#e-4\n",
    "    , validation_stratify = False\n",
    "    , validation_fraction = 0.2\n",
    ")\n",
    "start_time = time.time()\n",
    "my_cv = cross_val_score(\n",
    "    new_gbor, X, y, cv = cv\n",
    "    , scoring = 'accuracy'\n",
    "    , n_jobs = -1\n",
    ")\n",
    "end_time = time.time()\n",
    "print('time: {} sec'.format(round(end_time - start_time, 1)))\n",
    "\n",
    "print(my_cv)"
   ]
  },
  {
   "cell_type": "code",
   "execution_count": 3,
   "id": "5dd560b0-e89a-4b23-b7aa-249db8e19876",
   "metadata": {},
   "outputs": [
    {
     "data": {
      "text/plain": [
       "0.5688003839572638"
      ]
     },
     "execution_count": 3,
     "metadata": {},
     "output_type": "execute_result"
    }
   ],
   "source": [
    "my_cv.mean()"
   ]
  },
  {
   "cell_type": "code",
   "execution_count": 4,
   "id": "13a15727-6e35-4ac8-9c16-8acfec7d9ac7",
   "metadata": {},
   "outputs": [
    {
     "name": "stderr",
     "output_type": "stream",
     "text": [
      "[Parallel(n_jobs=-1)]: Using backend LokyBackend with 12 concurrent workers.\n",
      "[Parallel(n_jobs=-1)]: Done  26 tasks      | elapsed:  9.1min\n"
     ]
    },
    {
     "name": "stdout",
     "output_type": "stream",
     "text": [
      "time: 834.2 sec\n",
      "[0.52244898 0.54081633 0.52653061 0.54489796 0.57142857 0.57755102\n",
      " 0.49795918 0.55102041 0.56237219 0.52760736 0.51836735 0.56530612\n",
      " 0.51428571 0.5244898  0.56530612 0.55714286 0.54897959 0.53469388\n",
      " 0.57873211 0.55010225 0.54489796 0.56938776 0.52857143 0.54081633\n",
      " 0.46734694 0.56326531 0.54693878 0.57346939 0.54805726 0.5603272\n",
      " 0.56326531 0.54693878 0.51836735 0.56938776 0.54897959 0.50204082\n",
      " 0.53877551 0.5877551  0.52556237 0.55214724 0.53061224 0.51632653\n",
      " 0.57142857 0.55102041 0.55714286 0.47346939 0.52653061 0.60612245\n",
      " 0.53169734 0.57055215]\n"
     ]
    },
    {
     "name": "stderr",
     "output_type": "stream",
     "text": [
      "[Parallel(n_jobs=-1)]: Done  50 out of  50 | elapsed: 13.9min finished\n"
     ]
    }
   ],
   "source": [
    "parameter_grid2 = {'base_learner__max_depth': [3, 6, 9], 'lr_g': [1e-1, 1e-2, 1e-3]}\n",
    "new_gridsearch = GridSearchCV(\n",
    "    new_gbor\n",
    "    , parameter_grid2\n",
    "    , scoring = 'accuracy'\n",
    "    , n_jobs = -1\n",
    ")\n",
    "start_time = time.time()\n",
    "my_cv2 = cross_val_score(\n",
    "    new_gridsearch, X, y, cv = cv\n",
    "    , scoring = 'accuracy'\n",
    "    , n_jobs = -1\n",
    "    , verbose = 1\n",
    ")\n",
    "end_time = time.time()\n",
    "print('time: {} sec'.format(round(end_time - start_time, 1)))\n",
    "\n",
    "print(my_cv2)"
   ]
  },
  {
   "cell_type": "code",
   "execution_count": 5,
   "id": "a4b48acd-86f0-483d-a12a-6328dee29115",
   "metadata": {},
   "outputs": [
    {
     "name": "stderr",
     "output_type": "stream",
     "text": [
      "[Parallel(n_jobs=-1)]: Using backend LokyBackend with 12 concurrent workers.\n",
      "[Parallel(n_jobs=-1)]: Done  26 tasks      | elapsed:  7.1min\n"
     ]
    },
    {
     "name": "stdout",
     "output_type": "stream",
     "text": [
      "time: 741.4 sec\n",
      "[0.52244898 0.53061224 0.53265306 0.5755102  0.52040816 0.58367347\n",
      " 0.55510204 0.54081633 0.53783231 0.55214724 0.57959184 0.52244898\n",
      " 0.52244898 0.56326531 0.54285714 0.51836735 0.56530612 0.5\n",
      " 0.57668712 0.60327198 0.4877551  0.57755102 0.51428571 0.56938776\n",
      " 0.49795918 0.52244898 0.55306122 0.53265306 0.57259714 0.54192229\n",
      " 0.53469388 0.5244898  0.49387755 0.59183673 0.55510204 0.55102041\n",
      " 0.5877551  0.51020408 0.55010225 0.55214724 0.53061224 0.54285714\n",
      " 0.5877551  0.55306122 0.5755102  0.56938776 0.56734694 0.51836735\n",
      " 0.58282209 0.55623722]\n"
     ]
    },
    {
     "name": "stderr",
     "output_type": "stream",
     "text": [
      "[Parallel(n_jobs=-1)]: Done  50 out of  50 | elapsed: 12.4min finished\n"
     ]
    }
   ],
   "source": [
    "from sklearn.model_selection import RandomizedSearchCV\n",
    "from scipy.stats import loguniform\n",
    "\n",
    "parameter_distros = {\n",
    "    'base_learner__max_depth': [3, 4, 5, 6, 7, 8, 9]\n",
    "    , 'lr_g': loguniform(1e-3, 1e-1)\n",
    "}\n",
    "new_randomsearch = RandomizedSearchCV(\n",
    "    new_gbor\n",
    "    , parameter_distros\n",
    "    , scoring = 'accuracy'\n",
    "    , n_iter = 10\n",
    ")\n",
    "start_time = time.time()\n",
    "my_cv3 = cross_val_score(\n",
    "    new_randomsearch, X, y, cv = cv\n",
    "    , scoring = 'accuracy'\n",
    "    , n_jobs = -1\n",
    "    , verbose = 1\n",
    ")\n",
    "end_time = time.time()\n",
    "print('time: {} sec'.format(round(end_time - start_time, 1)))\n",
    "\n",
    "print(my_cv3)"
   ]
  },
  {
   "cell_type": "code",
   "execution_count": 6,
   "id": "6e79f8bb-3e02-4e8e-b2ba-b03f55ecc394",
   "metadata": {},
   "outputs": [],
   "source": [
    "#from scipy import stats\n",
    "\n",
    "# Perform paired t-test\n",
    "#t_stat, p_value = stats.ttest_rel(my_cv, my_cv2)\n",
    "#print(f\"Paired t-test: t-statistic = {t_stat}, p-value = {p_value}\")\n"
   ]
  },
  {
   "cell_type": "code",
   "execution_count": 7,
   "id": "38231935-625f-4486-8a44-22da5f0060c1",
   "metadata": {},
   "outputs": [
    {
     "name": "stderr",
     "output_type": "stream",
     "text": [
      "[Parallel(n_jobs=-1)]: Using backend LokyBackend with 12 concurrent workers.\n",
      "[Parallel(n_jobs=-1)]: Done  26 tasks      | elapsed:   30.6s\n"
     ]
    },
    {
     "name": "stdout",
     "output_type": "stream",
     "text": [
      "time: 47.2 sec\n",
      "[0.50204082 0.54489796 0.53469388 0.51020408 0.50612245 0.50612245\n",
      " 0.53877551 0.52244898 0.56441718 0.53578732 0.54897959 0.54897959\n",
      " 0.53673469 0.50816327 0.51020408 0.54489796 0.49183673 0.51632653\n",
      " 0.51533742 0.54805726 0.4877551  0.49183673 0.48367347 0.55918367\n",
      " 0.56530612 0.58571429 0.5244898  0.54285714 0.48670757 0.52147239\n",
      " 0.46938776 0.52244898 0.58979592 0.52040816 0.48571429 0.51836735\n",
      " 0.59795918 0.52653061 0.49488753 0.52351738 0.51836735 0.52244898\n",
      " 0.5122449  0.54081633 0.51632653 0.53877551 0.55306122 0.52653061\n",
      " 0.5194274  0.50306748]\n"
     ]
    },
    {
     "name": "stderr",
     "output_type": "stream",
     "text": [
      "[Parallel(n_jobs=-1)]: Done  50 out of  50 | elapsed:   47.1s finished\n"
     ]
    }
   ],
   "source": [
    "from mord import LogisticIT\n",
    "mord_model = LogisticIT(alpha = 0.0)\n",
    "\n",
    "start_time = time.time()\n",
    "my_cv4 = cross_val_score(\n",
    "    mord_model, X, y, cv = cv\n",
    "    , scoring = 'accuracy'\n",
    "    , n_jobs = -1\n",
    "    , verbose = 1\n",
    ")\n",
    "end_time = time.time()\n",
    "print('time: {} sec'.format(round(end_time - start_time, 1)))\n",
    "\n",
    "print(my_cv4)"
   ]
  },
  {
   "cell_type": "code",
   "execution_count": 8,
   "id": "4ba40643-a43f-4b26-ad92-e38d1fee30ca",
   "metadata": {},
   "outputs": [
    {
     "data": {
      "text/plain": [
       "(0.5256821501606777,\n",
       " 0.5688003839572638,\n",
       " 0.5442247819373148,\n",
       " 0.5470051333416802)"
      ]
     },
     "execution_count": 8,
     "metadata": {},
     "output_type": "execute_result"
    }
   ],
   "source": [
    "my_cv4.mean(), my_cv.mean(), my_cv2.mean(), my_cv3.mean()"
   ]
  },
  {
   "cell_type": "code",
   "execution_count": 13,
   "id": "4b195469-980b-4b73-b45c-0cdb436474f4",
   "metadata": {},
   "outputs": [
    {
     "name": "stdout",
     "output_type": "stream",
     "text": [
      "Paired t-test: t-statistic = -0.5295268103868339, p-value = 0.5988311391917884\n"
     ]
    }
   ],
   "source": [
    "from scipy import stats\n",
    "\n",
    "t_stat, p_value = stats.ttest_rel(my_cv2, my_cv3)\n",
    "print(f\"Paired t-test: t-statistic = {t_stat}, p-value = {p_value}\")\n"
   ]
  },
  {
   "cell_type": "code",
   "execution_count": 10,
   "id": "dec4d704-aad3-4867-bfb9-6a0192876f1c",
   "metadata": {},
   "outputs": [],
   "source": [
    "#t_stat, p_value = stats.ttest_rel(my_cv2, my_cv3)\n",
    "#print(f\"Paired t-test: t-statistic = {t_stat}, p-value = {p_value}\")\n"
   ]
  },
  {
   "cell_type": "code",
   "execution_count": 11,
   "id": "8d5ad6f0-fd96-41bb-a0d7-39362ad8e881",
   "metadata": {},
   "outputs": [
    {
     "data": {
      "text/plain": [
       "(array([0, 1, 2, 3, 4, 5, 6]),\n",
       " array([  20,  163, 1457, 2198,  880,  175,    5], dtype=int64))"
      ]
     },
     "execution_count": 11,
     "metadata": {},
     "output_type": "execute_result"
    }
   ],
   "source": [
    "np.unique(y, return_counts=True)"
   ]
  },
  {
   "cell_type": "code",
   "execution_count": null,
   "id": "21688937-1527-43eb-a996-642b8c6d87d2",
   "metadata": {},
   "outputs": [],
   "source": []
  }
 ],
 "metadata": {
  "kernelspec": {
   "display_name": "Python 3 (ipykernel)",
   "language": "python",
   "name": "python3"
  },
  "language_info": {
   "codemirror_mode": {
    "name": "ipython",
    "version": 3
   },
   "file_extension": ".py",
   "mimetype": "text/x-python",
   "name": "python",
   "nbconvert_exporter": "python",
   "pygments_lexer": "ipython3",
   "version": "3.11.7"
  }
 },
 "nbformat": 4,
 "nbformat_minor": 5
}
