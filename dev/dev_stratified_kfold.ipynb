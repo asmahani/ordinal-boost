{
 "cells": [
  {
   "cell_type": "code",
   "execution_count": 12,
   "id": "69774ef9-1c68-4207-8814-fc067f7e4b65",
   "metadata": {},
   "outputs": [],
   "source": [
    "import pandas as pd\n",
    "import numpy as np\n",
    "from sklearn.model_selection import train_test_split\n",
    "from gbor.main import BoostedOrdinal\n",
    "from sklearn.tree import DecisionTreeRegressor\n",
    "from sklearn.model_selection import GridSearchCV\n",
    "import time\n",
    "from sklearn.model_selection import cross_val_score, RepeatedKFold\n",
    "\n",
    "wine_red = pd.read_csv('../data/winequality-red.csv', sep = ';')\n",
    "#wine_red = pd.read_csv('../data/winequality-white.csv', sep = ';')\n",
    "wine_red['quality'] = wine_red['quality'] - np.min(wine_red['quality'])\n",
    "\n",
    "X, y = wine_red.drop(columns = ['quality']).to_numpy(), wine_red['quality'].to_numpy(dtype = 'int')\n",
    "#X_train, X_test, y_train, y_test = train_test_split(X, y, test_size = 0.4, stratify = y)\n",
    "\n",
    "cv = RepeatedKFold(n_repeats = 10, n_splits = 5)"
   ]
  },
  {
   "cell_type": "code",
   "execution_count": 13,
   "id": "800938c6-30f1-4b54-8f9d-f3939b0fbcc7",
   "metadata": {},
   "outputs": [
    {
     "name": "stdout",
     "output_type": "stream",
     "text": [
      "time: 5.5 sec\n",
      "[0.64375    0.58125    0.678125   0.6125     0.63636364 0.640625\n",
      " 0.628125   0.615625   0.64375    0.5799373  0.6375     0.696875\n",
      " 0.6125     0.575      0.63009404 0.61875    0.634375   0.596875\n",
      " 0.6375     0.65517241 0.61875    0.6875     0.578125   0.6125\n",
      " 0.62382445 0.63125    0.64375    0.6125     0.703125   0.60188088\n",
      " 0.671875   0.56875    0.621875   0.671875   0.60188088 0.640625\n",
      " 0.58125    0.590625   0.675      0.59561129 0.6375     0.640625\n",
      " 0.6        0.6125     0.63009404 0.6        0.6        0.640625\n",
      " 0.6625     0.62695925]\n"
     ]
    }
   ],
   "source": [
    "new_gbor = BoostedOrdinal(\n",
    "    n_iter_no_change = 10, max_iter = 1000\n",
    "    , base_learner = DecisionTreeRegressor(max_depth = 6)\n",
    "    , lr_g = 1e-1\n",
    "    , lr_theta = 5e-4\n",
    "    , validation_stratify = False\n",
    "    , validation_fraction = 0.2\n",
    ")\n",
    "start_time = time.time()\n",
    "my_cv = cross_val_score(\n",
    "    new_gbor, X, y, cv = cv\n",
    "    , scoring = 'accuracy'\n",
    "    , n_jobs = -1\n",
    ")\n",
    "end_time = time.time()\n",
    "print('time: {} sec'.format(round(end_time - start_time, 1)))\n",
    "\n",
    "print(my_cv)"
   ]
  },
  {
   "cell_type": "code",
   "execution_count": 14,
   "id": "5dd560b0-e89a-4b23-b7aa-249db8e19876",
   "metadata": {},
   "outputs": [
    {
     "data": {
      "text/plain": [
       "0.6267613636363637"
      ]
     },
     "execution_count": 14,
     "metadata": {},
     "output_type": "execute_result"
    }
   ],
   "source": [
    "my_cv.mean()"
   ]
  },
  {
   "cell_type": "code",
   "execution_count": null,
   "id": "13a15727-6e35-4ac8-9c16-8acfec7d9ac7",
   "metadata": {},
   "outputs": [],
   "source": [
    "parameter_grid2 = {'base_learner__max_depth': [3, 6, 9], 'lr_g': [1e-1, 1e-2, 1e-3]}\n",
    "new_gridsearch = GridSearchCV(\n",
    "    new_gbor\n",
    "    , parameter_grid2\n",
    "    , scoring = 'accuracy'\n",
    "    , n_jobs = -1\n",
    ")\n",
    "start_time = time.time()\n",
    "my_cv2 = cross_val_score(\n",
    "    new_gridsearch, X, y, cv = cv\n",
    "    , scoring = 'accuracy'\n",
    "    , n_jobs = -1\n",
    "    , verbose = 1\n",
    ")\n",
    "end_time = time.time()\n",
    "print('time: {} sec'.format(round(end_time - start_time, 1)))\n",
    "\n",
    "print(my_cv2)"
   ]
  },
  {
   "cell_type": "code",
   "execution_count": null,
   "id": "a4b48acd-86f0-483d-a12a-6328dee29115",
   "metadata": {},
   "outputs": [],
   "source": [
    "from sklearn.model_selection import RandomizedSearchCV\n",
    "from scipy.stats import loguniform\n",
    "\n",
    "parameter_distros = {\n",
    "    'base_learner__max_depth': [3, 4, 5, 6, 7, 8, 9]\n",
    "    , 'lr_g': loguniform(1e-3, 1e-1)\n",
    "}\n",
    "new_randomsearch = RandomizedSearchCV(\n",
    "    new_gbor\n",
    "    , parameter_distros\n",
    "    , scoring = 'accuracy'\n",
    "    , n_iter = 10\n",
    ")\n",
    "start_time = time.time()\n",
    "my_cv3 = cross_val_score(\n",
    "    new_randomsearch, X, y, cv = cv\n",
    "    , scoring = 'accuracy'\n",
    "    , n_jobs = -1\n",
    "    , verbose = 1\n",
    ")\n",
    "end_time = time.time()\n",
    "print('time: {} sec'.format(round(end_time - start_time, 1)))\n",
    "\n",
    "print(my_cv3)"
   ]
  },
  {
   "cell_type": "code",
   "execution_count": null,
   "id": "6e79f8bb-3e02-4e8e-b2ba-b03f55ecc394",
   "metadata": {},
   "outputs": [],
   "source": [
    "#from scipy import stats\n",
    "\n",
    "# Perform paired t-test\n",
    "#t_stat, p_value = stats.ttest_rel(my_cv, my_cv2)\n",
    "#print(f\"Paired t-test: t-statistic = {t_stat}, p-value = {p_value}\")\n"
   ]
  },
  {
   "cell_type": "code",
   "execution_count": 15,
   "id": "38231935-625f-4486-8a44-22da5f0060c1",
   "metadata": {},
   "outputs": [
    {
     "name": "stderr",
     "output_type": "stream",
     "text": [
      "[Parallel(n_jobs=-1)]: Using backend LokyBackend with 12 concurrent workers.\n",
      "[Parallel(n_jobs=-1)]: Done  26 tasks      | elapsed:    7.3s\n"
     ]
    },
    {
     "name": "stdout",
     "output_type": "stream",
     "text": [
      "time: 11.6 sec\n",
      "[0.603125   0.56875    0.6375     0.571875   0.56426332 0.6125\n",
      " 0.571875   0.590625   0.5875     0.59561129 0.596875   0.59375\n",
      " 0.6        0.596875   0.56426332 0.58125    0.525      0.565625\n",
      " 0.6375     0.63009404 0.609375   0.58125    0.596875   0.60625\n",
      " 0.5799373  0.615625   0.578125   0.615625   0.559375   0.59561129\n",
      " 0.59375    0.584375   0.55625    0.609375   0.56739812 0.603125\n",
      " 0.54375    0.56875    0.628125   0.5830721  0.65625    0.584375\n",
      " 0.59375    0.571875   0.55172414 0.6125     0.571875   0.56875\n",
      " 0.596875   0.59874608]\n"
     ]
    },
    {
     "name": "stderr",
     "output_type": "stream",
     "text": [
      "[Parallel(n_jobs=-1)]: Done  50 out of  50 | elapsed:   11.5s finished\n"
     ]
    }
   ],
   "source": [
    "from mord import LogisticIT\n",
    "mord_model = LogisticIT(alpha = 0.0)\n",
    "\n",
    "start_time = time.time()\n",
    "my_cv4 = cross_val_score(\n",
    "    mord_model, X, y, cv = cv\n",
    "    , scoring = 'accuracy'\n",
    "    , n_jobs = -1\n",
    "    , verbose = 1\n",
    ")\n",
    "end_time = time.time()\n",
    "print('time: {} sec'.format(round(end_time - start_time, 1)))\n",
    "\n",
    "print(my_cv4)"
   ]
  },
  {
   "cell_type": "code",
   "execution_count": 16,
   "id": "4ba40643-a43f-4b26-ad92-e38d1fee30ca",
   "metadata": {},
   "outputs": [
    {
     "data": {
      "text/plain": [
       "(0.589551920062696, 0.6267613636363637)"
      ]
     },
     "execution_count": 16,
     "metadata": {},
     "output_type": "execute_result"
    }
   ],
   "source": [
    "my_cv4.mean(), my_cv.mean()#, my_cv2.mean(), my_cv3.mean()"
   ]
  },
  {
   "cell_type": "code",
   "execution_count": 17,
   "id": "4b195469-980b-4b73-b45c-0cdb436474f4",
   "metadata": {},
   "outputs": [
    {
     "name": "stdout",
     "output_type": "stream",
     "text": [
      "Paired t-test: t-statistic = -7.268203255014478, p-value = 2.551137812715156e-09\n"
     ]
    }
   ],
   "source": [
    "from scipy import stats\n",
    "\n",
    "t_stat, p_value = stats.ttest_rel(my_cv4, my_cv)\n",
    "print(f\"Paired t-test: t-statistic = {t_stat}, p-value = {p_value}\")\n"
   ]
  },
  {
   "cell_type": "code",
   "execution_count": null,
   "id": "dec4d704-aad3-4867-bfb9-6a0192876f1c",
   "metadata": {},
   "outputs": [],
   "source": [
    "#t_stat, p_value = stats.ttest_rel(my_cv2, my_cv3)\n",
    "#print(f\"Paired t-test: t-statistic = {t_stat}, p-value = {p_value}\")\n"
   ]
  },
  {
   "cell_type": "code",
   "execution_count": null,
   "id": "8d5ad6f0-fd96-41bb-a0d7-39362ad8e881",
   "metadata": {},
   "outputs": [],
   "source": [
    "np.unique(y, return_counts=True)"
   ]
  },
  {
   "cell_type": "code",
   "execution_count": null,
   "id": "21688937-1527-43eb-a996-642b8c6d87d2",
   "metadata": {},
   "outputs": [],
   "source": []
  }
 ],
 "metadata": {
  "kernelspec": {
   "display_name": "Python 3 (ipykernel)",
   "language": "python",
   "name": "python3"
  },
  "language_info": {
   "codemirror_mode": {
    "name": "ipython",
    "version": 3
   },
   "file_extension": ".py",
   "mimetype": "text/x-python",
   "name": "python",
   "nbconvert_exporter": "python",
   "pygments_lexer": "ipython3",
   "version": "3.11.7"
  }
 },
 "nbformat": 4,
 "nbformat_minor": 5
}
