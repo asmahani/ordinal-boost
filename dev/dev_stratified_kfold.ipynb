{
 "cells": [
  {
   "cell_type": "code",
   "execution_count": 25,
   "id": "69774ef9-1c68-4207-8814-fc067f7e4b65",
   "metadata": {},
   "outputs": [],
   "source": [
    "import pandas as pd\n",
    "import numpy as np\n",
    "from sklearn.model_selection import train_test_split\n",
    "from gbor.main import BoostedOrdinal\n",
    "from sklearn.tree import DecisionTreeRegressor\n",
    "from sklearn.model_selection import GridSearchCV\n",
    "import time\n",
    "from sklearn.model_selection import cross_val_score, RepeatedKFold\n",
    "\n",
    "#wine_red = pd.read_csv('../data/winequality-red.csv', sep = ';')\n",
    "wine_red = pd.read_csv('../data/winequality-white.csv', sep = ';')\n",
    "wine_red['quality'] = wine_red['quality'] - np.min(wine_red['quality'])\n",
    "\n",
    "X, y = wine_red.drop(columns = ['quality']).to_numpy(), wine_red['quality'].to_numpy(dtype = 'int')\n",
    "#X_train, X_test, y_train, y_test = train_test_split(X, y, test_size = 0.4, stratify = y)\n",
    "\n",
    "cv = RepeatedKFold(n_repeats = 10, n_splits = 5)"
   ]
  },
  {
   "cell_type": "code",
   "execution_count": 30,
   "id": "800938c6-30f1-4b54-8f9d-f3939b0fbcc7",
   "metadata": {},
   "outputs": [
    {
     "name": "stdout",
     "output_type": "stream",
     "text": [
      "time: 14.2 sec\n",
      "[0.5377551  0.56326531 0.58877551 0.58529111 0.56996936 0.55\n",
      " 0.57040816 0.58265306 0.57814096 0.56792646 0.55714286 0.5744898\n",
      " 0.57653061 0.57303371 0.57201226 0.57346939 0.57653061 0.57755102\n",
      " 0.5546476  0.57201226 0.5877551  0.6        0.57653061 0.56179775\n",
      " 0.5587334  0.57755102 0.55408163 0.59081633 0.57099081 0.59856997\n",
      " 0.60204082 0.59081633 0.58061224 0.5485189  0.57405516 0.56632653\n",
      " 0.57346939 0.57346939 0.57916241 0.57405516 0.58469388 0.55204082\n",
      " 0.57142857 0.57814096 0.56384065 0.5877551  0.55102041 0.58673469\n",
      " 0.59856997 0.5587334 ]\n"
     ]
    }
   ],
   "source": [
    "new_gbor = BoostedOrdinal(\n",
    "    n_iter_no_change = 10, max_iter = 1000\n",
    "    , base_learner = DecisionTreeRegressor(max_depth = 6)\n",
    "    , lr_g = 1e-1\n",
    "    , lr_theta = 1e-4\n",
    "    , validation_stratify = False\n",
    "    , validation_fraction = 0.2\n",
    ")\n",
    "start_time = time.time()\n",
    "my_cv = cross_val_score(\n",
    "    new_gbor, X, y, cv = cv\n",
    "    , scoring = 'accuracy'\n",
    "    , n_jobs = -1\n",
    ")\n",
    "end_time = time.time()\n",
    "print('time: {} sec'.format(round(end_time - start_time, 1)))\n",
    "\n",
    "print(my_cv)"
   ]
  },
  {
   "cell_type": "code",
   "execution_count": 31,
   "id": "5dd560b0-e89a-4b23-b7aa-249db8e19876",
   "metadata": {},
   "outputs": [
    {
     "data": {
      "text/plain": [
       "0.5734783306581059"
      ]
     },
     "execution_count": 31,
     "metadata": {},
     "output_type": "execute_result"
    }
   ],
   "source": [
    "my_cv.mean()"
   ]
  },
  {
   "cell_type": "code",
   "execution_count": 27,
   "id": "13a15727-6e35-4ac8-9c16-8acfec7d9ac7",
   "metadata": {},
   "outputs": [
    {
     "name": "stderr",
     "output_type": "stream",
     "text": [
      "[Parallel(n_jobs=-1)]: Using backend LokyBackend with 12 concurrent workers.\n",
      "[Parallel(n_jobs=-1)]: Done  26 tasks      | elapsed:  6.2min\n"
     ]
    },
    {
     "name": "stdout",
     "output_type": "stream",
     "text": [
      "time: 572.9 sec\n",
      "[0.06428571 0.18163265 0.42244898 0.27477017 0.39938713 0.37653061\n",
      " 0.26836735 0.40612245 0.39836568 0.46067416 0.40918367 0.4755102\n",
      " 0.45204082 0.05720123 0.22778345 0.45612245 0.17653061 0.44693878\n",
      " 0.17875383 0.37180797 0.45306122 0.05918367 0.28367347 0.19305414\n",
      " 0.46271706 0.30204082 0.38469388 0.26836735 0.24923391 0.30132789\n",
      " 0.22142857 0.41836735 0.45816327 0.47088866 0.30439224 0.1744898\n",
      " 0.30816327 0.38877551 0.46578141 0.05107252 0.40918367 0.02346939\n",
      " 0.04285714 0.19203269 0.18896834 0.43877551 0.14897959 0.47346939\n",
      " 0.43207354 0.18283963]\n"
     ]
    },
    {
     "name": "stderr",
     "output_type": "stream",
     "text": [
      "[Parallel(n_jobs=-1)]: Done  50 out of  50 | elapsed:  9.5min finished\n"
     ]
    }
   ],
   "source": [
    "parameter_grid2 = {'base_learner__max_depth': [3, 6, 9], 'lr_g': [1e-1, 1e-2, 1e-3]}\n",
    "new_gridsearch = GridSearchCV(\n",
    "    new_gbor\n",
    "    , parameter_grid2\n",
    "    , scoring = 'accuracy'\n",
    "    , n_jobs = -1\n",
    ")\n",
    "start_time = time.time()\n",
    "my_cv2 = cross_val_score(\n",
    "    new_gridsearch, X, y, cv = cv\n",
    "    , scoring = 'accuracy'\n",
    "    , n_jobs = -1\n",
    "    , verbose = 1\n",
    ")\n",
    "end_time = time.time()\n",
    "print('time: {} sec'.format(round(end_time - start_time, 1)))\n",
    "\n",
    "print(my_cv2)"
   ]
  },
  {
   "cell_type": "code",
   "execution_count": 4,
   "id": "a4b48acd-86f0-483d-a12a-6328dee29115",
   "metadata": {},
   "outputs": [
    {
     "name": "stderr",
     "output_type": "stream",
     "text": [
      "[Parallel(n_jobs=-1)]: Using backend LokyBackend with 12 concurrent workers.\n",
      "[Parallel(n_jobs=-1)]: Done  26 tasks      | elapsed:  3.0min\n"
     ]
    },
    {
     "name": "stdout",
     "output_type": "stream",
     "text": [
      "time: 298.3 sec\n",
      "[0.603125   0.671875   0.571875   0.525      0.5799373  0.621875\n",
      " 0.6        0.578125   0.546875   0.63322884 0.59375    0.6125\n",
      " 0.571875   0.61875    0.57366771 0.58125    0.634375   0.58125\n",
      " 0.58125    0.59561129 0.61875    0.553125   0.575      0.646875\n",
      " 0.5862069  0.61875    0.6125     0.596875   0.63125    0.5862069\n",
      " 0.5875     0.56875    0.596875   0.55625    0.61755486 0.6\n",
      " 0.534375   0.59375    0.615625   0.63322884 0.625      0.634375\n",
      " 0.5625     0.63125    0.60815047 0.6        0.578125   0.621875\n",
      " 0.575      0.57053292]\n"
     ]
    },
    {
     "name": "stderr",
     "output_type": "stream",
     "text": [
      "[Parallel(n_jobs=-1)]: Done  50 out of  50 | elapsed:  5.0min finished\n"
     ]
    }
   ],
   "source": [
    "from sklearn.model_selection import RandomizedSearchCV\n",
    "from scipy.stats import loguniform\n",
    "\n",
    "parameter_distros = {\n",
    "    'base_learner__max_depth': [3, 4, 5, 6, 7, 8, 9]\n",
    "    , 'lr_g': loguniform(1e-3, 1e-1)\n",
    "}\n",
    "new_randomsearch = RandomizedSearchCV(\n",
    "    new_gbor\n",
    "    , parameter_distros\n",
    "    , scoring = 'accuracy'\n",
    "    , n_iter = 10\n",
    ")\n",
    "start_time = time.time()\n",
    "my_cv3 = cross_val_score(\n",
    "    new_randomsearch, X, y, cv = cv\n",
    "    , scoring = 'accuracy'\n",
    "    , n_jobs = -1\n",
    "    , verbose = 1\n",
    ")\n",
    "end_time = time.time()\n",
    "print('time: {} sec'.format(round(end_time - start_time, 1)))\n",
    "\n",
    "print(my_cv3)"
   ]
  },
  {
   "cell_type": "code",
   "execution_count": 5,
   "id": "6e79f8bb-3e02-4e8e-b2ba-b03f55ecc394",
   "metadata": {},
   "outputs": [],
   "source": [
    "#from scipy import stats\n",
    "\n",
    "# Perform paired t-test\n",
    "#t_stat, p_value = stats.ttest_rel(my_cv, my_cv2)\n",
    "#print(f\"Paired t-test: t-statistic = {t_stat}, p-value = {p_value}\")\n"
   ]
  },
  {
   "cell_type": "code",
   "execution_count": 14,
   "id": "38231935-625f-4486-8a44-22da5f0060c1",
   "metadata": {},
   "outputs": [
    {
     "name": "stderr",
     "output_type": "stream",
     "text": [
      "[Parallel(n_jobs=-1)]: Using backend LokyBackend with 12 concurrent workers.\n",
      "[Parallel(n_jobs=-1)]: Done  26 tasks      | elapsed:   28.7s\n"
     ]
    },
    {
     "name": "stdout",
     "output_type": "stream",
     "text": [
      "time: 42.1 sec\n",
      "[0.49489796 0.55408163 0.5255102  0.53524004 0.52298264 0.5244898\n",
      " 0.53061224 0.53571429 0.53421859 0.51174668 0.51122449 0.53469388\n",
      " 0.52959184 0.52706844 0.52400409 0.51530612 0.52959184 0.53469388\n",
      " 0.54954035 0.50663943 0.52959184 0.52959184 0.50918367 0.53932584\n",
      " 0.51378958 0.50408163 0.54489796 0.54489796 0.51685393 0.52400409\n",
      " 0.53367347 0.52653061 0.49183673 0.53013279 0.54954035 0.49591837\n",
      " 0.52857143 0.55918367 0.50766088 0.53217569 0.52755102 0.53469388\n",
      " 0.50918367 0.51174668 0.5505618  0.51020408 0.52857143 0.53877551\n",
      " 0.52911134 0.51787538]\n"
     ]
    },
    {
     "name": "stderr",
     "output_type": "stream",
     "text": [
      "[Parallel(n_jobs=-1)]: Done  50 out of  50 | elapsed:   42.0s finished\n"
     ]
    }
   ],
   "source": [
    "from mord import LogisticIT\n",
    "mord_model = LogisticIT(alpha = 0.0)\n",
    "\n",
    "start_time = time.time()\n",
    "my_cv4 = cross_val_score(\n",
    "    mord_model, X, y, cv = cv\n",
    "    , scoring = 'accuracy'\n",
    "    , n_jobs = -1\n",
    "    , verbose = 1\n",
    ")\n",
    "end_time = time.time()\n",
    "print('time: {} sec'.format(round(end_time - start_time, 1)))\n",
    "\n",
    "print(my_cv4)"
   ]
  },
  {
   "cell_type": "code",
   "execution_count": 32,
   "id": "4ba40643-a43f-4b26-ad92-e38d1fee30ca",
   "metadata": {},
   "outputs": [
    {
     "data": {
      "text/plain": [
       "(0.5260313105834775, 0.5734783306581059)"
      ]
     },
     "execution_count": 32,
     "metadata": {},
     "output_type": "execute_result"
    }
   ],
   "source": [
    "my_cv4.mean(), my_cv.mean()#, my_cv2.mean(), my_cv3.mean()"
   ]
  },
  {
   "cell_type": "code",
   "execution_count": 9,
   "id": "4b195469-980b-4b73-b45c-0cdb436474f4",
   "metadata": {},
   "outputs": [
    {
     "name": "stdout",
     "output_type": "stream",
     "text": [
      "Paired t-test: t-statistic = -2.099393074140664, p-value = 0.04095599477173379\n"
     ]
    }
   ],
   "source": [
    "from scipy import stats\n",
    "\n",
    "t_stat, p_value = stats.ttest_rel(my_cv4, my_cv2)\n",
    "print(f\"Paired t-test: t-statistic = {t_stat}, p-value = {p_value}\")\n"
   ]
  },
  {
   "cell_type": "code",
   "execution_count": null,
   "id": "dec4d704-aad3-4867-bfb9-6a0192876f1c",
   "metadata": {},
   "outputs": [],
   "source": [
    "#t_stat, p_value = stats.ttest_rel(my_cv2, my_cv3)\n",
    "#print(f\"Paired t-test: t-statistic = {t_stat}, p-value = {p_value}\")\n"
   ]
  },
  {
   "cell_type": "code",
   "execution_count": 21,
   "id": "8d5ad6f0-fd96-41bb-a0d7-39362ad8e881",
   "metadata": {},
   "outputs": [
    {
     "data": {
      "text/plain": [
       "(array([0, 1, 2, 3, 4, 5, 6]),\n",
       " array([  20,  163, 1457, 2198,  880,  175,    5], dtype=int64))"
      ]
     },
     "execution_count": 21,
     "metadata": {},
     "output_type": "execute_result"
    }
   ],
   "source": [
    "np.unique(y, return_counts=True)"
   ]
  },
  {
   "cell_type": "code",
   "execution_count": null,
   "id": "21688937-1527-43eb-a996-642b8c6d87d2",
   "metadata": {},
   "outputs": [],
   "source": []
  }
 ],
 "metadata": {
  "kernelspec": {
   "display_name": "Python 3 (ipykernel)",
   "language": "python",
   "name": "python3"
  },
  "language_info": {
   "codemirror_mode": {
    "name": "ipython",
    "version": 3
   },
   "file_extension": ".py",
   "mimetype": "text/x-python",
   "name": "python",
   "nbconvert_exporter": "python",
   "pygments_lexer": "ipython3",
   "version": "3.11.7"
  }
 },
 "nbformat": 4,
 "nbformat_minor": 5
}
