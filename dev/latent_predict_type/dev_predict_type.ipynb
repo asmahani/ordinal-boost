{
 "cells": [
  {
   "cell_type": "code",
   "execution_count": 1,
   "metadata": {},
   "outputs": [
    {
     "name": "stdout",
     "output_type": "stream",
     "text": [
      "Shape of red wine: (1599, 12)\n",
      "Shape of white wine: (4898, 12)\n"
     ]
    }
   ],
   "source": [
    "folder = 'C:/Users/alire/OneDrive/data/asmahani_github/ordinal-boost/wine_quality'\n",
    "filename_red, filename_white = 'winequality-red.csv', 'winequality-white.csv'\n",
    "\n",
    "import os\n",
    "import pandas as pd\n",
    "\n",
    "def load_data(folder, filename):\n",
    "    csv_path = os.path.join(folder, filename)\n",
    "    return pd.read_csv(csv_path, sep = ';')\n",
    "\n",
    "red_wine = load_data(folder, filename_red)\n",
    "white_wine = load_data(folder, filename_white)\n",
    "\n",
    "red_wine['quality'] = red_wine['quality'] - 3\n",
    "white_wine['quality'] = white_wine['quality'] - 3\n",
    "\n",
    "print(f'Shape of red wine: {red_wine.shape}')\n",
    "print(f'Shape of white wine: {white_wine.shape}')\n",
    "\n",
    "red_wine.head()\n",
    "#print(white_wine.head())\n",
    "\n",
    "X_red, y_red = red_wine.drop(columns = ['quality']).to_numpy(), red_wine['quality'].to_numpy(dtype = 'int')\n",
    "X_white, y_white = white_wine.drop(columns = ['quality']).to_numpy(), white_wine['quality'].to_numpy(dtype = 'int')"
   ]
  },
  {
   "cell_type": "code",
   "execution_count": 2,
   "metadata": {},
   "outputs": [
    {
     "data": {
      "text/plain": [
       "(10, 6)"
      ]
     },
     "execution_count": 2,
     "metadata": {},
     "output_type": "execute_result"
    }
   ],
   "source": [
    "#from gbor.main import BoostedOrdinal\n",
    "import sys\n",
    "sys.path.append('../locallib')\n",
    "from main_v2 import BoostedOrdinal\n",
    "\n",
    "gbor = BoostedOrdinal(predict_type = 'probs').fit(X_red, y_red)\n",
    "gbor.predict(X_red[:10]).shape"
   ]
  },
  {
   "cell_type": "code",
   "execution_count": 37,
   "metadata": {},
   "outputs": [],
   "source": [
    "from sklearn.model_selection import RepeatedStratifiedKFold, RepeatedKFold, KFold\n",
    "#my_cv = RepeatedStratifiedKFold(n_splits=5, n_repeats=2,\n",
    "#    random_state=123)\n",
    "my_cv = RepeatedKFold(n_splits=2, n_repeats=10,\n",
    "    #random_state=123\n",
    ")\n",
    "#my_cv = KFold(n_splits=5, shuffle=True, \n",
    "#              random_state=123\n",
    "#              )\n",
    "#my_cv = 10\n"
   ]
  },
  {
   "cell_type": "code",
   "execution_count": 38,
   "metadata": {},
   "outputs": [],
   "source": [
    "# Create a scorer object for use in scikit-learn\n",
    "from main_v2 import concordance_index\n",
    "from sklearn.metrics import make_scorer\n",
    "concordance_index_scorer = make_scorer(concordance_index, greater_is_better=True)"
   ]
  },
  {
   "cell_type": "code",
   "execution_count": 39,
   "metadata": {},
   "outputs": [
    {
     "data": {
      "text/plain": [
       "0.8122921649358906"
      ]
     },
     "execution_count": 39,
     "metadata": {},
     "output_type": "execute_result"
    }
   ],
   "source": [
    "from sklearn.model_selection import cross_val_score\n",
    "\n",
    "scores_red_baseline = cross_val_score(\n",
    "    BoostedOrdinal(predict_type='latent'), \n",
    "    X_red, y_red, cv = my_cv, \n",
    "    scoring = concordance_index_scorer,\n",
    "    n_jobs = -1\n",
    ")\n",
    "scores_red_baseline.mean()"
   ]
  },
  {
   "cell_type": "code",
   "execution_count": 40,
   "metadata": {},
   "outputs": [
    {
     "data": {
      "text/plain": [
       "0.8088403401493436"
      ]
     },
     "execution_count": 40,
     "metadata": {},
     "output_type": "execute_result"
    }
   ],
   "source": [
    "from sklearn.ensemble import GradientBoostingClassifier, GradientBoostingRegressor\n",
    "#rfc = GradientBoostingClassifier()\n",
    "rfc = GradientBoostingRegressor()\n",
    "scores_rfc_red = cross_val_score(\n",
    "    rfc, X_red, y_red, cv = my_cv, \n",
    "    scoring = concordance_index_scorer,\n",
    "    n_jobs = -1\n",
    ")\n",
    "scores_rfc_red.mean()"
   ]
  },
  {
   "cell_type": "code",
   "execution_count": 41,
   "metadata": {},
   "outputs": [
    {
     "data": {
      "text/plain": [
       "TtestResult(statistic=1.2836430916182746, pvalue=0.21470179339697945, df=19)"
      ]
     },
     "execution_count": 41,
     "metadata": {},
     "output_type": "execute_result"
    }
   ],
   "source": [
    "# t-test of the two models\n",
    "from scipy.stats import ttest_rel\n",
    "ttest_rel(scores_red_baseline, scores_rfc_red)"
   ]
  },
  {
   "cell_type": "code",
   "execution_count": 42,
   "metadata": {},
   "outputs": [],
   "source": [
    "from sklearn.metrics import log_loss, make_scorer\n",
    "\n",
    "def my_neg_log_loss_scorer(y_true, y_pred):\n",
    "    return -log_loss(y_true, y_pred, labels=[0, 1, 2, 3, 4, 5])\n",
    "\n",
    "custom_scorer = make_scorer(my_neg_log_loss_scorer, greater_is_better=True, response_method='predict')\n"
   ]
  },
  {
   "cell_type": "code",
   "execution_count": 43,
   "metadata": {},
   "outputs": [
    {
     "data": {
      "text/plain": [
       "-0.9675174922948793"
      ]
     },
     "execution_count": 43,
     "metadata": {},
     "output_type": "execute_result"
    }
   ],
   "source": [
    "scores_red_baseline_log_loss = cross_val_score(\n",
    "    BoostedOrdinal(predict_type='probs', n_class=6), \n",
    "    X_red, y_red, cv = my_cv, \n",
    "    #scoring = 'neg_log_loss',\n",
    "    scoring = custom_scorer,\n",
    "    n_jobs = 1\n",
    ")\n",
    "scores_red_baseline_log_loss.mean()"
   ]
  },
  {
   "cell_type": "code",
   "execution_count": 45,
   "metadata": {},
   "outputs": [
    {
     "data": {
      "text/plain": [
       "-1.1072253961349905"
      ]
     },
     "execution_count": 45,
     "metadata": {},
     "output_type": "execute_result"
    }
   ],
   "source": [
    "rfc = GradientBoostingClassifier()\n",
    "scores_rfc_red_log_loss = cross_val_score(\n",
    "    rfc, X_red, y_red, cv = my_cv, \n",
    "    scoring = 'neg_log_loss',\n",
    "    #scoring = custom_scorer,\n",
    "    n_jobs = 1\n",
    ")\n",
    "scores_rfc_red_log_loss.mean()"
   ]
  },
  {
   "cell_type": "code",
   "execution_count": null,
   "metadata": {},
   "outputs": [],
   "source": [
    "scores_red_baseline_log_loss"
   ]
  },
  {
   "cell_type": "code",
   "execution_count": 29,
   "metadata": {},
   "outputs": [],
   "source": [
    "obj = BoostedOrdinal(n_class=6).fit(X_red, y_red)"
   ]
  },
  {
   "cell_type": "code",
   "execution_count": 20,
   "metadata": {},
   "outputs": [],
   "source": [
    "probs = obj.predict_proba(X_red)"
   ]
  },
  {
   "cell_type": "code",
   "execution_count": 21,
   "metadata": {},
   "outputs": [],
   "source": [
    "import numpy as np\n",
    "\n",
    "assert np.all(probs >= 0) and np.all(probs <= 1), \"Probabilities must be between 0 and 1.\"\n",
    "assert np.allclose(probs.sum(axis=1), 1), \"Probabilities for each sample must sum to 1.\"\n"
   ]
  },
  {
   "cell_type": "code",
   "execution_count": null,
   "metadata": {},
   "outputs": [],
   "source": [
    "np.log(np.min(probs))"
   ]
  },
  {
   "cell_type": "code",
   "execution_count": null,
   "metadata": {},
   "outputs": [],
   "source": [
    "obj.n_class"
   ]
  },
  {
   "cell_type": "code",
   "execution_count": null,
   "metadata": {},
   "outputs": [],
   "source": [
    "probs.shape"
   ]
  },
  {
   "cell_type": "code",
   "execution_count": null,
   "metadata": {},
   "outputs": [],
   "source": [
    "from sklearn.metrics import log_loss\n",
    "print(\"Log loss:\", log_loss(y_red, probs))\n"
   ]
  },
  {
   "cell_type": "code",
   "execution_count": 26,
   "metadata": {},
   "outputs": [],
   "source": [
    "assert np.all(np.isfinite(probs)), \"Probabilities must be finite (no NaN or inf).\""
   ]
  },
  {
   "cell_type": "code",
   "execution_count": 3,
   "metadata": {},
   "outputs": [
    {
     "ename": "AssertionError",
     "evalue": "`BoostedOrdinal.fit()` does not set the `n_features_in_` attribute. You might want to use `sklearn.utils.validation.validate_data` instead of `check_array` in `BoostedOrdinal.fit()` which takes care of setting the attribute.",
     "output_type": "error",
     "traceback": [
      "\u001b[1;31m---------------------------------------------------------------------------\u001b[0m",
      "\u001b[1;31mAssertionError\u001b[0m                            Traceback (most recent call last)",
      "Cell \u001b[1;32mIn[3], line 2\u001b[0m\n\u001b[0;32m      1\u001b[0m \u001b[38;5;28;01mfrom\u001b[39;00m \u001b[38;5;21;01msklearn\u001b[39;00m\u001b[38;5;21;01m.\u001b[39;00m\u001b[38;5;21;01mutils\u001b[39;00m\u001b[38;5;21;01m.\u001b[39;00m\u001b[38;5;21;01mestimator_checks\u001b[39;00m \u001b[38;5;28;01mimport\u001b[39;00m check_estimator\n\u001b[1;32m----> 2\u001b[0m check_estimator(BoostedOrdinal())\n",
      "File \u001b[1;32mc:\\Users\\alire\\anaconda3\\Lib\\site-packages\\sklearn\\utils\\_param_validation.py:216\u001b[0m, in \u001b[0;36mvalidate_params.<locals>.decorator.<locals>.wrapper\u001b[1;34m(*args, **kwargs)\u001b[0m\n\u001b[0;32m    210\u001b[0m \u001b[38;5;28;01mtry\u001b[39;00m:\n\u001b[0;32m    211\u001b[0m     \u001b[38;5;28;01mwith\u001b[39;00m config_context(\n\u001b[0;32m    212\u001b[0m         skip_parameter_validation\u001b[38;5;241m=\u001b[39m(\n\u001b[0;32m    213\u001b[0m             prefer_skip_nested_validation \u001b[38;5;129;01mor\u001b[39;00m global_skip_validation\n\u001b[0;32m    214\u001b[0m         )\n\u001b[0;32m    215\u001b[0m     ):\n\u001b[1;32m--> 216\u001b[0m         \u001b[38;5;28;01mreturn\u001b[39;00m func(\u001b[38;5;241m*\u001b[39margs, \u001b[38;5;241m*\u001b[39m\u001b[38;5;241m*\u001b[39mkwargs)\n\u001b[0;32m    217\u001b[0m \u001b[38;5;28;01mexcept\u001b[39;00m InvalidParameterError \u001b[38;5;28;01mas\u001b[39;00m e:\n\u001b[0;32m    218\u001b[0m     \u001b[38;5;66;03m# When the function is just a wrapper around an estimator, we allow\u001b[39;00m\n\u001b[0;32m    219\u001b[0m     \u001b[38;5;66;03m# the function to delegate validation to the estimator, but we replace\u001b[39;00m\n\u001b[0;32m    220\u001b[0m     \u001b[38;5;66;03m# the name of the estimator by the name of the function in the error\u001b[39;00m\n\u001b[0;32m    221\u001b[0m     \u001b[38;5;66;03m# message to avoid confusion.\u001b[39;00m\n\u001b[0;32m    222\u001b[0m     msg \u001b[38;5;241m=\u001b[39m re\u001b[38;5;241m.\u001b[39msub(\n\u001b[0;32m    223\u001b[0m         \u001b[38;5;124mr\u001b[39m\u001b[38;5;124m\"\u001b[39m\u001b[38;5;124mparameter of \u001b[39m\u001b[38;5;124m\\\u001b[39m\u001b[38;5;124mw+ must be\u001b[39m\u001b[38;5;124m\"\u001b[39m,\n\u001b[0;32m    224\u001b[0m         \u001b[38;5;124mf\u001b[39m\u001b[38;5;124m\"\u001b[39m\u001b[38;5;124mparameter of \u001b[39m\u001b[38;5;132;01m{\u001b[39;00mfunc\u001b[38;5;241m.\u001b[39m\u001b[38;5;18m__qualname__\u001b[39m\u001b[38;5;132;01m}\u001b[39;00m\u001b[38;5;124m must be\u001b[39m\u001b[38;5;124m\"\u001b[39m,\n\u001b[0;32m    225\u001b[0m         \u001b[38;5;28mstr\u001b[39m(e),\n\u001b[0;32m    226\u001b[0m     )\n",
      "File \u001b[1;32mc:\\Users\\alire\\anaconda3\\Lib\\site-packages\\sklearn\\utils\\estimator_checks.py:857\u001b[0m, in \u001b[0;36mcheck_estimator\u001b[1;34m(estimator, generate_only, legacy, expected_failed_checks, on_skip, on_fail, callback)\u001b[0m\n\u001b[0;32m    853\u001b[0m test_can_fail, reason \u001b[38;5;241m=\u001b[39m _should_be_skipped_or_marked(\n\u001b[0;32m    854\u001b[0m     estimator, check, expected_failed_checks\n\u001b[0;32m    855\u001b[0m )\n\u001b[0;32m    856\u001b[0m \u001b[38;5;28;01mtry\u001b[39;00m:\n\u001b[1;32m--> 857\u001b[0m     check(estimator)\n\u001b[0;32m    858\u001b[0m \u001b[38;5;28;01mexcept\u001b[39;00m SkipTest \u001b[38;5;28;01mas\u001b[39;00m e:\n\u001b[0;32m    859\u001b[0m     \u001b[38;5;66;03m# We get here if the test raises SkipTest, which is expected in cases where\u001b[39;00m\n\u001b[0;32m    860\u001b[0m     \u001b[38;5;66;03m# the check cannot run for instance if a required dependency is not\u001b[39;00m\n\u001b[0;32m    861\u001b[0m     \u001b[38;5;66;03m# installed.\u001b[39;00m\n\u001b[0;32m    862\u001b[0m     check_result \u001b[38;5;241m=\u001b[39m {\n\u001b[0;32m    863\u001b[0m         \u001b[38;5;124m\"\u001b[39m\u001b[38;5;124mestimator\u001b[39m\u001b[38;5;124m\"\u001b[39m: estimator,\n\u001b[0;32m    864\u001b[0m         \u001b[38;5;124m\"\u001b[39m\u001b[38;5;124mcheck_name\u001b[39m\u001b[38;5;124m\"\u001b[39m: _check_name(check),\n\u001b[1;32m   (...)\u001b[0m\n\u001b[0;32m    868\u001b[0m         \u001b[38;5;124m\"\u001b[39m\u001b[38;5;124mexpected_to_fail_reason\u001b[39m\u001b[38;5;124m\"\u001b[39m: reason,\n\u001b[0;32m    869\u001b[0m     }\n",
      "File \u001b[1;32mc:\\Users\\alire\\anaconda3\\Lib\\site-packages\\sklearn\\utils\\_testing.py:147\u001b[0m, in \u001b[0;36m_IgnoreWarnings.__call__.<locals>.wrapper\u001b[1;34m(*args, **kwargs)\u001b[0m\n\u001b[0;32m    145\u001b[0m \u001b[38;5;28;01mwith\u001b[39;00m warnings\u001b[38;5;241m.\u001b[39mcatch_warnings():\n\u001b[0;32m    146\u001b[0m     warnings\u001b[38;5;241m.\u001b[39msimplefilter(\u001b[38;5;124m\"\u001b[39m\u001b[38;5;124mignore\u001b[39m\u001b[38;5;124m\"\u001b[39m, \u001b[38;5;28mself\u001b[39m\u001b[38;5;241m.\u001b[39mcategory)\n\u001b[1;32m--> 147\u001b[0m     \u001b[38;5;28;01mreturn\u001b[39;00m fn(\u001b[38;5;241m*\u001b[39margs, \u001b[38;5;241m*\u001b[39m\u001b[38;5;241m*\u001b[39mkwargs)\n",
      "File \u001b[1;32mc:\\Users\\alire\\anaconda3\\Lib\\site-packages\\sklearn\\utils\\estimator_checks.py:4363\u001b[0m, in \u001b[0;36mcheck_n_features_in_after_fitting\u001b[1;34m(name, estimator_orig)\u001b[0m\n\u001b[0;32m   4355\u001b[0m err_msg \u001b[38;5;241m=\u001b[39m (\n\u001b[0;32m   4356\u001b[0m     \u001b[38;5;124m\"\u001b[39m\u001b[38;5;124m`\u001b[39m\u001b[38;5;132;01m{name}\u001b[39;00m\u001b[38;5;124m.fit()` does not set the `n_features_in_` attribute. \u001b[39m\u001b[38;5;124m\"\u001b[39m\n\u001b[0;32m   4357\u001b[0m     \u001b[38;5;124m\"\u001b[39m\u001b[38;5;124mYou might want to use `sklearn.utils.validation.validate_data` instead \u001b[39m\u001b[38;5;124m\"\u001b[39m\n\u001b[0;32m   4358\u001b[0m     \u001b[38;5;124m\"\u001b[39m\u001b[38;5;124mof `check_array` in `\u001b[39m\u001b[38;5;132;01m{name}\u001b[39;00m\u001b[38;5;124m.fit()` which takes care of setting the \u001b[39m\u001b[38;5;124m\"\u001b[39m\n\u001b[0;32m   4359\u001b[0m     \u001b[38;5;124m\"\u001b[39m\u001b[38;5;124mattribute.\u001b[39m\u001b[38;5;124m\"\u001b[39m\u001b[38;5;241m.\u001b[39mformat(name\u001b[38;5;241m=\u001b[39mname)\n\u001b[0;32m   4360\u001b[0m )\n\u001b[0;32m   4362\u001b[0m estimator\u001b[38;5;241m.\u001b[39mfit(X, y)\n\u001b[1;32m-> 4363\u001b[0m \u001b[38;5;28;01massert\u001b[39;00m \u001b[38;5;28mhasattr\u001b[39m(estimator, \u001b[38;5;124m\"\u001b[39m\u001b[38;5;124mn_features_in_\u001b[39m\u001b[38;5;124m\"\u001b[39m), err_msg\n\u001b[0;32m   4364\u001b[0m \u001b[38;5;28;01massert\u001b[39;00m estimator\u001b[38;5;241m.\u001b[39mn_features_in_ \u001b[38;5;241m==\u001b[39m X\u001b[38;5;241m.\u001b[39mshape[\u001b[38;5;241m1\u001b[39m], err_msg\n\u001b[0;32m   4366\u001b[0m \u001b[38;5;66;03m# check methods will check n_features_in_\u001b[39;00m\n",
      "\u001b[1;31mAssertionError\u001b[0m: `BoostedOrdinal.fit()` does not set the `n_features_in_` attribute. You might want to use `sklearn.utils.validation.validate_data` instead of `check_array` in `BoostedOrdinal.fit()` which takes care of setting the attribute."
     ]
    }
   ],
   "source": [
    "from sklearn.utils.estimator_checks import check_estimator\n",
    "check_estimator(BoostedOrdinal())  # Will raise detailed errors if something is missing"
   ]
  },
  {
   "cell_type": "code",
   "execution_count": 4,
   "metadata": {},
   "outputs": [
    {
     "data": {
      "text/plain": [
       "(False, False)"
      ]
     },
     "execution_count": 4,
     "metadata": {},
     "output_type": "execute_result"
    }
   ],
   "source": [
    "from sklearn.base import is_classifier, is_regressor\n",
    "is_classifier(BoostedOrdinal()), is_regressor(BoostedOrdinal())"
   ]
  },
  {
   "cell_type": "code",
   "execution_count": 5,
   "metadata": {},
   "outputs": [
    {
     "name": "stdout",
     "output_type": "stream",
     "text": [
      "False\n"
     ]
    }
   ],
   "source": [
    "print(is_classifier(BoostedOrdinal()))"
   ]
  },
  {
   "cell_type": "code",
   "execution_count": null,
   "metadata": {},
   "outputs": [],
   "source": []
  }
 ],
 "metadata": {
  "kernelspec": {
   "display_name": "base",
   "language": "python",
   "name": "python3"
  },
  "language_info": {
   "codemirror_mode": {
    "name": "ipython",
    "version": 3
   },
   "file_extension": ".py",
   "mimetype": "text/x-python",
   "name": "python",
   "nbconvert_exporter": "python",
   "pygments_lexer": "ipython3",
   "version": "3.11.7"
  }
 },
 "nbformat": 4,
 "nbformat_minor": 2
}
