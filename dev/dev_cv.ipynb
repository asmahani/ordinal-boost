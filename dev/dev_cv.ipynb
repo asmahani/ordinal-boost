{
 "cells": [
  {
   "cell_type": "code",
   "execution_count": 1,
   "id": "69774ef9-1c68-4207-8814-fc067f7e4b65",
   "metadata": {},
   "outputs": [
    {
     "data": {
      "text/plain": [
       "(array([1, 2, 3, 4, 5]), array([ 53, 681, 638, 199,  18], dtype=int64))"
      ]
     },
     "execution_count": 1,
     "metadata": {},
     "output_type": "execute_result"
    }
   ],
   "source": [
    "import pandas as pd\n",
    "import numpy as np\n",
    "from sklearn.model_selection import train_test_split\n",
    "from gbor.main import BoostedOrdinal\n",
    "from sklearn.tree import DecisionTreeRegressor\n",
    "from sklearn.model_selection import GridSearchCV\n",
    "import time\n",
    "from sklearn.model_selection import cross_val_score, RepeatedKFold\n",
    "\n",
    "wine_red = pd.read_csv('../data/winequality-red.csv', sep = ';')\n",
    "#wine_red = pd.read_csv('../data/winequality-white.csv', sep = ';')\n",
    "wine_red['quality'] = wine_red['quality'] - np.min(wine_red['quality'])\n",
    "\n",
    "#wine_red_filtered = wine_red[(wine_red['quality'] != 5) & (wine_red['quality'] != 0)]\n",
    "wine_red_filtered = wine_red[(wine_red['quality'] != 0)]\n",
    "#wine_red_filtered = wine_red\n",
    "\n",
    "X, y = wine_red_filtered.drop(columns = ['quality']).to_numpy(), wine_red_filtered['quality'].to_numpy(dtype = 'int')\n",
    "np.unique(y, return_counts=True)"
   ]
  },
  {
   "cell_type": "code",
   "execution_count": 5,
   "id": "800938c6-30f1-4b54-8f9d-f3939b0fbcc7",
   "metadata": {},
   "outputs": [
    {
     "name": "stdout",
     "output_type": "stream",
     "text": [
      "time: 4.0sec\n"
     ]
    }
   ],
   "source": [
    "t = time.time()\n",
    "new_gbor = BoostedOrdinal(\n",
    "    n_iter_no_change = 10, max_iter = 100\n",
    "    , base_learner = DecisionTreeRegressor(max_depth = 6)\n",
    "    , lr_g = 1e-1\n",
    "    , lr_theta = 1#e-4\n",
    "    , validation_stratify = False\n",
    "    , validation_fraction = 0.2\n",
    "    , reltol = 0.0\n",
    "    #, n_class = 6\n",
    "    , cv = 5\n",
    ").fit(X, y)\n",
    "t = time.time() - t\n",
    "print(f'time: {round(t, 1)}sec')"
   ]
  },
  {
   "cell_type": "code",
   "execution_count": 8,
   "id": "53b814a4-5614-4886-b68f-f10e8e230114",
   "metadata": {},
   "outputs": [
    {
     "data": {
      "text/plain": [
       "[1838.490302096437,\n",
       " 1787.605232511106,\n",
       " 1744.4328696974592,\n",
       " 1706.8633066707337,\n",
       " 1675.151768560827,\n",
       " 1649.3276463259444,\n",
       " 1621.52442615671,\n",
       " 1601.7921611486922,\n",
       " 1582.9514298779686,\n",
       " 1563.8893288218487,\n",
       " 1548.9323350786046,\n",
       " 1536.3986669789267,\n",
       " 1526.84502060145,\n",
       " 1515.9744252620976,\n",
       " 1505.6803868172135,\n",
       " 1498.2947330649304,\n",
       " 1489.2375377891387,\n",
       " 1483.58137552885,\n",
       " 1476.5645345755888,\n",
       " 1469.3396675098713,\n",
       " 1464.8861761284454,\n",
       " 1461.3360788601863,\n",
       " 1458.267068909888,\n",
       " 1454.904880603069,\n",
       " 1452.0638167841244,\n",
       " 1449.884727752898,\n",
       " 1448.7797095394903,\n",
       " 1449.152843028985,\n",
       " 1444.5942345683952,\n",
       " 1442.8110174248093,\n",
       " 1441.0851387362707,\n",
       " 1441.8095048993316,\n",
       " 1441.5881205220294,\n",
       " 1439.2019319589915,\n",
       " 1438.3430107276513,\n",
       " 1437.8490149735894,\n",
       " 1437.924921319117,\n",
       " 1439.2823766124102,\n",
       " 1439.027414416884,\n",
       " 1439.5086407291828,\n",
       " 1437.6092316304776,\n",
       " 1436.9032606769188,\n",
       " 1438.8029148044577,\n",
       " 1439.58170237648]"
      ]
     },
     "execution_count": 8,
     "metadata": {},
     "output_type": "execute_result"
    }
   ],
   "source": [
    "new_gbor"
   ]
  },
  {
   "cell_type": "code",
   "execution_count": null,
   "id": "4bf1cf88-bf50-4b1e-9c3e-39946244170e",
   "metadata": {},
   "outputs": [],
   "source": []
  }
 ],
 "metadata": {
  "kernelspec": {
   "display_name": "Python 3 (ipykernel)",
   "language": "python",
   "name": "python3"
  },
  "language_info": {
   "codemirror_mode": {
    "name": "ipython",
    "version": 3
   },
   "file_extension": ".py",
   "mimetype": "text/x-python",
   "name": "python",
   "nbconvert_exporter": "python",
   "pygments_lexer": "ipython3",
   "version": "3.11.7"
  }
 },
 "nbformat": 4,
 "nbformat_minor": 5
}
