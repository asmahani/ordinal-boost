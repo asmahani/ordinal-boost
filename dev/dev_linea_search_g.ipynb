{
 "cells": [
  {
   "cell_type": "code",
   "execution_count": 1,
   "id": "69774ef9-1c68-4207-8814-fc067f7e4b65",
   "metadata": {},
   "outputs": [],
   "source": [
    "import pandas as pd\n",
    "import numpy as np\n",
    "from sklearn.model_selection import train_test_split\n",
    "from gbor.main import BoostedOrdinal\n",
    "from sklearn.tree import DecisionTreeRegressor\n",
    "from sklearn.model_selection import GridSearchCV\n",
    "import time\n",
    "from sklearn.model_selection import cross_val_score, RepeatedKFold\n",
    "from enum import Enum\n",
    "\n",
    "wine_red = pd.read_csv('../data/winequality-red.csv', sep = ';')\n",
    "#wine_red = pd.read_csv('../data/winequality-white.csv', sep = ';')\n",
    "wine_red['quality'] = wine_red['quality'] - np.min(wine_red['quality'])\n",
    "\n",
    "X, y = wine_red.drop(columns = ['quality']).to_numpy(), wine_red['quality'].to_numpy(dtype = 'int')"
   ]
  },
  {
   "cell_type": "code",
   "execution_count": 7,
   "id": "800938c6-30f1-4b54-8f9d-f3939b0fbcc7",
   "metadata": {},
   "outputs": [
    {
     "name": "stdout",
     "output_type": "stream",
     "text": [
      "time: 1.1 sec\n"
     ]
    }
   ],
   "source": [
    "gbor = BoostedOrdinal(\n",
    "    n_iter_no_change = 10, max_iter = 1000\n",
    "    , base_learner = DecisionTreeRegressor(max_depth = 6)\n",
    "    , lr_g = 5e-2\n",
    "    , lr_theta = 5\n",
    "    , validation_stratify = False\n",
    "    , validation_fraction = 0.2\n",
    ")\n",
    "start_time = time.time()\n",
    "gbor = gbor.fit(X, y)\n",
    "end_time = time.time()\n",
    "print('time: {} sec'.format(round(end_time - start_time, 1)))"
   ]
  },
  {
   "cell_type": "code",
   "execution_count": 8,
   "id": "a3862444-62a1-4d16-a1c5-4bdf5206828a",
   "metadata": {},
   "outputs": [
    {
     "data": {
      "text/plain": [
       "array([5.00000000e+00, 2.44140625e-03, 2.44140625e-03, 2.44140625e-03,\n",
       "       2.44140625e-03, 1.22070312e-03, 2.44140625e-03, 2.44140625e-03,\n",
       "       2.44140625e-03, 1.22070312e-03, 4.88281250e-03, 2.44140625e-03,\n",
       "       2.44140625e-03, 1.22070312e-03, 4.88281250e-03, 2.44140625e-03,\n",
       "       2.44140625e-03, 2.44140625e-03, 2.44140625e-03, 1.22070312e-03,\n",
       "       9.76562500e-03, 2.44140625e-03, 2.44140625e-03, 2.44140625e-03,\n",
       "       2.44140625e-03, 2.44140625e-03, 2.44140625e-03, 2.44140625e-03,\n",
       "       2.44140625e-03, 2.44140625e-03, 2.44140625e-03, 2.44140625e-03,\n",
       "       2.44140625e-03, 2.44140625e-03, 2.44140625e-03, 2.44140625e-03,\n",
       "       2.44140625e-03, 2.44140625e-03, 4.88281250e-03, 2.44140625e-03,\n",
       "       2.44140625e-03, 2.44140625e-03, 2.44140625e-03, 2.44140625e-03,\n",
       "       4.88281250e-03, 2.44140625e-03, 4.88281250e-03, 2.44140625e-03,\n",
       "       2.44140625e-03, 2.44140625e-03, 4.88281250e-03, 2.44140625e-03,\n",
       "       4.88281250e-03, 2.44140625e-03, 4.88281250e-03])"
      ]
     },
     "execution_count": 8,
     "metadata": {},
     "output_type": "execute_result"
    }
   ],
   "source": [
    "gbor.path['lr_theta']#, gbor.path['lr_g']"
   ]
  },
  {
   "cell_type": "code",
   "execution_count": 9,
   "id": "f35d5d36-23f9-461a-a9cc-da1b410ef715",
   "metadata": {},
   "outputs": [
    {
     "data": {
      "text/plain": [
       "44"
      ]
     },
     "execution_count": 9,
     "metadata": {},
     "output_type": "execute_result"
    }
   ],
   "source": [
    "gbor.n_iter"
   ]
  },
  {
   "cell_type": "code",
   "execution_count": 10,
   "id": "4f44d82e-ac47-4a25-92a1-6118657716ce",
   "metadata": {},
   "outputs": [
    {
     "data": {
      "text/plain": [
       "(array([1527.77217137, 1498.29031372, 1472.02005131, 1446.2684715 ,\n",
       "        1422.26638457, 1399.19580721, 1376.99476397, 1357.03398127,\n",
       "        1335.90459432, 1316.3219846 , 1297.20895382, 1279.50410361,\n",
       "        1263.28724276, 1246.76246149, 1229.8496833 , 1214.26710289,\n",
       "        1199.26990399, 1186.64610231, 1173.97695989, 1159.92629051,\n",
       "        1147.14706799, 1135.6939356 , 1123.1502433 , 1111.50417122,\n",
       "        1099.74496237, 1088.88890175, 1079.35727511, 1069.69909876,\n",
       "        1059.64095777, 1050.28098266, 1042.19281156, 1032.9391263 ,\n",
       "        1024.10891041, 1015.08939487, 1005.99840318,  998.00658344,\n",
       "         989.54206583,  982.67247637,  974.74701849,  967.75572068,\n",
       "         960.74413941,  953.4520846 ,  946.03168669,  939.50525081,\n",
       "         932.3714238 ,  924.1900826 ,  917.40593292,  911.21622394,\n",
       "         905.04514234,  899.94497306,  893.26118623,  886.53260621,\n",
       "         880.34809079,  874.23410381,  868.36147661]),\n",
       " array([366.84725447, 361.85701542, 357.54688865, 353.8978141 ,\n",
       "        349.55273467, 345.86883363, 342.14351022, 338.228602  ,\n",
       "        334.55658735, 331.87937773, 329.17276688, 327.39659169,\n",
       "        324.45481672, 322.55254742, 320.10578149, 318.65640784,\n",
       "        316.40894863, 315.64199693, 313.37865264, 311.9851237 ,\n",
       "        310.15801571, 309.38181055, 307.6170865 , 306.75887185,\n",
       "        304.96277729, 304.17597021, 302.80516287, 302.24305695,\n",
       "        300.70556253, 300.14274152, 298.83593463, 298.36133357,\n",
       "        297.24370062, 296.40304195, 295.08804571, 294.33754495,\n",
       "        293.29511659, 292.97956568, 292.19762616, 291.79754309,\n",
       "        291.04487414, 290.90835008, 290.29224569, 289.91068419,\n",
       "        289.47097373, 289.02828873, 288.58724992, 288.29294024,\n",
       "        287.72216042, 287.28132401, 286.75858034, 286.23508224,\n",
       "        286.47625242, 286.89813704, 286.67185767]))"
      ]
     },
     "execution_count": 10,
     "metadata": {},
     "output_type": "execute_result"
    }
   ],
   "source": [
    "gbor.path['loss'][::2], gbor.path['loss_holdout']"
   ]
  },
  {
   "cell_type": "code",
   "execution_count": null,
   "id": "12f89b87-5288-4dd8-978c-81a3860e70de",
   "metadata": {},
   "outputs": [],
   "source": []
  }
 ],
 "metadata": {
  "kernelspec": {
   "display_name": "Python 3 (ipykernel)",
   "language": "python",
   "name": "python3"
  },
  "language_info": {
   "codemirror_mode": {
    "name": "ipython",
    "version": 3
   },
   "file_extension": ".py",
   "mimetype": "text/x-python",
   "name": "python",
   "nbconvert_exporter": "python",
   "pygments_lexer": "ipython3",
   "version": "3.11.7"
  }
 },
 "nbformat": 4,
 "nbformat_minor": 5
}
