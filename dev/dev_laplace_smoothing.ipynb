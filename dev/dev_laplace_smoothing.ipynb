{
 "cells": [
  {
   "cell_type": "code",
   "execution_count": 1,
   "id": "69774ef9-1c68-4207-8814-fc067f7e4b65",
   "metadata": {},
   "outputs": [],
   "source": [
    "import pandas as pd\n",
    "import numpy as np\n",
    "from sklearn.model_selection import train_test_split\n",
    "from gbor.main import BoostedOrdinal\n",
    "from sklearn.tree import DecisionTreeRegressor\n",
    "from sklearn.model_selection import GridSearchCV\n",
    "import time\n",
    "from sklearn.model_selection import cross_val_score, RepeatedKFold\n",
    "\n",
    "wine_red = pd.read_csv('../data/winequality-red.csv', sep = ';')\n",
    "#wine_red = pd.read_csv('../data/winequality-white.csv', sep = ';')\n",
    "wine_red['quality'] = wine_red['quality'] - np.min(wine_red['quality'])\n",
    "\n",
    "wine_red_filtered = wine_red[(wine_red['quality'] != 5) & (wine_red['quality'] != 0)]\n",
    "\n",
    "X, y = wine_red_filtered.drop(columns = ['quality']).to_numpy(), wine_red_filtered['quality'].to_numpy(dtype = 'int')"
   ]
  },
  {
   "cell_type": "code",
   "execution_count": 7,
   "id": "58b54a07-649d-4292-80d8-506eb2e4e685",
   "metadata": {},
   "outputs": [
    {
     "data": {
      "text/plain": [
       "(array([1, 2, 3, 4]), array([ 53, 681, 638, 199], dtype=int64))"
      ]
     },
     "execution_count": 7,
     "metadata": {},
     "output_type": "execute_result"
    }
   ],
   "source": [
    "np.unique(y, return_counts = True)"
   ]
  },
  {
   "cell_type": "code",
   "execution_count": 2,
   "id": "890d4935-045f-4345-a00f-7814995ac284",
   "metadata": {},
   "outputs": [
    {
     "data": {
      "text/plain": [
       "array([       -inf, -1.82851066, -0.08226415,  1.14226997])"
      ]
     },
     "execution_count": 2,
     "metadata": {},
     "output_type": "execute_result"
    }
   ],
   "source": [
    "BoostedOrdinal._initialize_thresholds(y)"
   ]
  },
  {
   "cell_type": "code",
   "execution_count": 3,
   "id": "75cf3697-51d0-4f8c-ba70-30302bd2b81b",
   "metadata": {},
   "outputs": [
    {
     "data": {
      "text/plain": [
       "array([       -inf, -1.82851066, -0.08226415,  1.14226997,         inf])"
      ]
     },
     "execution_count": 3,
     "metadata": {},
     "output_type": "execute_result"
    }
   ],
   "source": [
    "BoostedOrdinal._initialize_thresholds(y, n_class = 6)"
   ]
  },
  {
   "cell_type": "code",
   "execution_count": 4,
   "id": "9f2d6760-fb89-40f8-a602-fa8621a9dfdc",
   "metadata": {},
   "outputs": [
    {
     "data": {
      "text/plain": [
       "array([-3.22307333, -1.81351326, -0.08195045,  1.13849368,  3.22307333])"
      ]
     },
     "execution_count": 4,
     "metadata": {},
     "output_type": "execute_result"
    }
   ],
   "source": [
    "BoostedOrdinal._initialize_thresholds(y, n_class = 6, laplace_smoothing = True)"
   ]
  },
  {
   "cell_type": "code",
   "execution_count": 5,
   "id": "1615ef54-0021-4f40-8af8-b7ee1c018de9",
   "metadata": {},
   "outputs": [
    {
     "data": {
      "text/plain": [
       "(0, array([-3.22307333, -1.81351326, -0.08195045,  1.13849368,  3.22307333]))"
      ]
     },
     "execution_count": 5,
     "metadata": {},
     "output_type": "execute_result"
    }
   ],
   "source": [
    "BoostedOrdinal._initialize(y, n_class = 6, laplace_smoothing = True)"
   ]
  },
  {
   "cell_type": "code",
   "execution_count": 6,
   "id": "979dbb6c-c698-4e83-93c3-3060bbb588da",
   "metadata": {},
   "outputs": [
    {
     "data": {
      "text/plain": [
       "(0, array([       -inf, -1.82851066, -0.08226415,  1.14226997,         inf]))"
      ]
     },
     "execution_count": 6,
     "metadata": {},
     "output_type": "execute_result"
    }
   ],
   "source": [
    "BoostedOrdinal._initialize(y, n_class = 6)"
   ]
  },
  {
   "cell_type": "code",
   "execution_count": null,
   "id": "491b4b9b-efcc-4135-96fc-51640ac4909b",
   "metadata": {},
   "outputs": [],
   "source": []
  }
 ],
 "metadata": {
  "kernelspec": {
   "display_name": "Python 3 (ipykernel)",
   "language": "python",
   "name": "python3"
  },
  "language_info": {
   "codemirror_mode": {
    "name": "ipython",
    "version": 3
   },
   "file_extension": ".py",
   "mimetype": "text/x-python",
   "name": "python",
   "nbconvert_exporter": "python",
   "pygments_lexer": "ipython3",
   "version": "3.11.7"
  }
 },
 "nbformat": 4,
 "nbformat_minor": 5
}
