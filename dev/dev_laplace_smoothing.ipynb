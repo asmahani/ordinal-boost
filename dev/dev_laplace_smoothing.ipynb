{
 "cells": [
  {
   "cell_type": "code",
   "execution_count": 9,
   "id": "69774ef9-1c68-4207-8814-fc067f7e4b65",
   "metadata": {},
   "outputs": [],
   "source": [
    "import pandas as pd\n",
    "import numpy as np\n",
    "from sklearn.model_selection import train_test_split\n",
    "from gbor.main import BoostedOrdinal\n",
    "from sklearn.tree import DecisionTreeRegressor\n",
    "from sklearn.model_selection import GridSearchCV\n",
    "import time\n",
    "from sklearn.model_selection import cross_val_score, RepeatedKFold\n",
    "\n",
    "wine_red = pd.read_csv('../data/winequality-red.csv', sep = ';')\n",
    "#wine_red = pd.read_csv('../data/winequality-white.csv', sep = ';')\n",
    "wine_red['quality'] = wine_red['quality'] - np.min(wine_red['quality'])\n",
    "\n",
    "wine_red_filtered = wine_red[(wine_red['quality'] != 5) & (wine_red['quality'] != 0)]\n",
    "\n",
    "X, y = wine_red_filtered.drop(columns = ['quality']).to_numpy(), wine_red_filtered['quality'].to_numpy(dtype = 'int')"
   ]
  },
  {
   "cell_type": "code",
   "execution_count": 10,
   "id": "890d4935-045f-4345-a00f-7814995ac284",
   "metadata": {},
   "outputs": [
    {
     "data": {
      "text/plain": [
       "array([       -inf, -1.82851066, -0.08226415,  1.14226997])"
      ]
     },
     "execution_count": 10,
     "metadata": {},
     "output_type": "execute_result"
    }
   ],
   "source": [
    "BoostedOrdinal._initialize_thresholds(y)"
   ]
  },
  {
   "cell_type": "code",
   "execution_count": 11,
   "id": "75cf3697-51d0-4f8c-ba70-30302bd2b81b",
   "metadata": {},
   "outputs": [
    {
     "data": {
      "text/plain": [
       "array([       -inf, -1.82851066, -0.08226415,  1.14226997,         inf])"
      ]
     },
     "execution_count": 11,
     "metadata": {},
     "output_type": "execute_result"
    }
   ],
   "source": [
    "BoostedOrdinal._initialize_thresholds(y, n_class = 6)"
   ]
  },
  {
   "cell_type": "code",
   "execution_count": 12,
   "id": "9f2d6760-fb89-40f8-a602-fa8621a9dfdc",
   "metadata": {},
   "outputs": [
    {
     "data": {
      "text/plain": [
       "array([-3.22307333, -1.81351326, -0.08195045,  1.13849368,  3.22307333])"
      ]
     },
     "execution_count": 12,
     "metadata": {},
     "output_type": "execute_result"
    }
   ],
   "source": [
    "BoostedOrdinal._initialize_thresholds(y, n_class = 6, laplace_smoothing = True)"
   ]
  },
  {
   "cell_type": "code",
   "execution_count": null,
   "id": "1615ef54-0021-4f40-8af8-b7ee1c018de9",
   "metadata": {},
   "outputs": [],
   "source": []
  }
 ],
 "metadata": {
  "kernelspec": {
   "display_name": "Python 3 (ipykernel)",
   "language": "python",
   "name": "python3"
  },
  "language_info": {
   "codemirror_mode": {
    "name": "ipython",
    "version": 3
   },
   "file_extension": ".py",
   "mimetype": "text/x-python",
   "name": "python",
   "nbconvert_exporter": "python",
   "pygments_lexer": "ipython3",
   "version": "3.11.7"
  }
 },
 "nbformat": 4,
 "nbformat_minor": 5
}
