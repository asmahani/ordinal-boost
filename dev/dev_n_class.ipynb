{
 "cells": [
  {
   "cell_type": "code",
   "execution_count": 22,
   "id": "69774ef9-1c68-4207-8814-fc067f7e4b65",
   "metadata": {},
   "outputs": [
    {
     "data": {
      "text/plain": [
       "(array([1, 2, 3, 4, 5]), array([ 53, 681, 638, 199,  18], dtype=int64))"
      ]
     },
     "execution_count": 22,
     "metadata": {},
     "output_type": "execute_result"
    }
   ],
   "source": [
    "import pandas as pd\n",
    "import numpy as np\n",
    "from sklearn.model_selection import train_test_split\n",
    "from gbor.main import BoostedOrdinal\n",
    "from sklearn.tree import DecisionTreeRegressor\n",
    "from sklearn.model_selection import GridSearchCV\n",
    "import time\n",
    "from sklearn.model_selection import cross_val_score, RepeatedKFold\n",
    "\n",
    "wine_red = pd.read_csv('../data/winequality-red.csv', sep = ';')\n",
    "#wine_red = pd.read_csv('../data/winequality-white.csv', sep = ';')\n",
    "wine_red['quality'] = wine_red['quality'] - np.min(wine_red['quality'])\n",
    "\n",
    "#wine_red_filtered = wine_red[(wine_red['quality'] != 5) & (wine_red['quality'] != 0)]\n",
    "wine_red_filtered = wine_red[(wine_red['quality'] != 0)]\n",
    "#wine_red_filtered = wine_red\n",
    "\n",
    "X, y = wine_red_filtered.drop(columns = ['quality']).to_numpy(), wine_red_filtered['quality'].to_numpy(dtype = 'int')\n",
    "np.unique(y, return_counts=True)"
   ]
  },
  {
   "cell_type": "code",
   "execution_count": 24,
   "id": "800938c6-30f1-4b54-8f9d-f3939b0fbcc7",
   "metadata": {},
   "outputs": [
    {
     "name": "stdout",
     "output_type": "stream",
     "text": [
      "time: 0.7sec\n"
     ]
    }
   ],
   "source": [
    "t = time.time()\n",
    "new_gbor = BoostedOrdinal(\n",
    "    n_iter_no_change = 10, max_iter = 10000\n",
    "    , base_learner = DecisionTreeRegressor(max_depth = 6)\n",
    "    , lr_g = 1e-1\n",
    "    , lr_theta = 1#e-4\n",
    "    , validation_stratify = False\n",
    "    , validation_fraction = 0.2\n",
    "    , reltol = 0.0\n",
    "    , n_class = 6\n",
    ").fit(X, y)\n",
    "t = time.time() - t\n",
    "print(f'time: {round(t, 1)}sec')"
   ]
  },
  {
   "cell_type": "code",
   "execution_count": 25,
   "id": "53b814a4-5614-4886-b68f-f10e8e230114",
   "metadata": {},
   "outputs": [
    {
     "data": {
      "text/plain": [
       "array([-4.52688582, -2.83392272, -0.19806033,  1.82739516,  3.8203053 ])"
      ]
     },
     "execution_count": 25,
     "metadata": {},
     "output_type": "execute_result"
    }
   ],
   "source": [
    "new_gbor.final['theta']"
   ]
  },
  {
   "cell_type": "code",
   "execution_count": null,
   "id": "df516722-ea67-433f-9d45-2114a14348d4",
   "metadata": {},
   "outputs": [],
   "source": []
  }
 ],
 "metadata": {
  "kernelspec": {
   "display_name": "Python 3 (ipykernel)",
   "language": "python",
   "name": "python3"
  },
  "language_info": {
   "codemirror_mode": {
    "name": "ipython",
    "version": 3
   },
   "file_extension": ".py",
   "mimetype": "text/x-python",
   "name": "python",
   "nbconvert_exporter": "python",
   "pygments_lexer": "ipython3",
   "version": "3.11.7"
  }
 },
 "nbformat": 4,
 "nbformat_minor": 5
}
