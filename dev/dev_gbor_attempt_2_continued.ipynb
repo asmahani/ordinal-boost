{
 "cells": [
  {
   "cell_type": "code",
   "execution_count": 50,
   "id": "a085b863-b0bb-4f4e-a65c-6be607be1421",
   "metadata": {},
   "outputs": [],
   "source": [
    "from sklearn.base import BaseEstimator, RegressorMixin\n",
    "from sklearn.tree import DecisionTreeRegressor\n",
    "import numpy as np\n",
    "from scipy.stats import norm\n",
    "from sklearn.utils import check_X_y, check_array\n",
    "from sklearn.base import clone\n",
    "\n",
    "class BoostedOrdinal(BaseEstimator, RegressorMixin):\n",
    "    def __init__(self, base_learner = DecisionTreeRegressor(), max_iter=100, lr_g = 1.0, lr_theta = 1e-2):\n",
    "        self.base_learner = base_learner\n",
    "        self.max_iter = max_iter\n",
    "        self.lr_g = lr_g\n",
    "        self.lr_theta = lr_theta\n",
    "\n",
    "    def predict(self, X, y = None, path = False, class_labels = True):\n",
    "        check_array(X)\n",
    "        arr = np.array([learner.predict(X) + self.path['intercept'][p] for p, learner in enumerate(self.path['learner'])])\n",
    "        if path:\n",
    "            arr = np.cumsum(arr, 0) * self.lr_g + self.init['g']\n",
    "            if class_labels:\n",
    "                tmp = [BoostedOrdinal._probabilities(arr[p, :], self.path['theta'][p+1], y) for p in range(arr.shape[0])]\n",
    "                if class_labels:\n",
    "                    if y is None:\n",
    "                        return [BoostedOrdinal._class_labels(u) for u in tmp]\n",
    "                    else:\n",
    "                        return [(BoostedOrdinal._class_labels(u[0]), u[1]) for u in tmp]\n",
    "                else:\n",
    "                    return tmp\n",
    "            else:\n",
    "                return [BoostedOrdinal._probabilities(arr[p, :], self.path['theta'][p+1], y) for p in range(arr.shape[0])]\n",
    "        else:\n",
    "            arr = np.sum(arr, 0) * self.lr_g + self.init['g']\n",
    "            tmp = BoostedOrdinal._probabilities(arr, self.path['theta'][-1], y)\n",
    "            if class_labels:\n",
    "                if y is None:\n",
    "                    return BoostedOrdinal._class_labels(tmp)\n",
    "                else:\n",
    "                    return BoostedOrdinal._class_labels(tmp[0]), tmp[1]\n",
    "                    \n",
    "            else:\n",
    "                return tmp\n",
    "    \n",
    "    def _class_labels(probs, axis = 1):\n",
    "        return np.argmax(probs, axis = axis)\n",
    "    \n",
    "    def _probabilities(g, theta, y = None):\n",
    "        probs = np.array([np.diff(norm.cdf(BoostedOrdinal._pad_thresholds(theta - x))) for x in g])\n",
    "\n",
    "        if y is None:\n",
    "            return probs\n",
    "        \n",
    "        loglike = sum([np.log(probs[n, yn]) for n, yn in enumerate(y)])\n",
    "        return probs, loglike\n",
    "    \n",
    "    def _check_loss_change(loss):\n",
    "        x = np.diff(loss)\n",
    "        return (x[::2], x[1::2]) # (g, theta)\n",
    "    \n",
    "    def fit(self, X, y):\n",
    "        X, y = check_X_y(X, y)\n",
    "        ylist = BoostedOrdinal._validate_ordinal(y)\n",
    "\n",
    "        g_init, theta_init = BoostedOrdinal._initialize(y)\n",
    "        loss_init = BoostedOrdinal._loss_function(X, y, g_init, theta_init)\n",
    "\n",
    "        g, theta, loss = g_init, theta_init, loss_init\n",
    "        loss_all = []\n",
    "        learner_all = []\n",
    "        intercept_all = []\n",
    "        g_all = []\n",
    "        theta_all = []\n",
    "\n",
    "        loss_all.append(loss_init)\n",
    "        g_all.append(np.repeat(g_init, y.size))\n",
    "        theta_all.append(theta_init)\n",
    "\n",
    "        for p in range(self.max_iter):\n",
    "            \n",
    "            # update regression function\n",
    "            dg = BoostedOrdinal._derivative_g(X, y, theta, g)\n",
    "            weak_learner, h, intercept = BoostedOrdinal._fit_weak_learner(X, -dg, clone(self.base_learner))\n",
    "            g = BoostedOrdinal._update_g(g, h, lr = self.lr_g)\n",
    "            \n",
    "            # update loss\n",
    "            loss_all.append(\n",
    "                BoostedOrdinal._loss_function(X, y, g, theta)\n",
    "            )\n",
    "            \n",
    "            # update threshold vector\n",
    "            dtheta = BoostedOrdinal._derivative_threshold(X, ylist, theta, g)\n",
    "            theta = BoostedOrdinal._update_thresh(theta, dtheta, lr = self.lr_theta)\n",
    "\n",
    "            # update loss\n",
    "            loss_all.append(\n",
    "                BoostedOrdinal._loss_function(X, y, g, theta)\n",
    "            )\n",
    "            \n",
    "            learner_all.append(weak_learner)\n",
    "            intercept_all.append(intercept)\n",
    "            g_all.append(g)\n",
    "            theta_all.append(theta)\n",
    "\n",
    "        self.n_iter = self.max_iter # in future, we may exit before reaching max_iter\n",
    "        self.init = {'g': g_init, 'theta': theta_init, 'loss': loss_init}\n",
    "        self.final = {'g': g, 'theta': theta, 'loss': loss_all[-1]}\n",
    "        self.path = {'g': np.array(g_all), 'theta': np.array(theta_all), 'loss': np.array(loss_all), 'learner': learner_all, 'intercept': np.array(intercept_all)}\n",
    "        \n",
    "        return self\n",
    "    \n",
    "    def _validate_ordinal(arr):\n",
    "        \"\"\"\n",
    "        Check if the unique values in a numpy integer vector are 0, 1, ..., M with M >= 2.\n",
    "    \n",
    "        Parameters:\n",
    "        arr (numpy.ndarray): Input numpy integer vector.\n",
    "    \n",
    "        Returns:\n",
    "        bool: True if unique values are 0, 1, ..., M with M >= 2, False otherwise.\n",
    "        \"\"\"\n",
    "        if not isinstance(arr, np.ndarray):\n",
    "            raise ValueError(\"Input must be a numpy array\")\n",
    "        if arr.dtype.kind not in {'i', 'u'}:\n",
    "            raise ValueError(\"Input array must contain integers\")\n",
    "    \n",
    "        unique_values = np.unique(arr)\n",
    "        \n",
    "        if unique_values[0] != 0:\n",
    "            return []\n",
    "        \n",
    "        M = unique_values[-1]\n",
    "\n",
    "        if M < 2:\n",
    "            return []\n",
    "        \n",
    "        expected_values = np.arange(M + 1)\n",
    "\n",
    "        if np.array_equal(unique_values, expected_values):\n",
    "            #return M + 1\n",
    "            return [np.where(arr == m) for m in unique_values]\n",
    "        else:\n",
    "            return []\n",
    "    \n",
    "    def _initialize(y):\n",
    "        return (BoostedOrdinal._initialize_g(y), BoostedOrdinal._initialize_thresholds(y))\n",
    "    \n",
    "    def _initialize_g(y):\n",
    "        #return np.zeros(y.size)\n",
    "        return 0\n",
    "    \n",
    "    def _initialize_thresholds(y):\n",
    "        # Calculate the initial threshold vector\n",
    "        n_samples = len(y)\n",
    "        n_class = np.max(y) + 1\n",
    "        P = np.array([np.sum(y == i) for i in range(n_class)]) / n_samples\n",
    "        return norm.ppf(np.cumsum(P[:-1]))\n",
    "    \n",
    "    def _pad_thresholds(theta):\n",
    "        return np.insert(theta, [0, theta.size], [-np.inf, np.inf])\n",
    "    \n",
    "    def _derivative_threshold(X, ylist, thresh, g):\n",
    "        thresh_padded = BoostedOrdinal._pad_thresholds(thresh)\n",
    "        M = len(thresh)\n",
    "        ret = []\n",
    "        for m in range(M):\n",
    "            S_m = ylist[m]\n",
    "            S_mp1 = ylist[m+1]\n",
    "            v1 = np.sum(norm.pdf(thresh_padded[m+1] - g[S_m]) / (norm.cdf(thresh_padded[m+1] - g[S_m]) - norm.cdf(thresh_padded[m] - g[S_m])))\n",
    "            v2 = np.sum(norm.pdf(thresh_padded[m+1] - g[S_mp1]) / (norm.cdf(thresh_padded[m+2] - g[S_mp1]) - norm.cdf(thresh_padded[m+1] - g[S_mp1])))\n",
    "            ret.append(-v1 + v2)\n",
    "        return np.array(ret)\n",
    "\n",
    "    def _derivative_g(X, y, thresh, g):\n",
    "        thresh_padded = BoostedOrdinal._pad_thresholds(thresh)\n",
    "        ret = (norm.pdf(thresh_padded[y+1] - g) - norm.pdf(thresh_padded[y] - g)) / (norm.cdf(thresh_padded[y+1] - g) - norm.cdf(thresh_padded[y] - g))\n",
    "        return ret\n",
    "\n",
    "    def _fit_weak_learner(X, pseudo_resids, learner):\n",
    "        learner.fit(X, pseudo_resids)\n",
    "        pred = learner.predict(X)\n",
    "        intercept = -np.mean(pred) # we could also perform intercept adjustment in _update_g but mathematically the effect is the same\n",
    "        return (learner, pred + intercept, intercept)\n",
    "    \n",
    "    # replace with more sophisticated version that performs line search\n",
    "    def _update_g(g, h, lr = 1e-1):\n",
    "        return g + lr * h\n",
    "    \n",
    "    # we need to check if updated thresh is valid (must be sorted) and handle invalid ones\n",
    "    def _update_thresh(thresh, dthresh, lr = 1e-3):\n",
    "        new_thresh = thresh - lr * dthresh\n",
    "        if not np.all(np.diff(new_thresh)):\n",
    "            raise ValueError(\"updated threshold vector invalid (must have strict ascending order)\")\n",
    "        return new_thresh\n",
    "    \n",
    "    # this can be fused with _probabilities, though this is likely more efficient is the goal is only loss and not the prob matrix\n",
    "    def _loss_function(X, y, g, theta):\n",
    "        theta_padded = BoostedOrdinal._pad_thresholds(theta)\n",
    "        return -np.sum(np.log(norm.cdf(theta_padded[y + 1] - g) - norm.cdf(theta_padded[y] - g)))"
   ]
  },
  {
   "cell_type": "code",
   "execution_count": 2,
   "id": "37da0802-2b07-4502-ba80-c1b53376e470",
   "metadata": {},
   "outputs": [],
   "source": [
    "from sklearn.datasets import make_classification\n",
    "from sklearn.model_selection import train_test_split\n",
    "\n",
    "# Create a sample dataset\n",
    "X, y = make_classification(\n",
    "    n_samples=1000, n_features=20, n_classes=3, n_informative=5\n",
    "    #, random_state=1\n",
    ")\n",
    "indices = BoostedOrdinal._validate_ordinal(y)\n",
    "#print(len(indices))\n",
    "\n",
    "# Split the dataset\n",
    "X_train, X_test, y_train, y_test = train_test_split(\n",
    "    X, y, test_size=0.2\n",
    "    #, random_state=42\n",
    ")"
   ]
  },
  {
   "cell_type": "code",
   "execution_count": 78,
   "id": "545ca0b1-9ddb-4b2d-9763-3e804306e72a",
   "metadata": {},
   "outputs": [],
   "source": [
    "model = BoostedOrdinal(max_iter = 1000, lr_g = 1e-2, lr_theta = 1e-3, base_learner = DecisionTreeRegressor(max_depth = 6)).fit(X_train, y_train)"
   ]
  },
  {
   "cell_type": "code",
   "execution_count": 79,
   "id": "ea1cef11-5b91-4d11-9f80-5589fdfc8299",
   "metadata": {},
   "outputs": [
    {
     "data": {
      "image/png": "[encoded data removed]",
      "text/plain": [
       "<Figure size 1000x500 with 1 Axes>"
      ]
     },
     "metadata": {},
     "output_type": "display_data"
    }
   ],
   "source": [
    "my_pred_test = model.predict(X_test, y_test, path = True, class_labels = False)\n",
    "my_pred_train = model.predict(X_train, y_train, path = True, class_labels = False)\n",
    "\n",
    "loss_train = -np.array([tmp[1] for tmp in my_pred_train]) / X_train.shape[0]\n",
    "loss_test = -np.array([tmp[1] for tmp in my_pred_test]) / X_test.shape[0]\n",
    "\n",
    "import matplotlib.pyplot as plt\n",
    "\n",
    "indices = np.arange(len(loss_train))\n",
    "\n",
    "# Create the plot\n",
    "plt.figure(figsize=(10, 5))\n",
    "\n",
    "# Plot the first array\n",
    "plt.plot(indices, loss_train, label='Training set', marker='o')\n",
    "\n",
    "# Plot the second array\n",
    "plt.plot(indices, loss_test, label='Test set', marker='x')\n",
    "\n",
    "# Add labels and title\n",
    "plt.xlabel('Iteration No')\n",
    "plt.ylabel('Loss Function')\n",
    "plt.title('Training vs. Test Loss')\n",
    "plt.legend()\n",
    "\n",
    "# Show the plot\n",
    "plt.show()\n"
   ]
  },
  {
   "cell_type": "code",
   "execution_count": 80,
   "id": "18917dfa-1534-4ea9-be92-9230624fb835",
   "metadata": {},
   "outputs": [],
   "source": [
    "from sklearn.metrics import accuracy_score\n",
    "from mord import LogisticIT\n",
    "\n",
    "# Fit the ordered logistic regression model\n",
    "mord_model = LogisticIT()\n",
    "mord_model.fit(X_train, y_train)\n",
    "\n",
    "# Predict the classes\n",
    "y_pred_mord = mord_model.predict(X_test)\n",
    "\n",
    "# Evaluate the model\n",
    "#accuracy = accuracy_score(y_test, y_pred_mord)\n",
    "#print(f'Accuracy: {accuracy}')\n"
   ]
  },
  {
   "cell_type": "code",
   "execution_count": 81,
   "id": "777e2c4b-d41a-42f1-ab21-aa980b54f5d6",
   "metadata": {},
   "outputs": [
    {
     "data": {
      "text/plain": [
       "(0.6025, 0.59)"
      ]
     },
     "execution_count": 81,
     "metadata": {},
     "output_type": "execute_result"
    }
   ],
   "source": [
    "accuracy_score(y_train, mord_model.predict(X_train)), accuracy_score(y_test, mord_model.predict(X_test))"
   ]
  },
  {
   "cell_type": "code",
   "execution_count": 82,
   "id": "9f83d9fc-15f5-4a04-8678-b196a5617c44",
   "metadata": {},
   "outputs": [
    {
     "data": {
      "text/plain": [
       "(0.9975, 0.79)"
      ]
     },
     "execution_count": 82,
     "metadata": {},
     "output_type": "execute_result"
    }
   ],
   "source": [
    "accuracy_score(y_train, model.predict(X_train)), accuracy_score(y_test, model.predict(X_test))"
   ]
  },
  {
   "cell_type": "code",
   "execution_count": 74,
   "id": "4917c72e-fcf7-4fca-8ed7-95a44d306d54",
   "metadata": {},
   "outputs": [
    {
     "data": {
      "text/plain": [
       "(0.41, 0.485)"
      ]
     },
     "execution_count": 74,
     "metadata": {},
     "output_type": "execute_result"
    }
   ],
   "source": [
    "np.mean(y_test - y_pred_mord != 0), np.mean(abs(y_test - y_pred_mord))"
   ]
  },
  {
   "cell_type": "code",
   "execution_count": 75,
   "id": "3aeef88b-ef63-4844-90f2-ea858ee8d780",
   "metadata": {},
   "outputs": [
    {
     "data": {
      "text/plain": [
       "(0.21, 0.235)"
      ]
     },
     "execution_count": 75,
     "metadata": {},
     "output_type": "execute_result"
    }
   ],
   "source": [
    "np.mean(y_test - model.predict(X_test) != 0), np.mean(abs(y_test - model.predict(X_test)))"
   ]
  },
  {
   "cell_type": "code",
   "execution_count": 68,
   "id": "0a0f9fec-67b4-4b30-96f8-916c9913704d",
   "metadata": {},
   "outputs": [
    {
     "data": {
      "text/plain": [
       "(2.2162162162162162, 2.2045454545454546)"
      ]
     },
     "execution_count": 68,
     "metadata": {},
     "output_type": "execute_result"
    }
   ],
   "source": [
    "0.41/0.185, 0.485/0.22"
   ]
  },
  {
   "cell_type": "code",
   "execution_count": 83,
   "id": "225e3af4-7517-4282-a41a-24862d3caa29",
   "metadata": {},
   "outputs": [
    {
     "data": {
      "text/plain": [
       "0.6889433417216282"
      ]
     },
     "execution_count": 83,
     "metadata": {},
     "output_type": "execute_result"
    }
   ],
   "source": [
    "np.min(loss_test)"
   ]
  },
  {
   "cell_type": "code",
   "execution_count": null,
   "id": "e774260f-664e-48e2-86b8-aead1f785232",
   "metadata": {},
   "outputs": [],
   "source": []
  }
 ],
 "metadata": {
  "kernelspec": {
   "display_name": "Python 3 (ipykernel)",
   "language": "python",
   "name": "python3"
  },
  "language_info": {
   "codemirror_mode": {
    "name": "ipython",
    "version": 3
   },
   "file_extension": ".py",
   "mimetype": "text/x-python",
   "name": "python",
   "nbconvert_exporter": "python",
   "pygments_lexer": "ipython3",
   "version": "3.11.7"
  }
 },
 "nbformat": 4,
 "nbformat_minor": 5
}
