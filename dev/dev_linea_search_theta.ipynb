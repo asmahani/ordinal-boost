{
 "cells": [
  {
   "cell_type": "code",
   "execution_count": 1,
   "id": "69774ef9-1c68-4207-8814-fc067f7e4b65",
   "metadata": {},
   "outputs": [],
   "source": [
    "import pandas as pd\n",
    "import numpy as np\n",
    "from sklearn.model_selection import train_test_split\n",
    "from gbor.main import BoostedOrdinal\n",
    "from sklearn.tree import DecisionTreeRegressor\n",
    "from sklearn.model_selection import GridSearchCV\n",
    "import time\n",
    "from sklearn.model_selection import cross_val_score, RepeatedKFold\n",
    "from enum import Enum\n",
    "\n",
    "#wine_red = pd.read_csv('../data/winequality-red.csv', sep = ';')\n",
    "wine_red = pd.read_csv('../data/winequality-white.csv', sep = ';')\n",
    "wine_red['quality'] = wine_red['quality'] - np.min(wine_red['quality'])\n",
    "\n",
    "X, y = wine_red.drop(columns = ['quality']).to_numpy(), wine_red['quality'].to_numpy(dtype = 'int')\n",
    "\n",
    "# old stuff\n",
    "class LineSearchState(Enum):\n",
    "    IS_FIRST = 1\n",
    "    WAS_DOUBLED = 2\n",
    "    WAS_HALVED = 3\n",
    "\n",
    "def _update_thresh_dev_old(thresh, dthresh, lr, X, y, g):\n",
    "    this_state = LineSearchState.IS_FIRST\n",
    "    this_accept = BoostedOrdinal._try_thresh(thresh, thresh -lr * dthresh, X, y, g)\n",
    "    while True:\n",
    "        if this_state == LineSearchState.IS_FIRST:\n",
    "            if this_accept:\n",
    "                lr_proposed = 2.0 * lr\n",
    "                this_state = LineSearchState.WAS_DOUBLED\n",
    "            else:\n",
    "                lr_proposed = 0.5 * lr\n",
    "                this_state = LineSearchState.WAS_HALVED\n",
    "        else:\n",
    "            if (this_state == LineSearchState.WAS_DOUBLED) and this_accept:\n",
    "                # state remains was_doubled\n",
    "                lr = lr_proposed # update lr\n",
    "                lr_proposed = 2 * lr # propose new lr by doubling\n",
    "            elif (this_state == LineSearchState.WAS_HALVED) and (not this_accept):\n",
    "                # state remains was_halved\n",
    "                lr = lr_proposed # update lr\n",
    "                lr_proposed = 0.5 * lr # propose new lr by halving\n",
    "            elif (this_state == LineSearchState.WAS_DOUBLED) and (not this_accept):\n",
    "                # don't update lr, break\n",
    "                break\n",
    "            elif (this_state == LineSearchState.WAS_HALVED) and this_accept:\n",
    "                # update lr and break\n",
    "                lr = lr_proposed\n",
    "                break\n",
    "            else:\n",
    "                raise Exception('We should not have logically reached this branch!!!')\n",
    "        \n",
    "        # potential BUG: this doesn't seem perfect, we are still getting warnings which is likely triggered by this line\n",
    "        this_accept = BoostedOrdinal._try_thresh(thresh - lr * dthresh, thresh -lr_proposed * dthresh, X, y, g)\n",
    "\n",
    "    return (thresh - lr * dthresh, lr)\n"
   ]
  },
  {
   "cell_type": "code",
   "execution_count": 2,
   "id": "800938c6-30f1-4b54-8f9d-f3939b0fbcc7",
   "metadata": {},
   "outputs": [
    {
     "name": "stdout",
     "output_type": "stream",
     "text": [
      "time: 0.6 sec\n"
     ]
    }
   ],
   "source": [
    "gbor = BoostedOrdinal(\n",
    "    n_iter_no_change = 10, max_iter = 1000\n",
    "    , base_learner = DecisionTreeRegressor(max_depth = 6)\n",
    "    , lr_g = 1e-1\n",
    "    , lr_theta = 5#e-6\n",
    "    , validation_stratify = False\n",
    "    , validation_fraction = 0.2\n",
    ")\n",
    "start_time = time.time()\n",
    "gbor = gbor.fit(X, y)\n",
    "end_time = time.time()\n",
    "print('time: {} sec'.format(round(end_time - start_time, 1)))"
   ]
  },
  {
   "cell_type": "code",
   "execution_count": 3,
   "id": "a3862444-62a1-4d16-a1c5-4bdf5206828a",
   "metadata": {},
   "outputs": [
    {
     "data": {
      "text/plain": [
       "array([5.00000000e+00, 6.10351562e-04, 1.22070312e-03, 6.10351562e-04,\n",
       "       6.10351562e-04, 6.10351562e-04, 6.10351562e-04, 6.10351562e-04,\n",
       "       6.10351562e-04, 6.10351562e-04, 6.10351562e-04, 6.10351562e-04,\n",
       "       1.22070312e-03, 6.10351562e-04, 6.10351562e-04, 6.10351562e-04,\n",
       "       1.22070312e-03, 6.10351562e-04, 1.22070312e-03, 6.10351562e-04,\n",
       "       1.22070312e-03, 6.10351562e-04, 1.22070312e-03, 6.10351562e-04,\n",
       "       1.22070312e-03, 6.10351562e-04, 1.22070312e-03, 1.22070312e-03,\n",
       "       6.10351562e-04, 6.10351562e-04, 2.44140625e-03, 6.10351562e-04,\n",
       "       2.44140625e-03, 6.10351562e-04, 2.44140625e-03, 6.10351562e-04,\n",
       "       1.22070312e-03, 1.22070312e-03, 6.10351562e-04, 1.22070312e-03,\n",
       "       1.22070312e-03])"
      ]
     },
     "execution_count": 3,
     "metadata": {},
     "output_type": "execute_result"
    }
   ],
   "source": [
    "gbor.path['lr_theta']"
   ]
  },
  {
   "cell_type": "code",
   "execution_count": null,
   "id": "f35d5d36-23f9-461a-a9cc-da1b410ef715",
   "metadata": {},
   "outputs": [],
   "source": []
  }
 ],
 "metadata": {
  "kernelspec": {
   "display_name": "Python 3 (ipykernel)",
   "language": "python",
   "name": "python3"
  },
  "language_info": {
   "codemirror_mode": {
    "name": "ipython",
    "version": 3
   },
   "file_extension": ".py",
   "mimetype": "text/x-python",
   "name": "python",
   "nbconvert_exporter": "python",
   "pygments_lexer": "ipython3",
   "version": "3.11.7"
  }
 },
 "nbformat": 4,
 "nbformat_minor": 5
}
