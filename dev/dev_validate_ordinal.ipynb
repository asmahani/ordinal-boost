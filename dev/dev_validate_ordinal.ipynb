{
 "cells": [
  {
   "cell_type": "code",
   "execution_count": 1,
   "id": "69774ef9-1c68-4207-8814-fc067f7e4b65",
   "metadata": {},
   "outputs": [],
   "source": [
    "import pandas as pd\n",
    "import numpy as np\n",
    "from sklearn.model_selection import train_test_split\n",
    "from gbor.main import BoostedOrdinal\n",
    "from sklearn.tree import DecisionTreeRegressor\n",
    "from sklearn.model_selection import GridSearchCV\n",
    "import time\n",
    "from sklearn.model_selection import cross_val_score, RepeatedKFold\n",
    "\n",
    "def _validate_ordinal(arr, n_class = None):\n",
    "\n",
    "    if not isinstance(arr, np.ndarray):\n",
    "        raise ValueError(\"Input must be a numpy array\")\n",
    "    if arr.dtype.kind not in {'i', 'u'}:\n",
    "        raise ValueError(\"Input array must contain integers\")\n",
    "    \n",
    "    unique_values = np.unique(arr) # we rely on numpy.unique returning a sorted array\n",
    "    min_value, max_value = unique_values[0], unique_values[-1]\n",
    "\n",
    "    if min_value < 0:\n",
    "        raise ValueError(\"Minimum of arr cannot be less than 0\")\n",
    "\n",
    "    if not n_class:\n",
    "        check_gap = True\n",
    "        n_class = max_value + 1\n",
    "    else:\n",
    "        check_gap = False\n",
    "    \n",
    "    if max_value >= n_class:\n",
    "        raise ValueError(\"Maximum of arr cannot be more than n_class-1\")\n",
    "    \n",
    "    expected_values = np.arange(n_class)\n",
    "    \n",
    "    if check_gap:\n",
    "        if not np.array_equal(expected_values, unique_values):\n",
    "            raise ValueError(\"Unique values in arr have gaps\")\n",
    "\n",
    "    return [np.where(arr == m) for m in expected_values]"
   ]
  },
  {
   "cell_type": "code",
   "execution_count": 2,
   "id": "491b4b9b-efcc-4135-96fc-51640ac4909b",
   "metadata": {},
   "outputs": [
    {
     "data": {
      "text/plain": [
       "(array([0, 1, 2, 3, 4, 5]), array([ 10,  53, 681, 638, 199,  18], dtype=int64))"
      ]
     },
     "execution_count": 2,
     "metadata": {},
     "output_type": "execute_result"
    }
   ],
   "source": [
    "wine_red = pd.read_csv('../data/winequality-red.csv', sep = ';')\n",
    "#wine_red = pd.read_csv('../data/winequality-white.csv', sep = ';')\n",
    "wine_red['quality'] = wine_red['quality'] - np.min(wine_red['quality'])\n",
    "\n",
    "#wine_red_filtered = wine_red[(wine_red['quality'] != 5) & (wine_red['quality'] != 0)]\n",
    "wine_red_filtered = wine_red\n",
    "\n",
    "X, y = wine_red_filtered.drop(columns = ['quality']).to_numpy(), wine_red_filtered['quality'].to_numpy(dtype = 'int')\n",
    "np.unique(y, return_counts=True)"
   ]
  },
  {
   "cell_type": "code",
   "execution_count": 5,
   "id": "2394b007-f912-4bce-8aab-bc8a236a6408",
   "metadata": {},
   "outputs": [
    {
     "ename": "ValueError",
     "evalue": "Maximum of arr cannot be more than n_class-1",
     "output_type": "error",
     "traceback": [
      "\u001b[1;31m---------------------------------------------------------------------------\u001b[0m",
      "\u001b[1;31mValueError\u001b[0m                                Traceback (most recent call last)",
      "Cell \u001b[1;32mIn[5], line 1\u001b[0m\n\u001b[1;32m----> 1\u001b[0m BoostedOrdinal\u001b[38;5;241m.\u001b[39m_validate_ordinal_2(\n\u001b[0;32m      2\u001b[0m     y\n\u001b[0;32m      3\u001b[0m     , n_class \u001b[38;5;241m=\u001b[39m \u001b[38;5;241m5\u001b[39m\n\u001b[0;32m      4\u001b[0m )\n",
      "File \u001b[1;32mc:\\users\\alire\\documents\\rd\\asmahani_github\\ordinal-boost\\gbor\\main.py:371\u001b[0m, in \u001b[0;36mBoostedOrdinal._validate_ordinal_2\u001b[1;34m(arr, n_class)\u001b[0m\n\u001b[0;32m    368\u001b[0m     check_gap \u001b[38;5;241m=\u001b[39m \u001b[38;5;28;01mFalse\u001b[39;00m\n\u001b[0;32m    370\u001b[0m \u001b[38;5;28;01mif\u001b[39;00m max_value \u001b[38;5;241m>\u001b[39m\u001b[38;5;241m=\u001b[39m n_class:\n\u001b[1;32m--> 371\u001b[0m     \u001b[38;5;28;01mraise\u001b[39;00m \u001b[38;5;167;01mValueError\u001b[39;00m(\u001b[38;5;124m\"\u001b[39m\u001b[38;5;124mMaximum of arr cannot be more than n_class-1\u001b[39m\u001b[38;5;124m\"\u001b[39m)\n\u001b[0;32m    373\u001b[0m expected_values \u001b[38;5;241m=\u001b[39m np\u001b[38;5;241m.\u001b[39marange(n_class)\n\u001b[0;32m    375\u001b[0m \u001b[38;5;28;01mif\u001b[39;00m check_gap:\n",
      "\u001b[1;31mValueError\u001b[0m: Maximum of arr cannot be more than n_class-1"
     ]
    }
   ],
   "source": [
    "BoostedOrdinal._validate_ordinal_2(\n",
    "    y\n",
    "    , n_class = 5\n",
    ")"
   ]
  },
  {
   "cell_type": "code",
   "execution_count": null,
   "id": "9088bce0-6c18-49e9-8d67-a5c4cb69e9da",
   "metadata": {},
   "outputs": [],
   "source": []
  }
 ],
 "metadata": {
  "kernelspec": {
   "display_name": "Python 3 (ipykernel)",
   "language": "python",
   "name": "python3"
  },
  "language_info": {
   "codemirror_mode": {
    "name": "ipython",
    "version": 3
   },
   "file_extension": ".py",
   "mimetype": "text/x-python",
   "name": "python",
   "nbconvert_exporter": "python",
   "pygments_lexer": "ipython3",
   "version": "3.11.7"
  }
 },
 "nbformat": 4,
 "nbformat_minor": 5
}
